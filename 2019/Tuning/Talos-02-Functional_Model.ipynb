{
  "nbformat": 4,
  "nbformat_minor": 0,
  "metadata": {
    "kernelspec": {
      "name": "python3",
      "display_name": "Python 3"
    },
    "language_info": {
      "codemirror_mode": {
        "name": "ipython",
        "version": 3
      },
      "file_extension": ".py",
      "mimetype": "text/x-python",
      "name": "python",
      "nbconvert_exporter": "python",
      "pygments_lexer": "ipython3",
      "version": "3.6.8"
    },
    "colab": {
      "name": "Talos-02-Functional_Model.ipynb",
      "provenance": []
    },
    "accelerator": "GPU"
  },
  "cells": [
    {
      "cell_type": "markdown",
      "metadata": {
        "id": "Cs6x1RGgcBm8",
        "colab_type": "text"
      },
      "source": [
        "<img src='https://raw.githubusercontent.com/autonomio/hyperio/master/logo.png' width=250px>"
      ]
    },
    {
      "cell_type": "markdown",
      "metadata": {
        "id": "Bc1Xzc_ScBnF",
        "colab_type": "text"
      },
      "source": [
        "## This notebook is an adaptation of the Breath Cancer Example with Functional Model"
      ]
    },
    {
      "cell_type": "markdown",
      "metadata": {
        "id": "vVSF73TocBnL",
        "colab_type": "text"
      },
      "source": [
        "## Overview\n",
        "\n",
        "There are four steps to setting up an experiment with Talos:\n",
        "\n",
        "1) Imports and data\n",
        "\n",
        "2) Creating the Keras model\n",
        "\n",
        "3) Defining the Parameter Space Boundaries \n",
        "\n",
        "4) Running the Experiment"
      ]
    },
    {
      "cell_type": "markdown",
      "metadata": {
        "id": "rrfH6x-PcBnR",
        "colab_type": "text"
      },
      "source": [
        "## 1. The Required Inputs and Data"
      ]
    },
    {
      "cell_type": "code",
      "metadata": {
        "id": "ab3q9L5SYSTL",
        "colab_type": "code",
        "outputId": "a8f5b5d2-a714-48de-e9fb-6813712a9e6d",
        "colab": {
          "base_uri": "https://localhost:8080/",
          "height": 540
        }
      },
      "source": [
        "!pip install talos"
      ],
      "execution_count": 9,
      "outputs": [
        {
          "output_type": "stream",
          "text": [
            "Requirement already satisfied: talos in /usr/local/lib/python3.6/dist-packages (0.6.3)\n",
            "Requirement already satisfied: wrangle in /usr/local/lib/python3.6/dist-packages (from talos) (0.6.7)\n",
            "Requirement already satisfied: sklearn in /usr/local/lib/python3.6/dist-packages (from talos) (0.0)\n",
            "Requirement already satisfied: numpy in /usr/local/lib/python3.6/dist-packages (from talos) (1.17.3)\n",
            "Requirement already satisfied: pandas in /usr/local/lib/python3.6/dist-packages (from talos) (0.25.2)\n",
            "Requirement already satisfied: astetik in /usr/local/lib/python3.6/dist-packages (from talos) (1.9.9)\n",
            "Requirement already satisfied: kerasplotlib in /usr/local/lib/python3.6/dist-packages (from talos) (0.1.4)\n",
            "Requirement already satisfied: requests in /usr/local/lib/python3.6/dist-packages (from talos) (2.21.0)\n",
            "Requirement already satisfied: keras in /usr/local/lib/python3.6/dist-packages (from talos) (2.2.5)\n",
            "Requirement already satisfied: chances in /usr/local/lib/python3.6/dist-packages (from talos) (0.1.9)\n",
            "Requirement already satisfied: tqdm in /usr/local/lib/python3.6/dist-packages (from talos) (4.28.1)\n",
            "Requirement already satisfied: scipy==1.2 in /usr/local/lib/python3.6/dist-packages (from wrangle->talos) (1.2.0)\n",
            "Requirement already satisfied: statsmodels in /usr/local/lib/python3.6/dist-packages (from wrangle->talos) (0.10.1)\n",
            "Requirement already satisfied: scikit-learn in /usr/local/lib/python3.6/dist-packages (from sklearn->talos) (0.21.3)\n",
            "Requirement already satisfied: pytz>=2017.2 in /usr/local/lib/python3.6/dist-packages (from pandas->talos) (2018.9)\n",
            "Requirement already satisfied: python-dateutil>=2.6.1 in /usr/local/lib/python3.6/dist-packages (from pandas->talos) (2.6.1)\n",
            "Requirement already satisfied: geonamescache in /usr/local/lib/python3.6/dist-packages (from astetik->talos) (1.1.0)\n",
            "Requirement already satisfied: urllib3<1.25,>=1.21.1 in /usr/local/lib/python3.6/dist-packages (from requests->talos) (1.24.3)\n",
            "Requirement already satisfied: chardet<3.1.0,>=3.0.2 in /usr/local/lib/python3.6/dist-packages (from requests->talos) (3.0.4)\n",
            "Requirement already satisfied: idna<2.9,>=2.5 in /usr/local/lib/python3.6/dist-packages (from requests->talos) (2.8)\n",
            "Requirement already satisfied: certifi>=2017.4.17 in /usr/local/lib/python3.6/dist-packages (from requests->talos) (2019.9.11)\n",
            "Requirement already satisfied: six>=1.9.0 in /usr/local/lib/python3.6/dist-packages (from keras->talos) (1.12.0)\n",
            "Requirement already satisfied: pyyaml in /usr/local/lib/python3.6/dist-packages (from keras->talos) (3.13)\n",
            "Requirement already satisfied: h5py in /usr/local/lib/python3.6/dist-packages (from keras->talos) (2.8.0)\n",
            "Requirement already satisfied: keras-applications>=1.0.8 in /usr/local/lib/python3.6/dist-packages (from keras->talos) (1.0.8)\n",
            "Requirement already satisfied: keras-preprocessing>=1.1.0 in /usr/local/lib/python3.6/dist-packages (from keras->talos) (1.1.0)\n",
            "Requirement already satisfied: patsy>=0.4.0 in /usr/local/lib/python3.6/dist-packages (from statsmodels->wrangle->talos) (0.5.1)\n",
            "Requirement already satisfied: joblib>=0.11 in /usr/local/lib/python3.6/dist-packages (from scikit-learn->sklearn->talos) (0.14.0)\n"
          ],
          "name": "stdout"
        }
      ]
    },
    {
      "cell_type": "code",
      "metadata": {
        "id": "OD__X4jGe0J_",
        "colab_type": "code",
        "colab": {}
      },
      "source": [
        ""
      ],
      "execution_count": 0,
      "outputs": []
    },
    {
      "cell_type": "code",
      "metadata": {
        "id": "o1oh9THsd7be",
        "colab_type": "code",
        "colab": {}
      },
      "source": [
        "import keras\n",
        "keras.__version__\n",
        "import os"
      ],
      "execution_count": 0,
      "outputs": []
    },
    {
      "cell_type": "code",
      "metadata": {
        "id": "0xDO4uuocBnW",
        "colab_type": "code",
        "colab": {}
      },
      "source": [
        "import talos\n",
        "\n",
        "from keras.models import Sequential, Model\n",
        "from keras.layers import Dropout, Dense, Input\n",
        "from keras.losses import binary_crossentropy"
      ],
      "execution_count": 0,
      "outputs": []
    },
    {
      "cell_type": "code",
      "metadata": {
        "id": "e_dzne0FcBnt",
        "colab_type": "code",
        "colab": {}
      },
      "source": [
        "# then we load the dataset\n",
        "x, y = talos.templates.datasets.breast_cancer()\n",
        "\n",
        "# and normalize every feature to mean 0, std 1\n",
        "#x = talos.utils.rescale_meanzero(x)"
      ],
      "execution_count": 0,
      "outputs": []
    },
    {
      "cell_type": "code",
      "metadata": {
        "id": "3Of9CQTHfuAE",
        "colab_type": "code",
        "colab": {}
      },
      "source": [
        "from sklearn.preprocessing import StandardScaler\n",
        "scaler = StandardScaler() \n",
        "x_scaled = scaler.fit_transform(x)"
      ],
      "execution_count": 0,
      "outputs": []
    },
    {
      "cell_type": "code",
      "metadata": {
        "id": "KCn9AA0hf1tq",
        "colab_type": "code",
        "outputId": "1891db82-2d0a-4b9a-cce7-2bf5dff5987b",
        "colab": {
          "base_uri": "https://localhost:8080/",
          "height": 35
        }
      },
      "source": [
        "x=x_scaled\n",
        "x_scaled.mean(),x_scaled.std()\n"
      ],
      "execution_count": 14,
      "outputs": [
        {
          "output_type": "execute_result",
          "data": {
            "text/plain": [
              "(1.2487570048507913e-18, 1.0)"
            ]
          },
          "metadata": {
            "tags": []
          },
          "execution_count": 14
        }
      ]
    },
    {
      "cell_type": "markdown",
      "metadata": {
        "id": "rEhTzySAcBn8",
        "colab_type": "text"
      },
      "source": [
        "## 2. Creating the Keras Model"
      ]
    },
    {
      "cell_type": "code",
      "metadata": {
        "id": "1NLF9Nm6cBoA",
        "colab_type": "code",
        "colab": {}
      },
      "source": [
        "# first we have to make sure to input data and params into the function\n",
        "def breast_cancer_model(x_train, y_train, x_val, y_val, params):\n",
        "    print(\"\\nParams:\",params)\n",
        "    inputs = Input(shape=(x_train.shape[1],))\n",
        "    \n",
        "    layer = Dense(params['first_neuron'], activation=params['activation'], \n",
        "                  kernel_initializer=params['kernel_initializer'])(inputs)\n",
        "    \n",
        "    layer = Dropout(params['dropout'])(layer)\n",
        "    \n",
        "    outputs = Dense(1, activation=params['last_activation'],\n",
        "                    kernel_initializer=params['kernel_initializer'])(layer)\n",
        "        \n",
        "    model = Model(inputs, outputs)\n",
        "    \n",
        "    \n",
        "    model.compile(loss=params['losses'],\n",
        "                  optimizer=params['optimizer'],\n",
        "                  metrics=['acc'])\n",
        "    \n",
        "    history = model.fit(x_train, y_train, \n",
        "                        validation_data=[x_val, y_val],\n",
        "                        batch_size=params['batch_size'],\n",
        "                        epochs=params['epochs'],\n",
        "                        verbose=0)\n",
        "\n",
        "    return history, model"
      ],
      "execution_count": 0,
      "outputs": []
    },
    {
      "cell_type": "markdown",
      "metadata": {
        "id": "SgGMlx7HcBoM",
        "colab_type": "text"
      },
      "source": [
        "## 3. Defining the Parameter Space Boundary"
      ]
    },
    {
      "cell_type": "code",
      "metadata": {
        "id": "8OUZfYgjcBoR",
        "colab_type": "code",
        "colab": {}
      },
      "source": [
        "# then we can go ahead and set the parameter space\n",
        "p = {'first_neuron':[9, 10, 11],\n",
        "     'batch_size': [30],\n",
        "     'epochs': [100],\n",
        "     'dropout': [0],\n",
        "     'kernel_initializer': ['uniform','normal'],\n",
        "     'optimizer': ['Nadam', 'Adam'],\n",
        "     'losses': ['binary_crossentropy'],\n",
        "     'activation':['relu', 'elu'],\n",
        "     'last_activation': ['sigmoid']}"
      ],
      "execution_count": 0,
      "outputs": []
    },
    {
      "cell_type": "markdown",
      "metadata": {
        "id": "m1yQf0aIcBoe",
        "colab_type": "text"
      },
      "source": [
        "## 4. Starting the Experiment"
      ]
    },
    {
      "cell_type": "code",
      "metadata": {
        "id": "rjB3QFN0cBoi",
        "colab_type": "code",
        "colab": {
          "base_uri": "https://localhost:8080/",
          "height": 1000
        },
        "outputId": "b36fc03b-1fa8-4fc3-e926-0ce96b5207b8"
      },
      "source": [
        "# and run the experiment\n",
        "t = talos.Scan(x=x,\n",
        "               y=y,\n",
        "               model=breast_cancer_model,\n",
        "               params=p,\n",
        "               experiment_name='breast_cancer',\n",
        "               fraction_limit=0.5)"
      ],
      "execution_count": 17,
      "outputs": [
        {
          "output_type": "stream",
          "text": [
            "\r  0%|          | 0/12 [00:00<?, ?it/s]"
          ],
          "name": "stderr"
        },
        {
          "output_type": "stream",
          "text": [
            "\n",
            "Params: {'activation': 'elu', 'batch_size': 30, 'dropout': 0, 'epochs': 100, 'first_neuron': 11, 'kernel_initializer': 'uniform', 'last_activation': 'sigmoid', 'losses': 'binary_crossentropy', 'optimizer': 'Adam'}\n",
            "WARNING:tensorflow:From /usr/local/lib/python3.6/dist-packages/keras/backend/tensorflow_backend.py:66: The name tf.get_default_graph is deprecated. Please use tf.compat.v1.get_default_graph instead.\n",
            "\n",
            "WARNING:tensorflow:From /usr/local/lib/python3.6/dist-packages/keras/backend/tensorflow_backend.py:541: The name tf.placeholder is deprecated. Please use tf.compat.v1.placeholder instead.\n",
            "\n",
            "WARNING:tensorflow:From /usr/local/lib/python3.6/dist-packages/keras/backend/tensorflow_backend.py:4432: The name tf.random_uniform is deprecated. Please use tf.random.uniform instead.\n",
            "\n",
            "WARNING:tensorflow:From /usr/local/lib/python3.6/dist-packages/keras/optimizers.py:793: The name tf.train.Optimizer is deprecated. Please use tf.compat.v1.train.Optimizer instead.\n",
            "\n",
            "WARNING:tensorflow:From /usr/local/lib/python3.6/dist-packages/keras/backend/tensorflow_backend.py:3657: The name tf.log is deprecated. Please use tf.math.log instead.\n",
            "\n",
            "WARNING:tensorflow:From /usr/local/lib/python3.6/dist-packages/tensorflow_core/python/ops/nn_impl.py:183: where (from tensorflow.python.ops.array_ops) is deprecated and will be removed in a future version.\n",
            "Instructions for updating:\n",
            "Use tf.where in 2.0, which has the same broadcast rule as np.where\n",
            "WARNING:tensorflow:From /usr/local/lib/python3.6/dist-packages/keras/backend/tensorflow_backend.py:1033: The name tf.assign_add is deprecated. Please use tf.compat.v1.assign_add instead.\n",
            "\n",
            "WARNING:tensorflow:From /usr/local/lib/python3.6/dist-packages/keras/backend/tensorflow_backend.py:1020: The name tf.assign is deprecated. Please use tf.compat.v1.assign instead.\n",
            "\n",
            "WARNING:tensorflow:From /usr/local/lib/python3.6/dist-packages/keras/backend/tensorflow_backend.py:3005: The name tf.Session is deprecated. Please use tf.compat.v1.Session instead.\n",
            "\n",
            "WARNING:tensorflow:From /usr/local/lib/python3.6/dist-packages/keras/backend/tensorflow_backend.py:190: The name tf.get_default_session is deprecated. Please use tf.compat.v1.get_default_session instead.\n",
            "\n",
            "WARNING:tensorflow:From /usr/local/lib/python3.6/dist-packages/keras/backend/tensorflow_backend.py:197: The name tf.ConfigProto is deprecated. Please use tf.compat.v1.ConfigProto instead.\n",
            "\n",
            "WARNING:tensorflow:From /usr/local/lib/python3.6/dist-packages/keras/backend/tensorflow_backend.py:207: The name tf.global_variables is deprecated. Please use tf.compat.v1.global_variables instead.\n",
            "\n",
            "WARNING:tensorflow:From /usr/local/lib/python3.6/dist-packages/keras/backend/tensorflow_backend.py:216: The name tf.is_variable_initialized is deprecated. Please use tf.compat.v1.is_variable_initialized instead.\n",
            "\n",
            "WARNING:tensorflow:From /usr/local/lib/python3.6/dist-packages/keras/backend/tensorflow_backend.py:223: The name tf.variables_initializer is deprecated. Please use tf.compat.v1.variables_initializer instead.\n",
            "\n",
            "WARNING:tensorflow:From /usr/local/lib/python3.6/dist-packages/keras/backend/tensorflow_backend.py:107: The name tf.reset_default_graph is deprecated. Please use tf.compat.v1.reset_default_graph instead.\n",
            "\n",
            "WARNING:tensorflow:From /usr/local/lib/python3.6/dist-packages/keras/backend/tensorflow_backend.py:111: The name tf.placeholder_with_default is deprecated. Please use tf.compat.v1.placeholder_with_default instead.\n",
            "\n"
          ],
          "name": "stdout"
        },
        {
          "output_type": "stream",
          "text": [
            "\r  8%|▊         | 1/12 [00:12<02:17, 12.52s/it]"
          ],
          "name": "stderr"
        },
        {
          "output_type": "stream",
          "text": [
            "\n",
            "Params: {'activation': 'relu', 'batch_size': 30, 'dropout': 0, 'epochs': 100, 'first_neuron': 9, 'kernel_initializer': 'normal', 'last_activation': 'sigmoid', 'losses': 'binary_crossentropy', 'optimizer': 'Adam'}\n",
            "WARNING:tensorflow:From /usr/local/lib/python3.6/dist-packages/keras/backend/tensorflow_backend.py:4409: The name tf.random_normal is deprecated. Please use tf.random.normal instead.\n",
            "\n"
          ],
          "name": "stdout"
        },
        {
          "output_type": "stream",
          "text": [
            "\r 17%|█▋        | 2/12 [00:19<01:48, 10.88s/it]"
          ],
          "name": "stderr"
        },
        {
          "output_type": "stream",
          "text": [
            "\n",
            "Params: {'activation': 'relu', 'batch_size': 30, 'dropout': 0, 'epochs': 100, 'first_neuron': 11, 'kernel_initializer': 'normal', 'last_activation': 'sigmoid', 'losses': 'binary_crossentropy', 'optimizer': 'Adam'}\n"
          ],
          "name": "stdout"
        },
        {
          "output_type": "stream",
          "text": [
            "\r 25%|██▌       | 3/12 [00:26<01:26,  9.63s/it]"
          ],
          "name": "stderr"
        },
        {
          "output_type": "stream",
          "text": [
            "\n",
            "Params: {'activation': 'relu', 'batch_size': 30, 'dropout': 0, 'epochs': 100, 'first_neuron': 10, 'kernel_initializer': 'normal', 'last_activation': 'sigmoid', 'losses': 'binary_crossentropy', 'optimizer': 'Adam'}\n"
          ],
          "name": "stdout"
        },
        {
          "output_type": "stream",
          "text": [
            "\r 33%|███▎      | 4/12 [00:33<01:10,  8.86s/it]"
          ],
          "name": "stderr"
        },
        {
          "output_type": "stream",
          "text": [
            "\n",
            "Params: {'activation': 'elu', 'batch_size': 30, 'dropout': 0, 'epochs': 100, 'first_neuron': 9, 'kernel_initializer': 'normal', 'last_activation': 'sigmoid', 'losses': 'binary_crossentropy', 'optimizer': 'Nadam'}\n"
          ],
          "name": "stdout"
        },
        {
          "output_type": "stream",
          "text": [
            "\r 42%|████▏     | 5/12 [00:40<00:58,  8.40s/it]"
          ],
          "name": "stderr"
        },
        {
          "output_type": "stream",
          "text": [
            "\n",
            "Params: {'activation': 'relu', 'batch_size': 30, 'dropout': 0, 'epochs': 100, 'first_neuron': 10, 'kernel_initializer': 'uniform', 'last_activation': 'sigmoid', 'losses': 'binary_crossentropy', 'optimizer': 'Nadam'}\n"
          ],
          "name": "stdout"
        },
        {
          "output_type": "stream",
          "text": [
            "\r 50%|█████     | 6/12 [00:47<00:48,  8.04s/it]"
          ],
          "name": "stderr"
        },
        {
          "output_type": "stream",
          "text": [
            "\n",
            "Params: {'activation': 'relu', 'batch_size': 30, 'dropout': 0, 'epochs': 100, 'first_neuron': 11, 'kernel_initializer': 'uniform', 'last_activation': 'sigmoid', 'losses': 'binary_crossentropy', 'optimizer': 'Adam'}\n"
          ],
          "name": "stdout"
        },
        {
          "output_type": "stream",
          "text": [
            "\r 58%|█████▊    | 7/12 [00:54<00:38,  7.68s/it]"
          ],
          "name": "stderr"
        },
        {
          "output_type": "stream",
          "text": [
            "\n",
            "Params: {'activation': 'elu', 'batch_size': 30, 'dropout': 0, 'epochs': 100, 'first_neuron': 10, 'kernel_initializer': 'normal', 'last_activation': 'sigmoid', 'losses': 'binary_crossentropy', 'optimizer': 'Adam'}\n"
          ],
          "name": "stdout"
        },
        {
          "output_type": "stream",
          "text": [
            "\r 67%|██████▋   | 8/12 [01:01<00:29,  7.38s/it]"
          ],
          "name": "stderr"
        },
        {
          "output_type": "stream",
          "text": [
            "\n",
            "Params: {'activation': 'elu', 'batch_size': 30, 'dropout': 0, 'epochs': 100, 'first_neuron': 11, 'kernel_initializer': 'uniform', 'last_activation': 'sigmoid', 'losses': 'binary_crossentropy', 'optimizer': 'Nadam'}\n"
          ],
          "name": "stdout"
        },
        {
          "output_type": "stream",
          "text": [
            "\r 75%|███████▌  | 9/12 [01:08<00:22,  7.36s/it]"
          ],
          "name": "stderr"
        },
        {
          "output_type": "stream",
          "text": [
            "\n",
            "Params: {'activation': 'elu', 'batch_size': 30, 'dropout': 0, 'epochs': 100, 'first_neuron': 10, 'kernel_initializer': 'uniform', 'last_activation': 'sigmoid', 'losses': 'binary_crossentropy', 'optimizer': 'Adam'}\n"
          ],
          "name": "stdout"
        },
        {
          "output_type": "stream",
          "text": [
            "\r 83%|████████▎ | 10/12 [01:15<00:14,  7.26s/it]"
          ],
          "name": "stderr"
        },
        {
          "output_type": "stream",
          "text": [
            "\n",
            "Params: {'activation': 'elu', 'batch_size': 30, 'dropout': 0, 'epochs': 100, 'first_neuron': 9, 'kernel_initializer': 'uniform', 'last_activation': 'sigmoid', 'losses': 'binary_crossentropy', 'optimizer': 'Adam'}\n"
          ],
          "name": "stdout"
        },
        {
          "output_type": "stream",
          "text": [
            "\r 92%|█████████▏| 11/12 [01:22<00:07,  7.20s/it]"
          ],
          "name": "stderr"
        },
        {
          "output_type": "stream",
          "text": [
            "\n",
            "Params: {'activation': 'relu', 'batch_size': 30, 'dropout': 0, 'epochs': 100, 'first_neuron': 9, 'kernel_initializer': 'uniform', 'last_activation': 'sigmoid', 'losses': 'binary_crossentropy', 'optimizer': 'Nadam'}\n"
          ],
          "name": "stdout"
        },
        {
          "output_type": "stream",
          "text": [
            "\r100%|██████████| 12/12 [01:30<00:00,  7.29s/it]\n"
          ],
          "name": "stderr"
        }
      ]
    }
  ]
}