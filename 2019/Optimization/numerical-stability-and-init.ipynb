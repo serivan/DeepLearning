{
 "cells": [
  {
   "cell_type": "markdown",
   "metadata": {
    "slideshow": {
     "slide_type": "slide"
    }
   },
   "source": [
    "# Numerical Stability and Initialization"
   ]
  },
  {
   "cell_type": "code",
   "execution_count": 1,
   "metadata": {},
   "outputs": [
    {
     "name": "stdout",
     "output_type": "stream",
     "text": [
      "Traceback (most recent call last):\n",
      "  File \"/home/iserina/.local/bin/pip\", line 7, in <module>\n",
      "    from pip._internal import main\n",
      "ModuleNotFoundError: No module named 'pip._internal'\n",
      "Traceback (most recent call last):\n",
      "  File \"/home/iserina/.local/bin/pip\", line 7, in <module>\n",
      "    from pip._internal import main\n",
      "ModuleNotFoundError: No module named 'pip._internal'\n"
     ]
    }
   ],
   "source": [
    "!pip install mxnet\n",
    "!pip install d2l"
   ]
  },
  {
   "cell_type": "code",
   "execution_count": 2,
   "metadata": {},
   "outputs": [],
   "source": [
    "%matplotlib inline\n",
    "import math\n",
    "from mxnet import nd, autograd\n",
    "from matplotlib import pyplot as plt\n",
    "from IPython import display\n",
    "display.set_matplotlib_formats('svg')"
   ]
  },
  {
   "cell_type": "markdown",
   "metadata": {
    "slideshow": {
     "slide_type": "slide"
    }
   },
   "source": [
    "## Product of Random Matrices"
   ]
  },
  {
   "cell_type": "code",
   "execution_count": 3,
   "metadata": {},
   "outputs": [],
   "source": [
    "def prod_rand_matrices(scale, k):\n",
    "    Y = nd.diag(nd.ones(k))\n",
    "    for i in range(100):\n",
    "        W = nd.random.normal(shape=(k,k), scale=scale)\n",
    "        Y = nd.dot(W, Y)\n",
    "    return Y"
   ]
  },
  {
   "cell_type": "markdown",
   "metadata": {
    "slideshow": {
     "slide_type": "slide"
    }
   },
   "source": [
    "## Sensitive "
   ]
  },
  {
   "cell_type": "code",
   "execution_count": 4,
   "metadata": {
    "scrolled": false
   },
   "outputs": [
    {
     "name": "stdout",
     "output_type": "stream",
     "text": [
      "\n",
      "[[-3.0383111e-05  1.0993276e-05  1.3308806e-05 -6.5295076e-06]\n",
      " [-3.8170743e-05  1.3811012e-05  1.6720047e-05 -8.2031147e-06]\n",
      " [ 3.1549363e-05 -1.1415253e-05 -1.3819666e-05  6.7801420e-06]\n",
      " [ 2.8754292e-05 -1.0403934e-05 -1.2595330e-05  6.1794649e-06]]\n",
      "<NDArray 4x4 @cpu(0)>\n",
      "\n",
      "[[ -1072696.1   15321461.    37594224.   -14354324.  ]\n",
      " [   559049.1   -7984973.   -19592708.     7480936.  ]\n",
      " [   568999.56  -8127098.   -19941440.     7614089.5 ]\n",
      " [ -2092054.5   29881096.    73319176.   -27994908.  ]]\n",
      "<NDArray 4x4 @cpu(0)>\n"
     ]
    }
   ],
   "source": [
    "print(prod_rand_matrices(.5, 4))\n",
    "print(prod_rand_matrices(.7, 4))"
   ]
  },
  {
   "cell_type": "markdown",
   "metadata": {
    "slideshow": {
     "slide_type": "slide"
    }
   },
   "source": [
    "## Synthetic Gradients for MLP\n"
   ]
  },
  {
   "cell_type": "code",
   "execution_count": 5,
   "metadata": {},
   "outputs": [],
   "source": [
    "def synthetic_grad(k, sigma, d_sigma, get_weight):\n",
    "    res = []\n",
    "    for repeat in range(10):\n",
    "        x = nd.random.normal(shape=k)\n",
    "        h = nd.ones(k)\n",
    "        Y = nd.diag(nd.ones(k))\n",
    "        for i in range(50):\n",
    "            W = get_weight((k, k))\n",
    "            Wh = nd.dot(W, h)\n",
    "            Y = nd.dot(d_sigma(Wh)*W.T, Y)\n",
    "            h = sigma(Wh)\n",
    "        res.append(Y.abs().mean().asscalar())\n",
    "    return sum(res)/len(res)"
   ]
  },
  {
   "cell_type": "markdown",
   "metadata": {
    "slideshow": {
     "slide_type": "slide"
    }
   },
   "source": [
    "## ReLU \n",
    "\n"
   ]
  },
  {
   "cell_type": "code",
   "execution_count": 6,
   "metadata": {},
   "outputs": [
    {
     "name": "stdout",
     "output_type": "stream",
     "text": [
      "scale 0.1 gradient mean 1.4038878531907883e-09\n",
      "scale 0.2 gradient mean 1318943.45\n",
      "scale 0.4 gradient mean 1.7015228207303707e+21\n",
      "scale 0.8 gradient mean nan\n"
     ]
    }
   ],
   "source": [
    "k = 100\n",
    "sigma = nd.relu\n",
    "d_sigma = lambda x : x > 0\n",
    "def get_weight(scale):\n",
    "    return lambda shape : nd.random.normal(scale=scale, shape=shape)\n",
    "\n",
    "for scale in [0.1, 0.2, 0.4, 0.8]:\n",
    "    print('scale', scale, 'gradient mean', \n",
    "          synthetic_grad(k, sigma, d_sigma, get_weight(scale)))"
   ]
  },
  {
   "cell_type": "markdown",
   "metadata": {
    "slideshow": {
     "slide_type": "slide"
    }
   },
   "source": [
    "## Xavier"
   ]
  },
  {
   "cell_type": "code",
   "execution_count": 7,
   "metadata": {},
   "outputs": [
    {
     "data": {
      "text/plain": [
       "1.1741994598857275e-09"
      ]
     },
     "execution_count": 7,
     "metadata": {},
     "output_type": "execute_result"
    }
   ],
   "source": [
    "scale = (6.0/(k+k))**.5\n",
    "xavier = lambda shape : nd.random.uniform(low=-scale, high=scale, shape=shape)\n",
    "synthetic_grad(k, sigma, d_sigma, xavier)"
   ]
  },
  {
   "cell_type": "markdown",
   "metadata": {
    "slideshow": {
     "slide_type": "slide"
    }
   },
   "source": [
    "## Sigmoid"
   ]
  },
  {
   "cell_type": "code",
   "execution_count": 8,
   "metadata": {},
   "outputs": [
    {
     "name": "stdout",
     "output_type": "stream",
     "text": [
      "scale 0.1 gradient mean 2.3150346089870423e-33\n",
      "scale 0.2 gradient mean 3.689017464558497e-21\n",
      "scale 0.4 gradient mean 4.3340464572251545e-12\n",
      "scale 0.8 gradient mean 5.191878954065032e-05\n"
     ]
    }
   ],
   "source": [
    "sigma = nd.sigmoid\n",
    "d_sigma = lambda x : (1-nd.sigmoid(x))*nd.sigmoid(x)\n",
    "for scale in [0.1, 0.2, 0.4, 0.8]:\n",
    "    print('scale', scale, 'gradient mean',\n",
    "          synthetic_grad(k, sigma, d_sigma, get_weight(scale)))"
   ]
  },
  {
   "cell_type": "markdown",
   "metadata": {
    "slideshow": {
     "slide_type": "slide"
    }
   },
   "source": [
    "## Scaled Sigmoid\n"
   ]
  },
  {
   "cell_type": "code",
   "execution_count": 9,
   "metadata": {},
   "outputs": [
    {
     "name": "stdout",
     "output_type": "stream",
     "text": [
      "scale 0.1 gradient mean 0.011168299429118633\n",
      "scale 0.2 gradient mean 236.85642356872557\n",
      "scale 0.4 gradient mean 47525888.725\n",
      "scale 0.8 gradient mean 43667959657267.2\n"
     ]
    }
   ],
   "source": [
    "sigma = lambda x: 4 * nd.sigmoid(x) - 2\n",
    "d_sigma = lambda x : 4 * (1-nd.sigmoid(x))*nd.sigmoid(x)\n",
    "for scale in [0.1, 0.2, 0.4, 0.8]:\n",
    "    print('scale', scale, 'gradient mean',\n",
    "          synthetic_grad(k, sigma, d_sigma, get_weight(scale)))"
   ]
  }
 ],
 "metadata": {
  "celltoolbar": "Slideshow",
  "kernelspec": {
   "display_name": "Python 3",
   "language": "python",
   "name": "python3"
  },
  "language_info": {
   "codemirror_mode": {
    "name": "ipython",
    "version": 3
   },
   "file_extension": ".py",
   "mimetype": "text/x-python",
   "name": "python",
   "nbconvert_exporter": "python",
   "pygments_lexer": "ipython3",
   "version": "3.6.8"
  }
 },
 "nbformat": 4,
 "nbformat_minor": 2
}
