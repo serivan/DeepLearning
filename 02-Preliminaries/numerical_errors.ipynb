{
  "nbformat": 4,
  "nbformat_minor": 0,
  "metadata": {
    "colab": {
      "name": "numerical_errors.ipynb",
      "provenance": [],
      "include_colab_link": true
    },
    "kernelspec": {
      "display_name": "Python 2",
      "language": "python",
      "name": "python2"
    },
    "language_info": {
      "codemirror_mode": {
        "name": "ipython",
        "version": 3
      },
      "file_extension": ".py",
      "mimetype": "text/x-python",
      "name": "python",
      "nbconvert_exporter": "python",
      "pygments_lexer": "ipython3",
      "version": "3.6.9"
    }
  },
  "cells": [
    {
      "cell_type": "markdown",
      "metadata": {
        "id": "view-in-github",
        "colab_type": "text"
      },
      "source": [
        "<a href=\"https://colab.research.google.com/github/serivan/DeepLearning/blob/master/02-Preliminaries/numerical_errors.ipynb\" target=\"_parent\"><img src=\"https://colab.research.google.com/assets/colab-badge.svg\" alt=\"Open In Colab\"/></a>"
      ]
    },
    {
      "cell_type": "markdown",
      "metadata": {
        "id": "NHkLBO61H_IM"
      },
      "source": [
        "# Rounding and truncation errors"
      ]
    },
    {
      "cell_type": "markdown",
      "metadata": {
        "id": "VparFXTL0lNb"
      },
      "source": [
        "Adding a very small numb er to a larger one may have no eﬀect. This can cause large changes downstream:"
      ]
    },
    {
      "cell_type": "code",
      "metadata": {
        "id": "bTG6FgOCYzkf"
      },
      "source": [
        "import numpy as np\n",
        "import tensorflow as tf"
      ],
      "execution_count": 36,
      "outputs": []
    },
    {
      "cell_type": "code",
      "metadata": {
        "colab": {
          "base_uri": "https://localhost:8080/"
        },
        "id": "cNj-fRoEYW07",
        "outputId": "0c2b7b49-f7b7-4c47-f9cc-9bd4e7539b71"
      },
      "source": [
        "a = np.array([0., 1e-8]).astype('float32')\n",
        "a"
      ],
      "execution_count": 16,
      "outputs": [
        {
          "output_type": "execute_result",
          "data": {
            "text/plain": [
              "array([0.e+00, 1.e-08], dtype=float32)"
            ]
          },
          "metadata": {},
          "execution_count": 16
        }
      ]
    },
    {
      "cell_type": "code",
      "metadata": {
        "id": "fxQn13xp1KDy"
      },
      "source": [
        "a+1"
      ],
      "execution_count": null,
      "outputs": []
    },
    {
      "cell_type": "markdown",
      "metadata": {
        "id": "csidO6Dh2Db0"
      },
      "source": [
        "##exp(x) overflows for large x"
      ]
    },
    {
      "cell_type": "code",
      "metadata": {
        "colab": {
          "base_uri": "https://localhost:8080/",
          "height": 35
        },
        "id": "4buIuUeB1tJI",
        "scrolled": true,
        "outputId": "bb2c8bb0-e6c4-4d45-978c-da775b6b091e"
      },
      "source": [
        "x=88\n",
        "np.exp(x).astype('float32')"
      ],
      "execution_count": null,
      "outputs": [
        {
          "data": {
            "text/plain": [
              "1.6516363e+38"
            ]
          },
          "execution_count": 8,
          "metadata": {},
          "output_type": "execute_result"
        }
      ]
    },
    {
      "cell_type": "code",
      "metadata": {
        "id": "sQ0rujHC2Kr6"
      },
      "source": [
        "x=-100 #Check what happen at different values of x\n",
        "np.exp(x).astype('float32')"
      ],
      "execution_count": null,
      "outputs": []
    },
    {
      "cell_type": "markdown",
      "metadata": {
        "id": "XPk6kabb3NLc"
      },
      "source": [
        "log(0) = - inf"
      ]
    },
    {
      "cell_type": "code",
      "metadata": {
        "id": "VLE0UQT-272U"
      },
      "source": [
        "np.log(0)"
      ],
      "execution_count": null,
      "outputs": []
    },
    {
      "cell_type": "markdown",
      "metadata": {
        "id": "oGEhF8PpBymj"
      },
      "source": [
        "#log(sum(exp))\n",
        "Naive implementation\n",
        "Failure modes:\n",
        "• If any entry is very large, exp overflows\n",
        "• If all entries are very negative, all exps\n",
        "underflow... and then log is -inf\n",
        "Failure modes:\n",
        "• If any entry is very large, exp overflows\n",
        "• If all entries are very negative, all exps\n",
        "underflow... and then log is -inf"
      ]
    },
    {
      "cell_type": "code",
      "metadata": {
        "colab": {
          "base_uri": "https://localhost:8080/"
        },
        "id": "ibPBO2pC3M3N",
        "outputId": "2a173ce8-505a-4ea7-9334-1df57e6e221c"
      },
      "source": [
        "a = np.array([0,88]).astype('float32')\n",
        "np.log(np.sum(np.exp(a)))"
      ],
      "execution_count": 14,
      "outputs": [
        {
          "output_type": "execute_result",
          "data": {
            "text/plain": [
              "88.0"
            ]
          },
          "metadata": {},
          "execution_count": 14
        }
      ]
    },
    {
      "cell_type": "code",
      "metadata": {
        "colab": {
          "base_uri": "https://localhost:8080/"
        },
        "id": "4mKmSRbzBymk",
        "outputId": "dcaea74e-afac-4469-b725-aaa52ad86287"
      },
      "source": [
        "a = np.array([ -100]).astype('float32')\n",
        "np.exp(a)"
      ],
      "execution_count": 29,
      "outputs": [
        {
          "output_type": "execute_result",
          "data": {
            "text/plain": [
              "array([3.8e-44], dtype=float32)"
            ]
          },
          "metadata": {},
          "execution_count": 29
        }
      ]
    },
    {
      "cell_type": "code",
      "metadata": {
        "id": "LolcgnhKMxvH",
        "outputId": "34446fe4-cf3c-4e5f-cb68-443d3dcc6136",
        "colab": {
          "base_uri": "https://localhost:8080/"
        }
      },
      "source": [
        "np.log(np.sum(np.exp(a)))"
      ],
      "execution_count": 30,
      "outputs": [
        {
          "output_type": "execute_result",
          "data": {
            "text/plain": [
              "-99.98309"
            ]
          },
          "metadata": {},
          "execution_count": 30
        }
      ]
    },
    {
      "cell_type": "markdown",
      "metadata": {
        "id": "V1WzwJUzBymu"
      },
      "source": [
        "Stable version"
      ]
    },
    {
      "cell_type": "code",
      "metadata": {
        "colab": {
          "base_uri": "https://localhost:8080/"
        },
        "id": "2pBJa4AeBymv",
        "outputId": "622b1d3b-e440-44da-a656-a0c20e6edb27"
      },
      "source": [
        "a = np.array([0,100]).astype('float32')\n",
        "mx=np.max(a)\n",
        "safe_array=a-mx\n",
        "log_sum_exp= mx + np.log(np.sum(np.exp(safe_array)))\n",
        "log_sum_exp                          "
      ],
      "execution_count": 31,
      "outputs": [
        {
          "output_type": "execute_result",
          "data": {
            "text/plain": [
              "100.0"
            ]
          },
          "metadata": {},
          "execution_count": 31
        }
      ]
    },
    {
      "cell_type": "markdown",
      "metadata": {
        "id": "GSw4fRoOBym1"
      },
      "source": [
        "Built in versions"
      ]
    },
    {
      "cell_type": "code",
      "metadata": {
        "colab": {
          "base_uri": "https://localhost:8080/"
        },
        "id": "PnPNWdQPBym2",
        "outputId": "bf9881cf-de54-43e1-ea57-874ed67d143a"
      },
      "source": [
        "np.logaddexp.reduce(a)"
      ],
      "execution_count": 34,
      "outputs": [
        {
          "output_type": "execute_result",
          "data": {
            "text/plain": [
              "100.0"
            ]
          },
          "metadata": {},
          "execution_count": 34
        }
      ]
    },
    {
      "cell_type": "code",
      "metadata": {
        "colab": {
          "base_uri": "https://localhost:8080/"
        },
        "id": "btzXJFocBym5",
        "outputId": "aeded873-cc2b-4989-8f7f-31a9727699a7"
      },
      "source": [
        "from scipy.special import logsumexp\n",
        "logsumexp(a)"
      ],
      "execution_count": 38,
      "outputs": [
        {
          "output_type": "execute_result",
          "data": {
            "text/plain": [
              "100.0"
            ]
          },
          "metadata": {},
          "execution_count": 38
        }
      ]
    },
    {
      "cell_type": "code",
      "metadata": {
        "id": "9nyjwNnYOuOP"
      },
      "source": [
        "tf.reduce_logsumexp(a)"
      ],
      "execution_count": null,
      "outputs": []
    }
  ]
}