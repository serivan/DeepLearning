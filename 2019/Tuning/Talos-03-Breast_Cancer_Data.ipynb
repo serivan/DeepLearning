{
  "nbformat": 4,
  "nbformat_minor": 0,
  "metadata": {
    "kernelspec": {
      "name": "python3",
      "display_name": "Python 3"
    },
    "language_info": {
      "codemirror_mode": {
        "name": "ipython",
        "version": 3
      },
      "file_extension": ".py",
      "mimetype": "text/x-python",
      "name": "python",
      "nbconvert_exporter": "python",
      "pygments_lexer": "ipython3",
      "version": "3.6.8"
    },
    "colab": {
      "name": "Talos-03-Breast_Cancer_Data.ipynb",
      "provenance": []
    },
    "accelerator": "GPU"
  },
  "cells": [
    {
      "cell_type": "markdown",
      "metadata": {
        "id": "6KqNryTKcB4G",
        "colab_type": "text"
      },
      "source": [
        "<img src='https://raw.githubusercontent.com/autonomio/hyperio/master/logo.png' width=250px>"
      ]
    },
    {
      "cell_type": "markdown",
      "metadata": {
        "id": "6bDSYgDhcB4Q",
        "colab_type": "text"
      },
      "source": [
        "This notebook is a compliment to the *Hyperparameter Optimization on Keras* article. "
      ]
    },
    {
      "cell_type": "markdown",
      "metadata": {
        "id": "bepaxoX1cB4Y",
        "colab_type": "text"
      },
      "source": [
        "## Overview\n",
        "\n",
        "There are four steps to setting up an experiment with Talos:\n",
        "\n",
        "1) Imports and data\n",
        "\n",
        "2) Creating the Keras model\n",
        "\n",
        "3) Defining the Parameter Space Boundaries \n",
        "\n",
        "4) Running the Experiment"
      ]
    },
    {
      "cell_type": "markdown",
      "metadata": {
        "id": "RACqyERZcB4g",
        "colab_type": "text"
      },
      "source": [
        "## 1. The Required Inputs and Data"
      ]
    },
    {
      "cell_type": "code",
      "metadata": {
        "id": "fkBIR_GdvZe3",
        "colab_type": "code",
        "outputId": "7badad83-8ec2-4200-fcab-e257196f00ff",
        "colab": {
          "base_uri": "https://localhost:8080/",
          "height": 684
        }
      },
      "source": [
        "!pip install git+https://github.com/autonomio/talos"
      ],
      "execution_count": 1,
      "outputs": [
        {
          "output_type": "stream",
          "text": [
            "Collecting git+https://github.com/autonomio/talos\n",
            "  Cloning https://github.com/autonomio/talos to /tmp/pip-req-build-fustxtl4\n",
            "  Running command git clone -q https://github.com/autonomio/talos /tmp/pip-req-build-fustxtl4\n",
            "Requirement already satisfied (use --upgrade to upgrade): talos==0.6.4 from git+https://github.com/autonomio/talos in /usr/local/lib/python3.6/dist-packages\n",
            "Requirement already satisfied: wrangle in /usr/local/lib/python3.6/dist-packages (from talos==0.6.4) (0.6.7)\n",
            "Requirement already satisfied: numpy in /usr/local/lib/python3.6/dist-packages (from talos==0.6.4) (1.17.3)\n",
            "Requirement already satisfied: pandas in /usr/local/lib/python3.6/dist-packages (from talos==0.6.4) (0.25.2)\n",
            "Requirement already satisfied: keras in /usr/local/lib/python3.6/dist-packages (from talos==0.6.4) (2.2.5)\n",
            "Requirement already satisfied: astetik in /usr/local/lib/python3.6/dist-packages (from talos==0.6.4) (1.9.9)\n",
            "Requirement already satisfied: sklearn in /usr/local/lib/python3.6/dist-packages (from talos==0.6.4) (0.0)\n",
            "Requirement already satisfied: tqdm in /usr/local/lib/python3.6/dist-packages (from talos==0.6.4) (4.28.1)\n",
            "Requirement already satisfied: chances in /usr/local/lib/python3.6/dist-packages (from talos==0.6.4) (0.1.9)\n",
            "Requirement already satisfied: kerasplotlib in /usr/local/lib/python3.6/dist-packages (from talos==0.6.4) (0.1.4)\n",
            "Requirement already satisfied: requests in /usr/local/lib/python3.6/dist-packages (from talos==0.6.4) (2.21.0)\n",
            "Requirement already satisfied: statsmodels in /usr/local/lib/python3.6/dist-packages (from wrangle->talos==0.6.4) (0.10.1)\n",
            "Requirement already satisfied: scipy==1.2 in /usr/local/lib/python3.6/dist-packages (from wrangle->talos==0.6.4) (1.2.0)\n",
            "Requirement already satisfied: pytz>=2017.2 in /usr/local/lib/python3.6/dist-packages (from pandas->talos==0.6.4) (2018.9)\n",
            "Requirement already satisfied: python-dateutil>=2.6.1 in /usr/local/lib/python3.6/dist-packages (from pandas->talos==0.6.4) (2.6.1)\n",
            "Requirement already satisfied: keras-applications>=1.0.8 in /usr/local/lib/python3.6/dist-packages (from keras->talos==0.6.4) (1.0.8)\n",
            "Requirement already satisfied: pyyaml in /usr/local/lib/python3.6/dist-packages (from keras->talos==0.6.4) (3.13)\n",
            "Requirement already satisfied: keras-preprocessing>=1.1.0 in /usr/local/lib/python3.6/dist-packages (from keras->talos==0.6.4) (1.1.0)\n",
            "Requirement already satisfied: six>=1.9.0 in /usr/local/lib/python3.6/dist-packages (from keras->talos==0.6.4) (1.12.0)\n",
            "Requirement already satisfied: h5py in /usr/local/lib/python3.6/dist-packages (from keras->talos==0.6.4) (2.8.0)\n",
            "Requirement already satisfied: geonamescache in /usr/local/lib/python3.6/dist-packages (from astetik->talos==0.6.4) (1.1.0)\n",
            "Requirement already satisfied: scikit-learn in /usr/local/lib/python3.6/dist-packages (from sklearn->talos==0.6.4) (0.21.3)\n",
            "Requirement already satisfied: urllib3<1.25,>=1.21.1 in /usr/local/lib/python3.6/dist-packages (from requests->talos==0.6.4) (1.24.3)\n",
            "Requirement already satisfied: certifi>=2017.4.17 in /usr/local/lib/python3.6/dist-packages (from requests->talos==0.6.4) (2019.9.11)\n",
            "Requirement already satisfied: chardet<3.1.0,>=3.0.2 in /usr/local/lib/python3.6/dist-packages (from requests->talos==0.6.4) (3.0.4)\n",
            "Requirement already satisfied: idna<2.9,>=2.5 in /usr/local/lib/python3.6/dist-packages (from requests->talos==0.6.4) (2.8)\n",
            "Requirement already satisfied: patsy>=0.4.0 in /usr/local/lib/python3.6/dist-packages (from statsmodels->wrangle->talos==0.6.4) (0.5.1)\n",
            "Requirement already satisfied: joblib>=0.11 in /usr/local/lib/python3.6/dist-packages (from scikit-learn->sklearn->talos==0.6.4) (0.14.0)\n",
            "Building wheels for collected packages: talos\n",
            "  Building wheel for talos (setup.py) ... \u001b[?25l\u001b[?25hdone\n",
            "  Created wheel for talos: filename=talos-0.6.4-cp36-none-any.whl size=53460 sha256=417bc88d591018805d146d5522d97d5b83a68f6fe8daf0cf1d9866ac92ae477e\n",
            "  Stored in directory: /tmp/pip-ephem-wheel-cache-sbm2_mmi/wheels/20/f1/9a/63a4168fd779c183fcc5a8ebe6aa34f1f9bc33eaa558e5461b\n",
            "Successfully built talos\n"
          ],
          "name": "stdout"
        }
      ]
    },
    {
      "cell_type": "code",
      "metadata": {
        "id": "ab3q9L5SYSTL",
        "colab_type": "code",
        "colab": {}
      },
      "source": [
        "##!pip install talos\n"
      ],
      "execution_count": 0,
      "outputs": []
    },
    {
      "cell_type": "code",
      "metadata": {
        "id": "wehHbjx0cB4o",
        "colab_type": "code",
        "colab": {
          "base_uri": "https://localhost:8080/",
          "height": 82
        },
        "outputId": "84d4c6c4-5dd8-46a6-eccf-492046e25e3f"
      },
      "source": [
        "from keras.models import Sequential\n",
        "from keras.layers import Dropout, Dense\n",
        "\n",
        "%matplotlib inline\n",
        "\n",
        "import sys\n",
        "sys.path.insert(0, './talos')\n",
        "import talos\n",
        "import wrangle"
      ],
      "execution_count": 2,
      "outputs": [
        {
          "output_type": "stream",
          "text": [
            "Using TensorFlow backend.\n"
          ],
          "name": "stderr"
        },
        {
          "output_type": "display_data",
          "data": {
            "text/html": [
              "<p style=\"color: red;\">\n",
              "The default version of TensorFlow in Colab will soon switch to TensorFlow 2.x.<br>\n",
              "We recommend you <a href=\"https://www.tensorflow.org/guide/migrate\" target=\"_blank\">upgrade</a> now \n",
              "or ensure your notebook will continue to use TensorFlow 1.x via the <code>%tensorflow_version 1.x</code> magic:\n",
              "<a href=\"https://colab.research.google.com/notebooks/tensorflow_version.ipynb\" target=\"_blank\">more info</a>.</p>\n"
            ],
            "text/plain": [
              "<IPython.core.display.HTML object>"
            ]
          },
          "metadata": {
            "tags": []
          }
        }
      ]
    },
    {
      "cell_type": "code",
      "metadata": {
        "id": "J7OhDHb_cB5B",
        "colab_type": "code",
        "colab": {}
      },
      "source": [
        "# then we load the dataset\n",
        "x, y = talos.templates.datasets.breast_cancer()\n",
        "\n",
        "# and normalize every feature to mean 0, std 1\n",
        "#x = talos.utils.rescale_meanzero(x)"
      ],
      "execution_count": 0,
      "outputs": []
    },
    {
      "cell_type": "code",
      "metadata": {
        "id": "3Of9CQTHfuAE",
        "colab_type": "code",
        "colab": {}
      },
      "source": [
        "from sklearn.preprocessing import StandardScaler\n",
        "scaler = StandardScaler() \n",
        "x_scaled = scaler.fit_transform(x)"
      ],
      "execution_count": 0,
      "outputs": []
    },
    {
      "cell_type": "code",
      "metadata": {
        "id": "KCn9AA0hf1tq",
        "colab_type": "code",
        "colab": {
          "base_uri": "https://localhost:8080/",
          "height": 35
        },
        "outputId": "f0db953e-0519-4195-93cb-40e81e5994a2"
      },
      "source": [
        "x=x_scaled\n",
        "x_scaled.mean(),x_scaled.std()\n"
      ],
      "execution_count": 5,
      "outputs": [
        {
          "output_type": "execute_result",
          "data": {
            "text/plain": [
              "(1.2487570048507913e-18, 1.0)"
            ]
          },
          "metadata": {
            "tags": []
          },
          "execution_count": 5
        }
      ]
    },
    {
      "cell_type": "markdown",
      "metadata": {
        "id": "RUpZgUcucB5T",
        "colab_type": "text"
      },
      "source": [
        "## 2. Creating the Keras Model"
      ]
    },
    {
      "cell_type": "code",
      "metadata": {
        "id": "5l7-JXOHcB5Z",
        "colab_type": "code",
        "colab": {}
      },
      "source": [
        "# first we have to make sure to input data and params into the function\n",
        "def breast_cancer_model(x_train, y_train, x_val, y_val, params):\n",
        "    #print(\"\\nParams:\",params)\n",
        "    model = Sequential()\n",
        "    model.add(Dense(params['first_neuron'], input_dim=x_train.shape[1],\n",
        "                    activation=params['activation'],\n",
        "                    kernel_initializer=params['kernel_initializer']))\n",
        "    \n",
        "    model.add(Dropout(params['dropout']))\n",
        "\n",
        "    model.add(Dense(1, activation=params['last_activation'],\n",
        "                    kernel_initializer=params['kernel_initializer']))\n",
        "    \n",
        "    model.compile(loss=params['losses'],\n",
        "                  optimizer=params['optimizer'],\n",
        "                  metrics=['acc', talos.utils.metrics.f1score])\n",
        "    \n",
        "    history = model.fit(x_train, y_train, \n",
        "                        validation_data=[x_val, y_val],\n",
        "                        batch_size=params['batch_size'],\n",
        "                        callbacks=[talos.utils.live()],\n",
        "                        epochs=params['epochs'],\n",
        "                        validation_split=0.2,\n",
        "                        verbose=0)\n",
        "\n",
        "    return history, model"
      ],
      "execution_count": 0,
      "outputs": []
    },
    {
      "cell_type": "markdown",
      "metadata": {
        "id": "64PUJ03zcB5q",
        "colab_type": "text"
      },
      "source": [
        "## 3. Defining the Parameter Space Boundary"
      ]
    },
    {
      "cell_type": "code",
      "metadata": {
        "id": "p-OBZyBXcB5x",
        "colab_type": "code",
        "colab": {}
      },
      "source": [
        "# then we can go ahead and set the parameter space\n",
        "p = {'first_neuron':[9,10,11],\n",
        "     'hidden_layers':[0, 1, 2],\n",
        "     'batch_size': [30],\n",
        "     'epochs': [100],\n",
        "     'dropout': [0],\n",
        "     'kernel_initializer': ['uniform','normal'],\n",
        "     'optimizer': ['Nadam', 'Adam'],\n",
        "     'losses': ['binary_crossentropy'],\n",
        "     'activation':['relu', 'elu'],\n",
        "     'last_activation': ['sigmoid']}"
      ],
      "execution_count": 0,
      "outputs": []
    },
    {
      "cell_type": "markdown",
      "metadata": {
        "id": "u7spqM6IcB6A",
        "colab_type": "text"
      },
      "source": [
        "## 4. Starting the Experiment"
      ]
    },
    {
      "cell_type": "code",
      "metadata": {
        "id": "4buyHOuwcB6F",
        "colab_type": "code",
        "colab": {
          "base_uri": "https://localhost:8080/"
        },
        "outputId": "e88bbb62-ba44-434b-9d15-cc03ebc0a91b"
      },
      "source": [
        "# and run the experiment\n",
        "t = talos.Scan(x=x,\n",
        "               y=y,\n",
        "               model=breast_cancer_model,\n",
        "               params=p,\n",
        "               experiment_name='breast_cancer',\n",
        "               round_limit=10)"
      ],
      "execution_count": 0,
      "outputs": [
        {
          "output_type": "display_data",
          "data": {
            "image/png": "[encoded data removed]",
            "text/plain": [
              "<Figure size 864x864 with 3 Axes>"
            ]
          },
          "metadata": {
            "tags": []
          }
        }
      ]
    },
    {
      "cell_type": "markdown",
      "metadata": {
        "id": "3K9f8LjlcCcw",
        "colab_type": "text"
      },
      "source": [
        "Now we can assume the case where we no longer have access to the `scan_object`. In this `Scan(...experiment_name...)` was set to \"reactivate\" so we'll find a folder with that name in the present working directory. Next we have to find out what is the name of the experiment log."
      ]
    },
    {
      "cell_type": "code",
      "metadata": {
        "id": "96Emjpp_cCc0",
        "colab_type": "code",
        "colab": {}
      },
      "source": [
        "# get the name of the experiment log\n",
        "!ls -lhtr breast_cancer"
      ],
      "execution_count": 0,
      "outputs": []
    },
    {
      "cell_type": "markdown",
      "metadata": {
        "id": "GZlztHC8cCc_",
        "colab_type": "text"
      },
      "source": [
        "In this case it will be the most recent one `102619095843.csv` so let's go ahead and recover the best models."
      ]
    },
    {
      "cell_type": "code",
      "metadata": {
        "id": "oFx295HqcCdD",
        "colab_type": "code",
        "colab": {}
      },
      "source": [
        "import talos\n",
        "from talos.utils.recover_best_model import recover_best_model\n",
        "results, models = recover_best_model(x_train=x,\n",
        "                                     y_train=y,\n",
        "                                     experiment_log='breast_cancer/102619095843.csv',\n",
        "                                     input_model=breast_cancer_model,\n",
        "                                     n_models=10,\n",
        "                                     task='multi_label')"
      ],
      "execution_count": 0,
      "outputs": []
    },
    {
      "cell_type": "markdown",
      "metadata": {
        "id": "1wbhkaj-cCdP",
        "colab_type": "text"
      },
      "source": [
        "Now we can access the cross-validation results:"
      ]
    },
    {
      "cell_type": "code",
      "metadata": {
        "id": "UYPYOfyncCdR",
        "colab_type": "code",
        "colab": {}
      },
      "source": [
        "results"
      ],
      "execution_count": 0,
      "outputs": []
    },
    {
      "cell_type": "markdown",
      "metadata": {
        "id": "y_qL8diJcCdj",
        "colab_type": "text"
      },
      "source": [
        "We can also access the models and make predictions with them:"
      ]
    },
    {
      "cell_type": "code",
      "metadata": {
        "id": "D2u96gA9cCdn",
        "colab_type": "code",
        "colab": {}
      },
      "source": [
        "models[0].predict(x_val)"
      ],
      "execution_count": 0,
      "outputs": []
    }
  ]
}