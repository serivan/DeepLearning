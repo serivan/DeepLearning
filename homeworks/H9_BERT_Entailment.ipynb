{
  "cells": [
    {
      "cell_type": "markdown",
      "source": [
        "# BERT Homework"
      ],
      "metadata": {
        "id": "zS0PIQIS1iyO"
      }
    },
    {
      "cell_type": "code",
      "execution_count": null,
      "metadata": {
        "id": "XVFcGiODyC9Z"
      },
      "outputs": [],
      "source": [
        "!wget https://nlp.stanford.edu/projects/snli/snli_1.0.zip\n",
        "!unzip snli_1.0.zip"
      ]
    },
    {
      "cell_type": "code",
      "execution_count": null,
      "metadata": {
        "id": "_HWUj9eNyC9e"
      },
      "outputs": [],
      "source": [
        "import torch\n",
        "import torch.utils.data\n",
        "import os\n",
        "import torch\n",
        "import random\n",
        "import numpy as np\n",
        "\n",
        "SEED = 124564\n",
        "\n",
        "def set_seed(seed):\n",
        "    torch.manual_seed(seed)\n",
        "    torch.cuda.manual_seed_all(seed)\n",
        "    torch.backends.cudnn.deterministic = True\n",
        "    torch.backends.cudnn.benchmark = False\n",
        "    np.random.seed(seed)\n",
        "    random.seed(seed)\n",
        "    os.environ['PYTHONHASHSEED'] = str(seed)\n",
        "\n",
        "set_seed(SEED)"
      ]
    },
    {
      "cell_type": "code",
      "execution_count": null,
      "metadata": {
        "id": "mRg1N8S6yC9g",
        "outputId": "262cd309-d50a-4f31-adbf-cf3f38d2606b"
      },
      "outputs": [
        {
          "data": {
            "text/html": [
              "<div>\n",
              "<style scoped>\n",
              "    .dataframe tbody tr th:only-of-type {\n",
              "        vertical-align: middle;\n",
              "    }\n",
              "\n",
              "    .dataframe tbody tr th {\n",
              "        vertical-align: top;\n",
              "    }\n",
              "\n",
              "    .dataframe thead th {\n",
              "        text-align: right;\n",
              "    }\n",
              "</style>\n",
              "<table border=\"1\" class=\"dataframe\">\n",
              "  <thead>\n",
              "    <tr style=\"text-align: right;\">\n",
              "      <th></th>\n",
              "      <th>sentence1</th>\n",
              "      <th>sentence2</th>\n",
              "      <th>label</th>\n",
              "    </tr>\n",
              "  </thead>\n",
              "  <tbody>\n",
              "    <tr>\n",
              "      <th>0</th>\n",
              "      <td>Two men are standing at telephone booths outside.</td>\n",
              "      <td>Some men are passing the time until their appo...</td>\n",
              "      <td>neutral</td>\n",
              "    </tr>\n",
              "    <tr>\n",
              "      <th>1</th>\n",
              "      <td>Two lone men in dark clothes stroll separately...</td>\n",
              "      <td>The two men are walking together.</td>\n",
              "      <td>contradiction</td>\n",
              "    </tr>\n",
              "    <tr>\n",
              "      <th>2</th>\n",
              "      <td>The benches are in a long row with the silver ...</td>\n",
              "      <td>The benches and tables are broken.</td>\n",
              "      <td>contradiction</td>\n",
              "    </tr>\n",
              "    <tr>\n",
              "      <th>3</th>\n",
              "      <td>A young boy is asleep at a table with his face...</td>\n",
              "      <td>A boy is at the dinner table.</td>\n",
              "      <td>entailment</td>\n",
              "    </tr>\n",
              "    <tr>\n",
              "      <th>4</th>\n",
              "      <td>paintball fight on the range</td>\n",
              "      <td>People are crying.</td>\n",
              "      <td>neutral</td>\n",
              "    </tr>\n",
              "    <tr>\n",
              "      <th>...</th>\n",
              "      <td>...</td>\n",
              "      <td>...</td>\n",
              "      <td>...</td>\n",
              "    </tr>\n",
              "    <tr>\n",
              "      <th>181106</th>\n",
              "      <td>Children play basketball on an outdoor court.</td>\n",
              "      <td>Children are outside</td>\n",
              "      <td>entailment</td>\n",
              "    </tr>\n",
              "    <tr>\n",
              "      <th>181107</th>\n",
              "      <td>An aspirin added to the water would preserve t...</td>\n",
              "      <td>This garden is lush and green.</td>\n",
              "      <td>contradiction</td>\n",
              "    </tr>\n",
              "    <tr>\n",
              "      <th>181108</th>\n",
              "      <td>A woman in white jeans, and man in black short...</td>\n",
              "      <td>A rabbi performs a wedding.</td>\n",
              "      <td>contradiction</td>\n",
              "    </tr>\n",
              "    <tr>\n",
              "      <th>181109</th>\n",
              "      <td>An older man in a gray shirt carving a sculpture.</td>\n",
              "      <td>The older man is body painting.</td>\n",
              "      <td>contradiction</td>\n",
              "    </tr>\n",
              "    <tr>\n",
              "      <th>181110</th>\n",
              "      <td>People standing near a street fair.</td>\n",
              "      <td>The people are running down the stairs inside.</td>\n",
              "      <td>contradiction</td>\n",
              "    </tr>\n",
              "  </tbody>\n",
              "</table>\n",
              "<p>181111 rows × 3 columns</p>\n",
              "</div>"
            ],
            "text/plain": [
              "                                                sentence1  \\\n",
              "0       Two men are standing at telephone booths outside.   \n",
              "1       Two lone men in dark clothes stroll separately...   \n",
              "2       The benches are in a long row with the silver ...   \n",
              "3       A young boy is asleep at a table with his face...   \n",
              "4                            paintball fight on the range   \n",
              "...                                                   ...   \n",
              "181106      Children play basketball on an outdoor court.   \n",
              "181107  An aspirin added to the water would preserve t...   \n",
              "181108  A woman in white jeans, and man in black short...   \n",
              "181109  An older man in a gray shirt carving a sculpture.   \n",
              "181110                People standing near a street fair.   \n",
              "\n",
              "                                                sentence2          label  \n",
              "0       Some men are passing the time until their appo...        neutral  \n",
              "1                       The two men are walking together.  contradiction  \n",
              "2                      The benches and tables are broken.  contradiction  \n",
              "3                           A boy is at the dinner table.     entailment  \n",
              "4                                      People are crying.        neutral  \n",
              "...                                                   ...            ...  \n",
              "181106                               Children are outside     entailment  \n",
              "181107                     This garden is lush and green.  contradiction  \n",
              "181108                        A rabbi performs a wedding.  contradiction  \n",
              "181109                    The older man is body painting.  contradiction  \n",
              "181110     The people are running down the stairs inside.  contradiction  \n",
              "\n",
              "[181111 rows x 3 columns]"
            ]
          },
          "execution_count": 3,
          "metadata": {},
          "output_type": "execute_result"
        }
      ],
      "source": [
        "import pandas as pd\n",
        "\n",
        "df_train = pd.read_json('snli_1.0/snli_1.0_train.jsonl', lines=True)\n",
        "\n",
        "df_train = df_train[['sentence1', 'sentence2', 'gold_label']]\n",
        "df_train.rename(columns={'gold_label': 'label'}, inplace=True)\n",
        "df_train.drop(df_train[df_train['label'] == '-'].index, inplace=True)\n",
        "\n",
        "df_train = df_train.drop_duplicates().dropna().sample(frac=0.33).reset_index(drop=True)\n",
        "\n",
        "df_train"
      ]
    },
    {
      "cell_type": "code",
      "execution_count": null,
      "metadata": {
        "id": "T4KVCNt9yC9h",
        "outputId": "508c650b-44d3-48d3-ac59-7ed5989c1efb"
      },
      "outputs": [
        {
          "data": {
            "text/html": [
              "<div>\n",
              "<style scoped>\n",
              "    .dataframe tbody tr th:only-of-type {\n",
              "        vertical-align: middle;\n",
              "    }\n",
              "\n",
              "    .dataframe tbody tr th {\n",
              "        vertical-align: top;\n",
              "    }\n",
              "\n",
              "    .dataframe thead th {\n",
              "        text-align: right;\n",
              "    }\n",
              "</style>\n",
              "<table border=\"1\" class=\"dataframe\">\n",
              "  <thead>\n",
              "    <tr style=\"text-align: right;\">\n",
              "      <th></th>\n",
              "      <th>sentence1</th>\n",
              "      <th>sentence2</th>\n",
              "      <th>label</th>\n",
              "    </tr>\n",
              "  </thead>\n",
              "  <tbody>\n",
              "    <tr>\n",
              "      <th>0</th>\n",
              "      <td>Two women are embracing while holding to go pa...</td>\n",
              "      <td>The sisters are hugging goodbye while holding ...</td>\n",
              "      <td>neutral</td>\n",
              "    </tr>\n",
              "    <tr>\n",
              "      <th>1</th>\n",
              "      <td>Two women are embracing while holding to go pa...</td>\n",
              "      <td>Two woman are holding packages.</td>\n",
              "      <td>entailment</td>\n",
              "    </tr>\n",
              "    <tr>\n",
              "      <th>2</th>\n",
              "      <td>Two women are embracing while holding to go pa...</td>\n",
              "      <td>The men are fighting outside a deli.</td>\n",
              "      <td>contradiction</td>\n",
              "    </tr>\n",
              "    <tr>\n",
              "      <th>3</th>\n",
              "      <td>Two young children in blue jerseys, one with t...</td>\n",
              "      <td>Two kids in numbered jerseys wash their hands.</td>\n",
              "      <td>entailment</td>\n",
              "    </tr>\n",
              "    <tr>\n",
              "      <th>4</th>\n",
              "      <td>Two young children in blue jerseys, one with t...</td>\n",
              "      <td>Two kids at a ballgame wash their hands.</td>\n",
              "      <td>neutral</td>\n",
              "    </tr>\n",
              "    <tr>\n",
              "      <th>...</th>\n",
              "      <td>...</td>\n",
              "      <td>...</td>\n",
              "      <td>...</td>\n",
              "    </tr>\n",
              "    <tr>\n",
              "      <th>9835</th>\n",
              "      <td>A small girl wearing a pink jacket is riding o...</td>\n",
              "      <td>The carousel is moving.</td>\n",
              "      <td>entailment</td>\n",
              "    </tr>\n",
              "    <tr>\n",
              "      <th>9836</th>\n",
              "      <td>A small girl wearing a pink jacket is riding o...</td>\n",
              "      <td>The girl is moving at the speed of light.</td>\n",
              "      <td>contradiction</td>\n",
              "    </tr>\n",
              "    <tr>\n",
              "      <th>9837</th>\n",
              "      <td>A young girl with blue and pink ribbons in her...</td>\n",
              "      <td>People in a water fountain</td>\n",
              "      <td>entailment</td>\n",
              "    </tr>\n",
              "    <tr>\n",
              "      <th>9838</th>\n",
              "      <td>A young girl with blue and pink ribbons in her...</td>\n",
              "      <td>A young girl knits a sweater</td>\n",
              "      <td>contradiction</td>\n",
              "    </tr>\n",
              "    <tr>\n",
              "      <th>9839</th>\n",
              "      <td>A young girl with blue and pink ribbons in her...</td>\n",
              "      <td>A young mother tries to grab her topless child...</td>\n",
              "      <td>neutral</td>\n",
              "    </tr>\n",
              "  </tbody>\n",
              "</table>\n",
              "<p>9840 rows × 3 columns</p>\n",
              "</div>"
            ],
            "text/plain": [
              "                                              sentence1  \\\n",
              "0     Two women are embracing while holding to go pa...   \n",
              "1     Two women are embracing while holding to go pa...   \n",
              "2     Two women are embracing while holding to go pa...   \n",
              "3     Two young children in blue jerseys, one with t...   \n",
              "4     Two young children in blue jerseys, one with t...   \n",
              "...                                                 ...   \n",
              "9835  A small girl wearing a pink jacket is riding o...   \n",
              "9836  A small girl wearing a pink jacket is riding o...   \n",
              "9837  A young girl with blue and pink ribbons in her...   \n",
              "9838  A young girl with blue and pink ribbons in her...   \n",
              "9839  A young girl with blue and pink ribbons in her...   \n",
              "\n",
              "                                              sentence2          label  \n",
              "0     The sisters are hugging goodbye while holding ...        neutral  \n",
              "1                       Two woman are holding packages.     entailment  \n",
              "2                  The men are fighting outside a deli.  contradiction  \n",
              "3        Two kids in numbered jerseys wash their hands.     entailment  \n",
              "4              Two kids at a ballgame wash their hands.        neutral  \n",
              "...                                                 ...            ...  \n",
              "9835                            The carousel is moving.     entailment  \n",
              "9836          The girl is moving at the speed of light.  contradiction  \n",
              "9837                         People in a water fountain     entailment  \n",
              "9838                       A young girl knits a sweater  contradiction  \n",
              "9839  A young mother tries to grab her topless child...        neutral  \n",
              "\n",
              "[9840 rows x 3 columns]"
            ]
          },
          "execution_count": 4,
          "metadata": {},
          "output_type": "execute_result"
        }
      ],
      "source": [
        "df_dev = pd.read_json('snli_1.0/snli_1.0_dev.jsonl', lines=True)\n",
        "\n",
        "df_dev = df_dev[['sentence1', 'sentence2', 'gold_label']]\n",
        "df_dev.rename(columns={'gold_label': 'label'}, inplace=True)\n",
        "df_dev.drop(df_dev[df_dev['label'] == '-'].index, inplace=True)\n",
        "\n",
        "df_dev = df_dev.drop_duplicates().dropna().reset_index(drop=True)\n",
        "\n",
        "df_dev"
      ]
    },
    {
      "cell_type": "code",
      "execution_count": null,
      "metadata": {
        "id": "BQDm82yRyC9i",
        "outputId": "43c93ebc-d565-4bfc-dd2b-4e3a6d62e34f"
      },
      "outputs": [
        {
          "data": {
            "text/html": [
              "<div>\n",
              "<style scoped>\n",
              "    .dataframe tbody tr th:only-of-type {\n",
              "        vertical-align: middle;\n",
              "    }\n",
              "\n",
              "    .dataframe tbody tr th {\n",
              "        vertical-align: top;\n",
              "    }\n",
              "\n",
              "    .dataframe thead th {\n",
              "        text-align: right;\n",
              "    }\n",
              "</style>\n",
              "<table border=\"1\" class=\"dataframe\">\n",
              "  <thead>\n",
              "    <tr style=\"text-align: right;\">\n",
              "      <th></th>\n",
              "      <th>sentence1</th>\n",
              "      <th>sentence2</th>\n",
              "      <th>label</th>\n",
              "    </tr>\n",
              "  </thead>\n",
              "  <tbody>\n",
              "    <tr>\n",
              "      <th>0</th>\n",
              "      <td>Two women are embracing while holding to go pa...</td>\n",
              "      <td>The sisters are hugging goodbye while holding ...</td>\n",
              "      <td>neutral</td>\n",
              "    </tr>\n",
              "    <tr>\n",
              "      <th>1</th>\n",
              "      <td>Two women are embracing while holding to go pa...</td>\n",
              "      <td>Two woman are holding packages.</td>\n",
              "      <td>entailment</td>\n",
              "    </tr>\n",
              "    <tr>\n",
              "      <th>2</th>\n",
              "      <td>Two women are embracing while holding to go pa...</td>\n",
              "      <td>The men are fighting outside a deli.</td>\n",
              "      <td>contradiction</td>\n",
              "    </tr>\n",
              "    <tr>\n",
              "      <th>3</th>\n",
              "      <td>Two young children in blue jerseys, one with t...</td>\n",
              "      <td>Two kids in numbered jerseys wash their hands.</td>\n",
              "      <td>entailment</td>\n",
              "    </tr>\n",
              "    <tr>\n",
              "      <th>4</th>\n",
              "      <td>Two young children in blue jerseys, one with t...</td>\n",
              "      <td>Two kids at a ballgame wash their hands.</td>\n",
              "      <td>neutral</td>\n",
              "    </tr>\n",
              "    <tr>\n",
              "      <th>...</th>\n",
              "      <td>...</td>\n",
              "      <td>...</td>\n",
              "      <td>...</td>\n",
              "    </tr>\n",
              "    <tr>\n",
              "      <th>9835</th>\n",
              "      <td>A small girl wearing a pink jacket is riding o...</td>\n",
              "      <td>The carousel is moving.</td>\n",
              "      <td>entailment</td>\n",
              "    </tr>\n",
              "    <tr>\n",
              "      <th>9836</th>\n",
              "      <td>A small girl wearing a pink jacket is riding o...</td>\n",
              "      <td>The girl is moving at the speed of light.</td>\n",
              "      <td>contradiction</td>\n",
              "    </tr>\n",
              "    <tr>\n",
              "      <th>9837</th>\n",
              "      <td>A young girl with blue and pink ribbons in her...</td>\n",
              "      <td>People in a water fountain</td>\n",
              "      <td>entailment</td>\n",
              "    </tr>\n",
              "    <tr>\n",
              "      <th>9838</th>\n",
              "      <td>A young girl with blue and pink ribbons in her...</td>\n",
              "      <td>A young girl knits a sweater</td>\n",
              "      <td>contradiction</td>\n",
              "    </tr>\n",
              "    <tr>\n",
              "      <th>9839</th>\n",
              "      <td>A young girl with blue and pink ribbons in her...</td>\n",
              "      <td>A young mother tries to grab her topless child...</td>\n",
              "      <td>neutral</td>\n",
              "    </tr>\n",
              "  </tbody>\n",
              "</table>\n",
              "<p>9840 rows × 3 columns</p>\n",
              "</div>"
            ],
            "text/plain": [
              "                                              sentence1  \\\n",
              "0     Two women are embracing while holding to go pa...   \n",
              "1     Two women are embracing while holding to go pa...   \n",
              "2     Two women are embracing while holding to go pa...   \n",
              "3     Two young children in blue jerseys, one with t...   \n",
              "4     Two young children in blue jerseys, one with t...   \n",
              "...                                                 ...   \n",
              "9835  A small girl wearing a pink jacket is riding o...   \n",
              "9836  A small girl wearing a pink jacket is riding o...   \n",
              "9837  A young girl with blue and pink ribbons in her...   \n",
              "9838  A young girl with blue and pink ribbons in her...   \n",
              "9839  A young girl with blue and pink ribbons in her...   \n",
              "\n",
              "                                              sentence2          label  \n",
              "0     The sisters are hugging goodbye while holding ...        neutral  \n",
              "1                       Two woman are holding packages.     entailment  \n",
              "2                  The men are fighting outside a deli.  contradiction  \n",
              "3        Two kids in numbered jerseys wash their hands.     entailment  \n",
              "4              Two kids at a ballgame wash their hands.        neutral  \n",
              "...                                                 ...            ...  \n",
              "9835                            The carousel is moving.     entailment  \n",
              "9836          The girl is moving at the speed of light.  contradiction  \n",
              "9837                         People in a water fountain     entailment  \n",
              "9838                       A young girl knits a sweater  contradiction  \n",
              "9839  A young mother tries to grab her topless child...        neutral  \n",
              "\n",
              "[9840 rows x 3 columns]"
            ]
          },
          "execution_count": 5,
          "metadata": {},
          "output_type": "execute_result"
        }
      ],
      "source": [
        "df_test= pd.read_json('snli_1.0/snli_1.0_dev.jsonl', lines=True)\n",
        "\n",
        "df_test = df_test[['sentence1', 'sentence2', 'gold_label']]\n",
        "df_test.rename(columns={'gold_label': 'label'}, inplace=True)\n",
        "df_test.drop(df_test[df_test['label'] == '-'].index, inplace=True)\n",
        "\n",
        "df_test = df_test.drop_duplicates().dropna().reset_index(drop=True)\n",
        "\n",
        "df_test"
      ]
    },
    {
      "cell_type": "code",
      "execution_count": null,
      "metadata": {
        "id": "S9gs1iR-yC9j"
      },
      "outputs": [],
      "source": [
        "from torch.utils.data import Dataset\n",
        "from transformers import AutoTokenizer\n",
        "import torch\n",
        "\n",
        "\n",
        "class SNLIDataset(Dataset):\n",
        "      # TODO: Code the Dataset class (init, len, get_item)\n"
      ]
    },
    {
      "cell_type": "code",
      "execution_count": null,
      "metadata": {
        "id": "LoY_RuncyC9k"
      },
      "outputs": [],
      "source": [
        "from torch.utils.data import DataLoader\n",
        "\n",
        "BERT =\n",
        "MAXLEN =\n",
        "BS =\n",
        "\n",
        "\n",
        "train_dataset = SNLIDataset()\n",
        "dev_dataset = SNLIDataset()\n",
        "test_dataset = SNLIDataset()\n",
        "\n",
        "train_loader = DataLoader(train_dataset, batch_size=BS)\n",
        "dev_loader = DataLoader(dev_dataset, batch_size=BS)\n",
        "test_loader = DataLoader(test_dataset, batch_size=BS)"
      ]
    },
    {
      "cell_type": "code",
      "execution_count": null,
      "metadata": {
        "id": "QvfZQjRiyC9k"
      },
      "outputs": [],
      "source": [
        "import torch.nn as nn\n",
        "import copy\n",
        "from tqdm import tqdm\n",
        "from torch.cuda.amp import autocast, GradScaler\n",
        "from sklearn.metrics import accuracy_score\n",
        "from transformers import AutoModel\n",
        "\n",
        "\n",
        "class EntailClassifier(nn.Module):\n",
        "\n",
        "    # TODO: Define the init and forward methods\n",
        "\n",
        "\n",
        "\n",
        "    def train_architecture(self, train_data, val_data, epochs, criterion, optimizer, scaler):\n",
        "\n",
        "        train_losses = []\n",
        "        val_losses = []\n",
        "        accuracies = []\n",
        "        best_valloss = np.Inf\n",
        "        best_ep = 0\n",
        "        best_model = copy.deepcopy(self.state_dict())\n",
        "\n",
        "        for ep in tqdm(range(epochs)):\n",
        "            self.train()\n",
        "            ep_loss = 0.0\n",
        "\n",
        "            for batch in tqdm(train_data, total=len(train_data)):\n",
        "                optimizer.zero_grad()\n",
        "\n",
        "                input_ids, attn_masks, labels = [b.to(self.device) for b in batch]\n",
        "\n",
        "                with autocast():\n",
        "                    logits = self(input_ids, attn_masks)\n",
        "                    loss = criterion(logits.squeeze(-1), labels.float())\n",
        "\n",
        "                ep_loss += loss.item()\n",
        "\n",
        "                # Backpropagation\n",
        "                scaler.scale(loss).backward()\n",
        "                scaler.step(optimizer)\n",
        "                scaler.update()\n",
        "\n",
        "            train_losses.append(ep_loss/len(train_data))\n",
        "\n",
        "            # Evaluation\n",
        "\n",
        "            val_loss, accuracy = self.eval_model(val_data, criterion)\n",
        "            accuracies.append(accuracy)\n",
        "            val_losses.append(val_loss)\n",
        "\n",
        "            if val_loss < best_valloss:\n",
        "                best_valloss = val_loss\n",
        "                best_model = copy.deepcopy(self.state_dict())\n",
        "                best_ep = ep+1\n",
        "\n",
        "            print(\"Epoch END\")\n",
        "\n",
        "        torch.save(best_model, f\"models/{self.model_name}.pth\")\n",
        "\n",
        "        return train_losses, accuracies, val_losses, best_ep, best_valloss\n",
        "\n",
        "\n",
        "    def eval_model(self, val_data, criterion):\n",
        "        self.eval()\n",
        "\n",
        "        val_loss = 0.0\n",
        "        val_preds = []\n",
        "        val_labels = []\n",
        "\n",
        "        with torch.no_grad():\n",
        "            for batch in val_data:\n",
        "                input_ids, attn_masks, labels = [b.to(self.device) for b in batch]\n",
        "\n",
        "                with autocast():\n",
        "                    logits = self(input_ids, attn_masks)\n",
        "                    loss = criterion(logits.squeeze(-1), labels.float())\n",
        "                    val_loss += loss.item()\n",
        "\n",
        "                    val_preds.extend(logits.argmax(dim=-1).cpu().numpy())\n",
        "                    val_labels.extend(labels.argmax(dim=-1).cpu().numpy())\n",
        "\n",
        "        return val_loss/len(val_data), accuracy_score(val_labels, val_preds)\n",
        "\n",
        "\n",
        "    def predict_data(self, test_data):\n",
        "        self.eval()\n",
        "\n",
        "        test_preds = []\n",
        "        test_labels = []\n",
        "\n",
        "        with torch.no_grad():\n",
        "            for batch in tqdm(test_data, total=len(test_data)):\n",
        "                input_ids, attn_masks, labels = [b.to(self.device) for b in batch]\n",
        "\n",
        "                with autocast():\n",
        "                    logits = self(input_ids, attn_masks)\n",
        "\n",
        "                test_preds += logits.argmax(dim=-1).cpu().numpy().tolist()\n",
        "                test_labels += labels.argmax(dim=-1).cpu().numpy().tolist()\n",
        "\n",
        "        return test_preds, test_labels\n"
      ]
    },
    {
      "cell_type": "code",
      "execution_count": null,
      "metadata": {
        "id": "_jirCIWSyC9m",
        "outputId": "0b33c6be-ae87-488e-deb7-6c3f841bcc39"
      },
      "outputs": [
        {
          "name": "stdout",
          "output_type": "stream",
          "text": [
            "Device loaded: cuda\n"
          ]
        }
      ],
      "source": [
        "device = torch.device(\"cuda\" if torch.cuda.is_available() else \"cpu\")\n",
        "print(f\"Device loaded: {device}\")\n",
        "\n",
        "# TODO: Define the parameters, the loss function and  the scaling function\n",
        "\n",
        "criterion =\n",
        "scaler ="
      ]
    },
    {
      "cell_type": "code",
      "execution_count": null,
      "metadata": {
        "id": "X6pxvcFYyC9m",
        "outputId": "33d21eb5-332f-47c6-a420-e9d826f3f2a1"
      },
      "outputs": [
        {
          "name": "stderr",
          "output_type": "stream",
          "text": [
            "huggingface/tokenizers: The current process just got forked, after parallelism has already been used. Disabling parallelism to avoid deadlocks...\n",
            "To disable this warning, you can either:\n",
            "\t- Avoid using `tokenizers` before the fork if possible\n",
            "\t- Explicitly set the environment variable TOKENIZERS_PARALLELISM=(true | false)\n"
          ]
        },
        {
          "name": "stdout",
          "output_type": "stream",
          "text": [
            "Training the model...\n"
          ]
        },
        {
          "name": "stderr",
          "output_type": "stream",
          "text": [
            "100%|██████████| 354/354 [03:11<00:00,  1.85it/s]\n",
            " 20%|██        | 1/5 [03:16<13:05, 196.38s/it]"
          ]
        },
        {
          "name": "stdout",
          "output_type": "stream",
          "text": [
            "Epoch END\n"
          ]
        },
        {
          "name": "stderr",
          "output_type": "stream",
          "text": [
            "100%|██████████| 354/354 [03:11<00:00,  1.84it/s]\n",
            " 40%|████      | 2/5 [06:33<09:51, 197.01s/it]"
          ]
        },
        {
          "name": "stdout",
          "output_type": "stream",
          "text": [
            "Epoch END\n"
          ]
        },
        {
          "name": "stderr",
          "output_type": "stream",
          "text": [
            "100%|██████████| 354/354 [03:12<00:00,  1.84it/s]\n",
            " 60%|██████    | 3/5 [09:51<06:34, 197.23s/it]"
          ]
        },
        {
          "name": "stdout",
          "output_type": "stream",
          "text": [
            "Epoch END\n"
          ]
        },
        {
          "name": "stderr",
          "output_type": "stream",
          "text": [
            "100%|██████████| 354/354 [03:11<00:00,  1.85it/s]\n",
            " 80%|████████  | 4/5 [13:08<03:17, 197.09s/it]"
          ]
        },
        {
          "name": "stdout",
          "output_type": "stream",
          "text": [
            "Epoch END\n"
          ]
        },
        {
          "name": "stderr",
          "output_type": "stream",
          "text": [
            "100%|██████████| 354/354 [03:16<00:00,  1.80it/s]\n",
            "100%|██████████| 5/5 [16:30<00:00, 198.11s/it]"
          ]
        },
        {
          "name": "stdout",
          "output_type": "stream",
          "text": [
            "Epoch END\n"
          ]
        },
        {
          "name": "stderr",
          "output_type": "stream",
          "text": [
            "\n"
          ]
        },
        {
          "name": "stdout",
          "output_type": "stream",
          "text": [
            "\n",
            "\n",
            "Best model at epoch 3 with val loss 0.2214\n"
          ]
        }
      ],
      "source": [
        "from torch.optim import AdamW\n",
        "!mkdir -p models\n",
        "\n",
        "# TODO: Create the model and define the optimizer\n",
        "\n",
        "model =\n",
        "\n",
        "optimizer =\n",
        "\n",
        "print(\"Training the model...\")\n",
        "train_losses, accuracies, val_losses, best_ep, best_valloss = model.train_architecture(train_loader, dev_loader, epochs, criterion, optimizer, scaler)\n",
        "\n",
        "print(f\"\\n\\nBest model at epoch {best_ep} with val loss {round(best_valloss, 4)}\")"
      ]
    },
    {
      "cell_type": "code",
      "execution_count": null,
      "metadata": {
        "id": "QEFx043nyC9n",
        "outputId": "4d4ad600-bb68-4bb3-d286-2cd33ca935a3"
      },
      "outputs": [
        {
          "data": {
            "image/png": "[encoded data removed]",
            "text/plain": [
              "<Figure size 1000x500 with 1 Axes>"
            ]
          },
          "metadata": {},
          "output_type": "display_data"
        },
        {
          "data": {
            "image/png": "[encoded data removed]",
            "text/plain": [
              "<Figure size 1000x500 with 1 Axes>"
            ]
          },
          "metadata": {},
          "output_type": "display_data"
        }
      ],
      "source": [
        "import matplotlib.pyplot as plt\n",
        "\n",
        "plt.figure(figsize=(10, 5))\n",
        "plt.plot(train_losses, label=\"Train loss\")\n",
        "plt.plot(val_losses, label=\"Validation loss\")\n",
        "plt.legend()\n",
        "plt.show()\n",
        "\n",
        "\n",
        "plt.figure(figsize=(10, 5))\n",
        "plt.plot(accuracies, label=\"Accuracy\")\n",
        "plt.ylim(0, 1)\n",
        "plt.legend()\n",
        "plt.show()"
      ]
    },
    {
      "cell_type": "code",
      "execution_count": null,
      "metadata": {
        "id": "fU4fSfgeyC9o",
        "outputId": "25623a4e-936e-46ed-b193-0e0368b45b8e"
      },
      "outputs": [
        {
          "name": "stderr",
          "output_type": "stream",
          "text": [
            "100%|██████████| 20/20 [00:05<00:00,  3.53it/s]"
          ]
        },
        {
          "name": "stdout",
          "output_type": "stream",
          "text": [
            "               precision    recall  f1-score   support\n",
            "\n",
            "   entailment       0.92      0.86      0.89      3327\n",
            "      neutral       0.80      0.88      0.84      3235\n",
            "contradiction       0.90      0.87      0.89      3278\n",
            "\n",
            "     accuracy                           0.87      9840\n",
            "    macro avg       0.87      0.87      0.87      9840\n",
            " weighted avg       0.87      0.87      0.87      9840\n",
            "\n"
          ]
        },
        {
          "name": "stderr",
          "output_type": "stream",
          "text": [
            "\n"
          ]
        }
      ],
      "source": [
        "model.load_state_dict(torch.load(f\"models/{model.model_name}.pth\"))\n",
        "test_preds, test_labels = model.predict_data(test_loader)\n",
        "\n",
        "from sklearn.metrics import classification_report\n",
        "\n",
        "print(classification_report(test_labels, test_preds, zero_division=0, target_names=LABEL_MAP.keys()))"
      ]
    }
  ],
  "metadata": {
    "kernelspec": {
      "display_name": "Python 3",
      "language": "python",
      "name": "python3"
    },
    "language_info": {
      "codemirror_mode": {
        "name": "ipython",
        "version": 3
      },
      "file_extension": ".py",
      "mimetype": "text/x-python",
      "name": "python",
      "nbconvert_exporter": "python",
      "pygments_lexer": "ipython3",
      "version": "3.8.10"
    },
    "colab": {
      "provenance": []
    }
  },
  "nbformat": 4,
  "nbformat_minor": 0
}