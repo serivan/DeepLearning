{
  "nbformat": 4,
  "nbformat_minor": 0,
  "metadata": {
    "colab": {
      "name": "Optuna, bayesian hyperparameter tuning.ipynb",
      "provenance": []
    },
    "kernelspec": {
      "name": "python3",
      "display_name": "Python 3"
    }
  },
  "cells": [
    {
      "cell_type": "markdown",
      "metadata": {
        "id": "PFKIy7Ha2Uom"
      },
      "source": [
        "# Installazioni"
      ]
    },
    {
      "cell_type": "code",
      "metadata": {
        "id": "DWpe-4Mqs5yY"
      },
      "source": [
        "!pip install optuna"
      ],
      "execution_count": null,
      "outputs": []
    },
    {
      "cell_type": "markdown",
      "metadata": {
        "id": "a6Ng0jR82PCI"
      },
      "source": [
        "# Imports"
      ]
    },
    {
      "cell_type": "code",
      "metadata": {
        "id": "ic2zJV_ws0Ed"
      },
      "source": [
        "import optuna\n",
        "import numpy as np\n",
        "import pandas as pd\n",
        "import tensorflow as tf\n",
        "import joblib\n",
        "\n",
        "from sklearn.metrics import (\n",
        "    accuracy_score,\n",
        "    classification_report,\n",
        "    confusion_matrix,\n",
        "    make_scorer,\n",
        ")\n",
        "from sklearn.preprocessing import MinMaxScaler, RobustScaler, StandardScaler, MaxAbsScaler\n",
        "from sklearn.utils import compute_class_weight\n",
        "from sklearn.pipeline import Pipeline\n",
        "from sklearn.impute import SimpleImputer\n",
        "from sklearn.model_selection import train_test_split\n",
        "\n",
        "\n",
        "from tensorflow.keras import backend as K\n",
        "from tensorflow.keras.callbacks import EarlyStopping\n",
        "from tensorflow.keras.layers import BatchNormalization, Dense, Dropout\n",
        "from tensorflow.keras.models import Sequential, load_model\n",
        "from tensorflow.keras.optimizers import Adam\n",
        "from tensorflow.keras.regularizers import l2\n",
        "from tensorflow.keras.utils import to_categorical\n",
        "from tensorflow.keras.wrappers.scikit_learn import KerasClassifier"
      ],
      "execution_count": null,
      "outputs": []
    },
    {
      "cell_type": "markdown",
      "metadata": {
        "id": "A37a82J_2Fid"
      },
      "source": [
        "# Rimozione dei warnings"
      ]
    },
    {
      "cell_type": "code",
      "metadata": {
        "id": "XnVrqRMJtzB_"
      },
      "source": [
        "# Remove all warnings\n",
        "import warnings\n",
        "warnings.filterwarnings(\"ignore\")\n",
        "import os\n",
        "os.environ[\"PYTHONWARNINGS\"] = \"ignore\" # Also affect subprocesses"
      ],
      "execution_count": null,
      "outputs": []
    },
    {
      "cell_type": "markdown",
      "metadata": {
        "id": "rOCuMnFb2KXl"
      },
      "source": [
        "# Costanti"
      ]
    },
    {
      "cell_type": "code",
      "metadata": {
        "id": "Nunoz0iTt2a3"
      },
      "source": [
        "LEARNING_RATE = 0.0001\n",
        "EPOCHS = 200\n",
        "RANDOM_STATE = 3993\n",
        "tf.random.set_seed(RANDOM_STATE)\n",
        "np.random.seed(RANDOM_STATE)\n",
        "\n",
        "early_stopping = EarlyStopping(\n",
        "    monitor=\"binary_accuracy\", \n",
        "    verbose=1,\n",
        "    patience=20,\n",
        "    mode=\"max\",\n",
        "    restore_best_weights=True,\n",
        ")"
      ],
      "execution_count": null,
      "outputs": []
    },
    {
      "cell_type": "markdown",
      "metadata": {
        "id": "izTJYrSa2J4G"
      },
      "source": [
        "# Modello di rete neurale\n",
        "Implementiamo un semplice modello di rete neurale, con una serie di iperparametri:\n",
        "\n",
        "\n",
        "1.   numero di unità nel primo layer nascosto, viene poi decrementato per ogni successivo.\n",
        "2.   numero di layer nascosti.\n",
        "3.   funzione di attivazione dei layer nascosti.\n",
        "4.   valore del dropout nel primo layer nascosto, viene poi decrementato per ogni successivo.\n",
        "5.   booleano che indica se la batch normalization sia attiva nei layer nascosti.\n",
        "6.   booleano che indica se l'activity regularization sia attiva nei layer nascosti.\n",
        "\n",
        "Utilizziamo **Adam** come ottimizzatore con  un learning rate pari a $10^{-4}$, **softmax** come funzione di attivazione del layer di output e come loss la **binary crossentropy**, affiancata alla **binary accuracy**, come metrica.\n",
        "Un altra importante implementazione è l'utilizzo del corretto inizializzatore dei pesi rispetto alla funzione di attivazione inserita come iperparametro."
      ]
    },
    {
      "cell_type": "code",
      "metadata": {
        "id": "V0UC9-Ymt3m4"
      },
      "source": [
        "def deep_dense_nn(max_hidden_units: int,\n",
        "                  hidden_layers: int = 1,\n",
        "                  hidden_activation: str = 'relu',\n",
        "                  max_dropout_rate: float = 0.5,\n",
        "                  batch_norm: bool = False,\n",
        "                  activity_regularizer: bool = False,\n",
        "                 ):\n",
        "    output_units = 2\n",
        "    output_activation = 'softmax'\n",
        "    \n",
        "    # Define the correct kernel initialization for the selected activation function\n",
        "    act_kinit_dict = {'relu': 'he_uniform', 'selu': 'lecun_normal', 'elu': 'he_uniform', 'swish': 'he_uniform'}\n",
        "    kernel_intializer = act_kinit_dict[hidden_activation] if hidden_activation in act_kinit_dict else 'glorot_uniform'\n",
        "    \n",
        "    # Create the list of layers\n",
        "    layers = list()\n",
        "       \n",
        "    for i in range(1, hidden_layers + 1):        \n",
        "        # Add dense layer\n",
        "        layers.append(Dense(units=int(max_hidden_units/i) + output_units,\n",
        "                                activation=hidden_activation,\n",
        "                                kernel_initializer=kernel_intializer,\n",
        "                                activity_regularizer=l2(1e-5) if activity_regularizer else None,\n",
        "                               ))\n",
        "        # Add batch normalization if it is setted in params\n",
        "        if batch_norm:\n",
        "            layers.append(BatchNormalization())\n",
        "        # Add Dropout\n",
        "        layers.append(Dropout(max_dropout_rate/i))\n",
        "        \n",
        "    # Extend with last part of the layers\n",
        "    layers.append(Dense(output_units, activation=output_activation))\n",
        "    \n",
        "#     print(layers)\n",
        "    \n",
        "    # Create sequential model\n",
        "    model = Sequential(layers)\n",
        "    optimizer = Adam(learning_rate=LEARNING_RATE)\n",
        "    metrics = [\"binary_accuracy\"]\n",
        "    # Compile the model\n",
        "    model.compile(loss = \"binary_crossentropy\",\n",
        "                  optimizer=optimizer,\n",
        "                  metrics=metrics)\n",
        "    \n",
        "    #model.summary()\n",
        "    \n",
        "    return model"
      ],
      "execution_count": null,
      "outputs": []
    },
    {
      "cell_type": "markdown",
      "metadata": {
        "id": "Njzcbqlb2uD2"
      },
      "source": [
        "# Caricamento del dataset e preprocessing \n",
        "load del dataset e trasformazione della feature da **Good** a **1** e da **Disappointing** a **0**, in modo tale che il modello possa lavorare in maniera corretta"
      ]
    },
    {
      "cell_type": "code",
      "metadata": {
        "id": "GupN-U9wtYq6"
      },
      "source": [
        "url = 'https://raw.githubusercontent.com/serivan/mldmlab/master/Datasets/Kaggle2020/train.csv'\n",
        "training_set = pd.read_csv(url)\n",
        "for index in training_set.index:\n",
        "    if training_set.loc[index,\"Quality\"]==\"Good\":\n",
        "        training_set.loc[index,\"Quality\"] = 1\n",
        "    if training_set.loc[index,\"Quality\"]==\"Disappointing\":\n",
        "        training_set.loc[index,\"Quality\"] = 0"
      ],
      "execution_count": null,
      "outputs": []
    },
    {
      "cell_type": "code",
      "metadata": {
        "id": "Yx1HwQnJuBVe",
        "outputId": "f99b05f2-a6dc-41e8-f28a-9685fd1ac64d",
        "colab": {
          "base_uri": "https://localhost:8080/",
          "height": 439
        }
      },
      "source": [
        "training_set"
      ],
      "execution_count": null,
      "outputs": [
        {
          "output_type": "execute_result",
          "data": {
            "text/html": [
              "<div>\n",
              "<style scoped>\n",
              "    .dataframe tbody tr th:only-of-type {\n",
              "        vertical-align: middle;\n",
              "    }\n",
              "\n",
              "    .dataframe tbody tr th {\n",
              "        vertical-align: top;\n",
              "    }\n",
              "\n",
              "    .dataframe thead th {\n",
              "        text-align: right;\n",
              "    }\n",
              "</style>\n",
              "<table border=\"1\" class=\"dataframe\">\n",
              "  <thead>\n",
              "    <tr style=\"text-align: right;\">\n",
              "      <th></th>\n",
              "      <th>Id</th>\n",
              "      <th>fixed.acidity</th>\n",
              "      <th>volatile.acidity</th>\n",
              "      <th>citric.acid</th>\n",
              "      <th>residual.sugar</th>\n",
              "      <th>chlorides</th>\n",
              "      <th>free.sulfur.dioxide</th>\n",
              "      <th>total.sulfur.dioxide</th>\n",
              "      <th>density</th>\n",
              "      <th>pH</th>\n",
              "      <th>sulphates</th>\n",
              "      <th>alcohol</th>\n",
              "      <th>Quality</th>\n",
              "    </tr>\n",
              "  </thead>\n",
              "  <tbody>\n",
              "    <tr>\n",
              "      <th>0</th>\n",
              "      <td>3940</td>\n",
              "      <td>6.4</td>\n",
              "      <td>0.39</td>\n",
              "      <td>0.21</td>\n",
              "      <td>1.2</td>\n",
              "      <td>41.00</td>\n",
              "      <td>35.0</td>\n",
              "      <td>136.0</td>\n",
              "      <td>0.99225</td>\n",
              "      <td>3.15</td>\n",
              "      <td>0.46</td>\n",
              "      <td>10.2</td>\n",
              "      <td>0</td>\n",
              "    </tr>\n",
              "    <tr>\n",
              "      <th>1</th>\n",
              "      <td>1655</td>\n",
              "      <td>7.5</td>\n",
              "      <td>305.00</td>\n",
              "      <td>0.40</td>\n",
              "      <td>18.9</td>\n",
              "      <td>59.00</td>\n",
              "      <td>44.0</td>\n",
              "      <td>170.0</td>\n",
              "      <td>1.00000</td>\n",
              "      <td>2.99</td>\n",
              "      <td>0.46</td>\n",
              "      <td>9.0</td>\n",
              "      <td>0</td>\n",
              "    </tr>\n",
              "    <tr>\n",
              "      <th>2</th>\n",
              "      <td>1867</td>\n",
              "      <td>6.3</td>\n",
              "      <td>0.28</td>\n",
              "      <td>0.30</td>\n",
              "      <td>3.1</td>\n",
              "      <td>39.00</td>\n",
              "      <td>24.0</td>\n",
              "      <td>115.0</td>\n",
              "      <td>0.99420</td>\n",
              "      <td>3.05</td>\n",
              "      <td>0.43</td>\n",
              "      <td>8.6</td>\n",
              "      <td>0</td>\n",
              "    </tr>\n",
              "    <tr>\n",
              "      <th>3</th>\n",
              "      <td>4476</td>\n",
              "      <td>7.4</td>\n",
              "      <td>0.18</td>\n",
              "      <td>0.30</td>\n",
              "      <td>10.4</td>\n",
              "      <td>45.00</td>\n",
              "      <td>44.0</td>\n",
              "      <td>174.0</td>\n",
              "      <td>0.99660</td>\n",
              "      <td>3.11</td>\n",
              "      <td>0.57</td>\n",
              "      <td>9.7</td>\n",
              "      <td>1</td>\n",
              "    </tr>\n",
              "    <tr>\n",
              "      <th>4</th>\n",
              "      <td>453</td>\n",
              "      <td>6.9</td>\n",
              "      <td>0.20</td>\n",
              "      <td>0.36</td>\n",
              "      <td>1.5</td>\n",
              "      <td>31.00</td>\n",
              "      <td>38.0</td>\n",
              "      <td>147.0</td>\n",
              "      <td>0.99310</td>\n",
              "      <td>3.35</td>\n",
              "      <td>0.56</td>\n",
              "      <td>11.0</td>\n",
              "      <td>1</td>\n",
              "    </tr>\n",
              "    <tr>\n",
              "      <th>...</th>\n",
              "      <td>...</td>\n",
              "      <td>...</td>\n",
              "      <td>...</td>\n",
              "      <td>...</td>\n",
              "      <td>...</td>\n",
              "      <td>...</td>\n",
              "      <td>...</td>\n",
              "      <td>...</td>\n",
              "      <td>...</td>\n",
              "      <td>...</td>\n",
              "      <td>...</td>\n",
              "      <td>...</td>\n",
              "      <td>...</td>\n",
              "    </tr>\n",
              "    <tr>\n",
              "      <th>3484</th>\n",
              "      <td>2768</td>\n",
              "      <td>6.9</td>\n",
              "      <td>0.14</td>\n",
              "      <td>0.38</td>\n",
              "      <td>1.0</td>\n",
              "      <td>41.00</td>\n",
              "      <td>22.0</td>\n",
              "      <td>81.0</td>\n",
              "      <td>0.99043</td>\n",
              "      <td>3.03</td>\n",
              "      <td>0.54</td>\n",
              "      <td>11.4</td>\n",
              "      <td>1</td>\n",
              "    </tr>\n",
              "    <tr>\n",
              "      <th>3485</th>\n",
              "      <td>4347</td>\n",
              "      <td>9.0</td>\n",
              "      <td>0.20</td>\n",
              "      <td>0.33</td>\n",
              "      <td>3.5</td>\n",
              "      <td>49.00</td>\n",
              "      <td>10.0</td>\n",
              "      <td>40.0</td>\n",
              "      <td>0.99440</td>\n",
              "      <td>3.14</td>\n",
              "      <td>0.36</td>\n",
              "      <td>9.8</td>\n",
              "      <td>1</td>\n",
              "    </tr>\n",
              "    <tr>\n",
              "      <th>3486</th>\n",
              "      <td>1870</td>\n",
              "      <td>7.6</td>\n",
              "      <td>0.29</td>\n",
              "      <td>0.26</td>\n",
              "      <td>6.5</td>\n",
              "      <td>42.00</td>\n",
              "      <td>32.0</td>\n",
              "      <td>160.0</td>\n",
              "      <td>0.99440</td>\n",
              "      <td>3.14</td>\n",
              "      <td>0.47</td>\n",
              "      <td>10.7</td>\n",
              "      <td>0</td>\n",
              "    </tr>\n",
              "    <tr>\n",
              "      <th>3487</th>\n",
              "      <td>613</td>\n",
              "      <td>7.5</td>\n",
              "      <td>0.17</td>\n",
              "      <td>0.32</td>\n",
              "      <td>1.7</td>\n",
              "      <td>0.04</td>\n",
              "      <td>51.0</td>\n",
              "      <td>148.0</td>\n",
              "      <td>0.99160</td>\n",
              "      <td>3.21</td>\n",
              "      <td>0.44</td>\n",
              "      <td>11.5</td>\n",
              "      <td>1</td>\n",
              "    </tr>\n",
              "    <tr>\n",
              "      <th>3488</th>\n",
              "      <td>1486</td>\n",
              "      <td>6.7</td>\n",
              "      <td>0.24</td>\n",
              "      <td>0.35</td>\n",
              "      <td>13.1</td>\n",
              "      <td>0.05</td>\n",
              "      <td>64.0</td>\n",
              "      <td>205.0</td>\n",
              "      <td>997.00000</td>\n",
              "      <td>3.15</td>\n",
              "      <td>0.50</td>\n",
              "      <td>9.5</td>\n",
              "      <td>0</td>\n",
              "    </tr>\n",
              "  </tbody>\n",
              "</table>\n",
              "<p>3489 rows × 13 columns</p>\n",
              "</div>"
            ],
            "text/plain": [
              "        Id  fixed.acidity  volatile.acidity  ...  sulphates  alcohol  Quality\n",
              "0     3940            6.4              0.39  ...       0.46     10.2        0\n",
              "1     1655            7.5            305.00  ...       0.46      9.0        0\n",
              "2     1867            6.3              0.28  ...       0.43      8.6        0\n",
              "3     4476            7.4              0.18  ...       0.57      9.7        1\n",
              "4      453            6.9              0.20  ...       0.56     11.0        1\n",
              "...    ...            ...               ...  ...        ...      ...      ...\n",
              "3484  2768            6.9              0.14  ...       0.54     11.4        1\n",
              "3485  4347            9.0              0.20  ...       0.36      9.8        1\n",
              "3486  1870            7.6              0.29  ...       0.47     10.7        0\n",
              "3487   613            7.5              0.17  ...       0.44     11.5        1\n",
              "3488  1486            6.7              0.24  ...       0.50      9.5        0\n",
              "\n",
              "[3489 rows x 13 columns]"
            ]
          },
          "metadata": {
            "tags": []
          },
          "execution_count": 38
        }
      ]
    },
    {
      "cell_type": "markdown",
      "metadata": {
        "id": "AUFWYG7yPVNm"
      },
      "source": [
        "Spezziamo il data set in X e Y.\n",
        "Poi eseguiamo lo split in traininig e testing, in modo tale da poter aver un riscontro rispetto a quello che stiamo svolgendo."
      ]
    },
    {
      "cell_type": "code",
      "metadata": {
        "id": "HG4Zu_4BuD13"
      },
      "source": [
        "# creo X e Y eseguendo il drop di id e target\n",
        "cols_to_drop = [\"Id\", \"Quality\"]\n",
        "X_train = training_set.drop(columns=cols_to_drop)\n",
        "# setta la colonna target\n",
        "y_train = training_set[\"Quality\"]\n",
        "y_train_cat = to_categorical(y_train)\n",
        "X_train = X_train.fillna(np.nan)\n",
        "X_train = X_train.astype(np.float32)\n",
        "\n",
        "X_train, X_val, y_train_cat, y_val_cat = train_test_split(\n",
        "    X_train, y_train_cat, test_size=0.2, random_state=RANDOM_STATE, stratify=y_train_cat,\n",
        ")\n"
      ],
      "execution_count": null,
      "outputs": []
    },
    {
      "cell_type": "code",
      "metadata": {
        "id": "JqT7LTacxn6E"
      },
      "source": [
        "rounded_labels = np.argmax(y_train_cat, axis=1)\n",
        "rounded_labels2 = np.argmax(y_val_cat, axis=1)"
      ],
      "execution_count": null,
      "outputs": []
    },
    {
      "cell_type": "markdown",
      "metadata": {
        "id": "PPF2Pic30Q8E"
      },
      "source": [
        "# Sbilanciamento delle classi\n",
        "Possiamo vedere come il dataset risulta sbilanciato, il numero dei vini buoni è quasi il doppio rispetto a quelli non soddisfacenti, per questo motivo per equilibrare le classi è possibile seguire differenti strategie: downsampling, upsampling oppure l'assegnamento dei pesi alle classi. La strategia scelta per questo esempio è l'ultimo metodo."
      ]
    },
    {
      "cell_type": "code",
      "metadata": {
        "id": "FyXMGCjWx4tT",
        "outputId": "012a9a7a-6e80-4d50-cfe2-bff8aa5ab334",
        "colab": {
          "base_uri": "https://localhost:8080/"
        }
      },
      "source": [
        "print(\"Campioni totali nel training set: \"+str(training_set.shape[0]))\n",
        "numbers_good = training_set[training_set[\"Quality\"]==1].shape[0]\n",
        "numbers_disappointing = training_set[training_set[\"Quality\"]==0].shape[0]\n",
        "print(\"Numero dei vini buoni: \" +str(numbers_good)+\", numero dei vini non soddisfacenti: \"+str(numbers_disappointing))"
      ],
      "execution_count": null,
      "outputs": [
        {
          "output_type": "stream",
          "text": [
            "Campioni totali nel training set: 3489\n",
            "Numero dei vini buoni: 2284, numero dei vini non soddisfacenti: 1205\n"
          ],
          "name": "stdout"
        }
      ]
    },
    {
      "cell_type": "code",
      "metadata": {
        "id": "cBuHZ_Qox7_q",
        "outputId": "bbca5bcb-ebf0-4087-8512-84529d06709a",
        "colab": {
          "base_uri": "https://localhost:8080/"
        }
      },
      "source": [
        "# calcolo i pesi derivanti da ogni classe\n",
        "class_weight = compute_class_weight(\"balanced\", classes=np.unique(y_train), y=y_train)\n",
        "class_weight = {0: np.float32(class_weight[0]), 1: np.float32(class_weight[1])}\n",
        "print(\"Peso per i vini non soddisfacenti: \" +str(class_weight[0])+\", peso per i vini buoni: \"+str(class_weight[1]))"
      ],
      "execution_count": null,
      "outputs": [
        {
          "output_type": "stream",
          "text": [
            "Peso per i vini non soddisfacenti: 1.4477178, peso per i vini buoni: 0.7637916\n"
          ],
          "name": "stdout"
        }
      ]
    },
    {
      "cell_type": "markdown",
      "metadata": {
        "id": "Yr0uzTTZ1fCX"
      },
      "source": [
        "# Prova di una configurazione\n",
        "Qualora, non avessimo nessuna strategia di scelta degli iperparametri, sarebbe necessario sceglierli a mano, come nell'esempio successivo. Nella pipeline, nel fit inseriamo il numero di epoche, l'early stopping, un ulteriore regolarizzazione e i pesi relativi alle classi. "
      ]
    },
    {
      "cell_type": "code",
      "metadata": {
        "id": "kAm5uKXux_RY",
        "outputId": "6c597679-ac2e-430c-f3bf-9efe60bc4f14",
        "colab": {
          "base_uri": "https://localhost:8080/"
        }
      },
      "source": [
        "model = deep_dense_nn(max_hidden_units = 300,\n",
        "                  hidden_layers = 3,\n",
        "                  hidden_activation = 'relu',\n",
        "                  max_dropout_rate  = 0.25,\n",
        "                  batch_norm = True,\n",
        "                  activity_regularizer = True,\n",
        "                 )\n",
        "pipe = Pipeline([\n",
        "        ('imputer', SimpleImputer()),\n",
        "        ('scalers', StandardScaler()),\n",
        "        ('model', model)\n",
        "        ])\n",
        "pipeline = pipe.fit(\n",
        "    X_train,\n",
        "    rounded_labels,\n",
        "    model__epochs=EPOCHS,\n",
        "    model__callbacks=[early_stopping],\n",
        "    model__class_weight=class_weight,\n",
        "    model__verbose=0, \n",
        ")"
      ],
      "execution_count": null,
      "outputs": [
        {
          "output_type": "stream",
          "text": [
            "Restoring model weights from the end of the best epoch.\n",
            "Epoch 00021: early stopping\n"
          ],
          "name": "stdout"
        }
      ]
    },
    {
      "cell_type": "code",
      "metadata": {
        "id": "WpFq9VDcyEDX",
        "outputId": "dd4b8854-bf46-4714-b3f4-587cf99388de",
        "colab": {
          "base_uri": "https://localhost:8080/"
        }
      },
      "source": [
        "predictions = pipeline.predict(X_train)\n",
        "predictions = np.argmax(predictions.round(), axis=1)\n",
        "print(\"Accuracy sul training set: \"+str(accuracy_score(rounded_labels, predictions) * 100))\n",
        "cm_training = confusion_matrix(rounded_labels, predictions)\n",
        "print(\"Confusion matrix sul training: \")\n",
        "print(cm_training)\n",
        "\n",
        "predictions = pipeline.predict(X_val)\n",
        "predictions = np.argmax(predictions.round(), axis=1)\n",
        "print(\"Accuracy sul validation set: \"+str(accuracy_score(rounded_labels2, predictions) * 100))\n",
        "cm_training = confusion_matrix(rounded_labels2, predictions)\n",
        "print(\"Confusion matrix sul validation: \")\n",
        "print(cm_training)"
      ],
      "execution_count": null,
      "outputs": [
        {
          "output_type": "stream",
          "text": [
            "Accuracy sul training set: 49.91042637047653\n",
            "Confusion matrix sul training: \n",
            "[[ 625  339]\n",
            " [1059  768]]\n",
            "Accuracy sul validation set: 49.713467048710605\n",
            "Confusion matrix sul validation: \n",
            "[[164  77]\n",
            " [274 183]]\n"
          ],
          "name": "stdout"
        }
      ]
    },
    {
      "cell_type": "markdown",
      "metadata": {
        "id": "UJxl0jpD25ux"
      },
      "source": [
        "# Optuna, ricerca degli iperparametri tramite ottimizzazione bayesiana\n",
        "Come già enunciato nelle slides, utilizzeremo Optuna, per sfruttare questo framework dovremo definire una serie di passi necessari:\n",
        "\n",
        "\n",
        "1.   Definire uno spazio degli iperparametri (tramite un dizionario in cui, per ogni iperparametro, porremo una distribuzione fra quelle offerte sul sito https://optuna.readthedocs.io/en/stable/reference/distributions.html)\n",
        "2.   Definire una pipeline (la nostra rete neurale con il suo preprocessing)\n",
        "3.   Definire una funzione di score (la funzione su cui valutiamo la nostra rete neurale)\n",
        "\n"
      ]
    },
    {
      "cell_type": "code",
      "metadata": {
        "id": "EO2asT9myGNl"
      },
      "source": [
        "#1\n",
        "SEARCH_PARAMS_N1 = dict(\n",
        "    imputer__fill_value =optuna.distributions.CategoricalDistribution([-1,]),\n",
        "    imputer__strategy = optuna.distributions.CategoricalDistribution(['mean','median','constant',]),\n",
        "    imputer__missing_values = optuna.distributions.CategoricalDistribution([np.nan,]),\n",
        "    scalers = optuna.distributions.CategoricalDistribution([StandardScaler(),RobustScaler(),MinMaxScaler(),MaxAbsScaler()]),\n",
        "    model__hidden_activation=optuna.distributions.CategoricalDistribution([\"relu\",\"elu\",\"tanh\",\"swish\",\"selu\"]),\n",
        "    model__hidden_layers=optuna.distributions.IntUniformDistribution(1,10),\n",
        "    model__max_hidden_units=optuna.distributions.IntUniformDistribution(100,1000),\n",
        "    model__max_dropout_rate=optuna.distributions.UniformDistribution(0,0.5),\n",
        "    model__batch_norm=optuna.distributions.CategoricalDistribution([\"True\",\"False\"]),\n",
        "    model__activity_regularizer=optuna.distributions.CategoricalDistribution([\"True\",\"False\"]),\n",
        "    model__batch_size = optuna.distributions.CategoricalDistribution([8,16,32,64]),\n",
        ")\n",
        "#2\n",
        "model = KerasClassifier(build_fn=deep_dense_nn, verbose=0,)\n",
        "pipe = Pipeline([\n",
        "        ('imputer', SimpleImputer()),\n",
        "        ('scalers', StandardScaler()),\n",
        "        ('model', model)\n",
        "        ])\n",
        "#3\n",
        "scorer = make_scorer(accuracy_score)"
      ],
      "execution_count": null,
      "outputs": []
    },
    {
      "cell_type": "markdown",
      "metadata": {
        "id": "YXrJd1T59E2T"
      },
      "source": [
        "Una volta definiti i 3 passi necessari per il funzionamento di Optuna andiamo ora a definire l'ottimizzatore:\n",
        "1.   il numero di prove da effettuare\n",
        "2.   il grado di parallelizzazione(meglio porre 1)\n",
        "3.   il refit tramite l'intero data set una volta scovato il modello migliore\n",
        "4.   la ten cross fold validation per una migliore regolarizzazione\n",
        "\n",
        "Una volta definito è sufficiente poi eseguire il train, come quando svolgiamo un semplice modello di rete neurale.\n",
        " \n",
        " \n",
        " "
      ]
    },
    {
      "cell_type": "code",
      "metadata": {
        "id": "5JcLChkeyGym",
        "outputId": "cf6632e6-fc65-45e2-cd7f-692ae97aacff",
        "colab": {
          "base_uri": "https://localhost:8080/"
        }
      },
      "source": [
        "\n",
        "grid = optuna.integration.OptunaSearchCV(\n",
        "    estimator=pipe,\n",
        "    param_distributions=SEARCH_PARAMS_N1,\n",
        "    n_trials =3,\n",
        "    scoring=scorer,\n",
        "    n_jobs=1,\n",
        "    refit=True,\n",
        "    cv=10,\n",
        "    verbose=1,\n",
        "    random_state=RANDOM_STATE,\n",
        ")\n",
        "grid_result = grid.fit(\n",
        "    X_train,\n",
        "    rounded_labels,\n",
        "    model__epochs=EPOCHS,\n",
        "    model__callbacks=[early_stopping],\n",
        "    model__class_weight=class_weight,\n",
        "    model__verbose=0,\n",
        ")"
      ],
      "execution_count": null,
      "outputs": [
        {
          "output_type": "stream",
          "text": [
            "\u001b[32m[I 2020-11-04 12:41:56,392]\u001b[0m A new study created in memory with name: no-name-6e018699-460f-4d3d-ab23-904371f1d7b1\u001b[0m\n",
            "\u001b[32m[I 2020-11-04 12:41:56,393]\u001b[0m Searching the best hyperparameters using 2791 samples...\u001b[0m\n"
          ],
          "name": "stderr"
        },
        {
          "output_type": "stream",
          "text": [
            "Restoring model weights from the end of the best epoch.\n",
            "Epoch 00021: early stopping\n",
            "Restoring model weights from the end of the best epoch.\n",
            "Epoch 00021: early stopping\n",
            "Restoring model weights from the end of the best epoch.\n",
            "Epoch 00021: early stopping\n",
            "Restoring model weights from the end of the best epoch.\n",
            "Epoch 00021: early stopping\n",
            "Restoring model weights from the end of the best epoch.\n",
            "Epoch 00021: early stopping\n",
            "Restoring model weights from the end of the best epoch.\n",
            "Epoch 00021: early stopping\n",
            "Restoring model weights from the end of the best epoch.\n",
            "Epoch 00021: early stopping\n",
            "Restoring model weights from the end of the best epoch.\n",
            "Epoch 00021: early stopping\n",
            "Restoring model weights from the end of the best epoch.\n",
            "Epoch 00021: early stopping\n",
            "Restoring model weights from the end of the best epoch.\n",
            "Epoch 00021: early stopping\n"
          ],
          "name": "stdout"
        },
        {
          "output_type": "stream",
          "text": [
            "\u001b[32m[I 2020-11-04 12:45:08,995]\u001b[0m Trial 0 finished with value: 0.5230849974398362 and parameters: {'imputer__fill_value': -1, 'imputer__strategy': 'median', 'imputer__missing_values': nan, 'scalers': MaxAbsScaler(copy=True), 'model__hidden_activation': 'swish', 'model__hidden_layers': 7, 'model__max_hidden_units': 460, 'model__max_dropout_rate': 0.3486766288315916, 'model__batch_norm': 'False', 'model__activity_regularizer': 'False', 'model__batch_size': 16}. Best is trial 0 with value: 0.5230849974398362.\u001b[0m\n"
          ],
          "name": "stderr"
        },
        {
          "output_type": "stream",
          "text": [
            "Restoring model weights from the end of the best epoch.\n",
            "Epoch 00021: early stopping\n",
            "Restoring model weights from the end of the best epoch.\n",
            "Epoch 00021: early stopping\n",
            "Restoring model weights from the end of the best epoch.\n",
            "Epoch 00021: early stopping\n",
            "Restoring model weights from the end of the best epoch.\n",
            "Epoch 00021: early stopping\n",
            "Restoring model weights from the end of the best epoch.\n",
            "Epoch 00021: early stopping\n",
            "Restoring model weights from the end of the best epoch.\n",
            "Epoch 00021: early stopping\n",
            "Restoring model weights from the end of the best epoch.\n",
            "Epoch 00021: early stopping\n",
            "Restoring model weights from the end of the best epoch.\n",
            "Epoch 00021: early stopping\n",
            "Restoring model weights from the end of the best epoch.\n",
            "Epoch 00021: early stopping\n",
            "Restoring model weights from the end of the best epoch.\n",
            "Epoch 00021: early stopping\n"
          ],
          "name": "stdout"
        },
        {
          "output_type": "stream",
          "text": [
            "\u001b[32m[I 2020-11-04 12:51:30,302]\u001b[0m Trial 1 finished with value: 0.4994585253456222 and parameters: {'imputer__fill_value': -1, 'imputer__strategy': 'median', 'imputer__missing_values': nan, 'scalers': StandardScaler(copy=True, with_mean=True, with_std=True), 'model__hidden_activation': 'tanh', 'model__hidden_layers': 10, 'model__max_hidden_units': 510, 'model__max_dropout_rate': 0.2864285769474616, 'model__batch_norm': 'False', 'model__activity_regularizer': 'False', 'model__batch_size': 8}. Best is trial 0 with value: 0.5230849974398362.\u001b[0m\n"
          ],
          "name": "stderr"
        },
        {
          "output_type": "stream",
          "text": [
            "Restoring model weights from the end of the best epoch.\n",
            "Epoch 00021: early stopping\n",
            "Restoring model weights from the end of the best epoch.\n",
            "Epoch 00021: early stopping\n",
            "Restoring model weights from the end of the best epoch.\n",
            "Epoch 00021: early stopping\n",
            "Restoring model weights from the end of the best epoch.\n",
            "Epoch 00021: early stopping\n",
            "Restoring model weights from the end of the best epoch.\n",
            "Epoch 00021: early stopping\n",
            "Restoring model weights from the end of the best epoch.\n",
            "Epoch 00021: early stopping\n",
            "Restoring model weights from the end of the best epoch.\n",
            "Epoch 00021: early stopping\n",
            "Restoring model weights from the end of the best epoch.\n",
            "Epoch 00021: early stopping\n",
            "Restoring model weights from the end of the best epoch.\n",
            "Epoch 00021: early stopping\n",
            "Restoring model weights from the end of the best epoch.\n",
            "Epoch 00021: early stopping\n"
          ],
          "name": "stdout"
        },
        {
          "output_type": "stream",
          "text": [
            "\u001b[32m[I 2020-11-04 12:57:01,296]\u001b[0m Trial 2 finished with value: 0.5579403481822837 and parameters: {'imputer__fill_value': -1, 'imputer__strategy': 'mean', 'imputer__missing_values': nan, 'scalers': MinMaxScaler(copy=True, feature_range=(0, 1)), 'model__hidden_activation': 'swish', 'model__hidden_layers': 7, 'model__max_hidden_units': 507, 'model__max_dropout_rate': 0.4988168283845638, 'model__batch_norm': 'False', 'model__activity_regularizer': 'True', 'model__batch_size': 8}. Best is trial 2 with value: 0.5579403481822837.\u001b[0m\n",
            "\u001b[32m[I 2020-11-04 12:57:01,297]\u001b[0m Finished hyperparemeter search!\u001b[0m\n",
            "\u001b[32m[I 2020-11-04 12:57:01,303]\u001b[0m Refitting the estimator using 2791 samples...\u001b[0m\n",
            "\u001b[32m[I 2020-11-04 12:57:42,389]\u001b[0m Finished refitting! (elapsed time: 41.080 sec.)\u001b[0m\n"
          ],
          "name": "stderr"
        },
        {
          "output_type": "stream",
          "text": [
            "Restoring model weights from the end of the best epoch.\n",
            "Epoch 00021: early stopping\n"
          ],
          "name": "stdout"
        }
      ]
    },
    {
      "cell_type": "code",
      "metadata": {
        "id": "1rkk2yR2yIuz",
        "outputId": "feea8011-d895-4fd4-f681-b68d9c1c7c59",
        "colab": {
          "base_uri": "https://localhost:8080/",
          "height": 213
        }
      },
      "source": [
        "grid_result_PD = pd.DataFrame(grid_result.study_.trials_dataframe())\n",
        "grid_result_PD =grid_result_PD.sort_values(by=['value'],ascending=False)\n",
        "grid_result_PD"
      ],
      "execution_count": null,
      "outputs": [
        {
          "output_type": "execute_result",
          "data": {
            "text/html": [
              "<div>\n",
              "<style scoped>\n",
              "    .dataframe tbody tr th:only-of-type {\n",
              "        vertical-align: middle;\n",
              "    }\n",
              "\n",
              "    .dataframe tbody tr th {\n",
              "        vertical-align: top;\n",
              "    }\n",
              "\n",
              "    .dataframe thead th {\n",
              "        text-align: right;\n",
              "    }\n",
              "</style>\n",
              "<table border=\"1\" class=\"dataframe\">\n",
              "  <thead>\n",
              "    <tr style=\"text-align: right;\">\n",
              "      <th></th>\n",
              "      <th>number</th>\n",
              "      <th>value</th>\n",
              "      <th>datetime_start</th>\n",
              "      <th>datetime_complete</th>\n",
              "      <th>duration</th>\n",
              "      <th>params_imputer__fill_value</th>\n",
              "      <th>params_imputer__missing_values</th>\n",
              "      <th>params_imputer__strategy</th>\n",
              "      <th>params_model__activity_regularizer</th>\n",
              "      <th>params_model__batch_norm</th>\n",
              "      <th>params_model__batch_size</th>\n",
              "      <th>params_model__hidden_activation</th>\n",
              "      <th>params_model__hidden_layers</th>\n",
              "      <th>params_model__max_dropout_rate</th>\n",
              "      <th>params_model__max_hidden_units</th>\n",
              "      <th>params_scalers</th>\n",
              "      <th>user_attrs_mean_fit_time</th>\n",
              "      <th>user_attrs_mean_score_time</th>\n",
              "      <th>user_attrs_mean_test_score</th>\n",
              "      <th>user_attrs_split0_test_score</th>\n",
              "      <th>user_attrs_split1_test_score</th>\n",
              "      <th>user_attrs_split2_test_score</th>\n",
              "      <th>user_attrs_split3_test_score</th>\n",
              "      <th>user_attrs_split4_test_score</th>\n",
              "      <th>user_attrs_split5_test_score</th>\n",
              "      <th>user_attrs_split6_test_score</th>\n",
              "      <th>user_attrs_split7_test_score</th>\n",
              "      <th>user_attrs_split8_test_score</th>\n",
              "      <th>user_attrs_split9_test_score</th>\n",
              "      <th>user_attrs_std_fit_time</th>\n",
              "      <th>user_attrs_std_score_time</th>\n",
              "      <th>user_attrs_std_test_score</th>\n",
              "      <th>state</th>\n",
              "    </tr>\n",
              "  </thead>\n",
              "  <tbody>\n",
              "    <tr>\n",
              "      <th>2</th>\n",
              "      <td>2</td>\n",
              "      <td>0.557940</td>\n",
              "      <td>2020-11-04 12:51:30.303276</td>\n",
              "      <td>2020-11-04 12:57:01.295064</td>\n",
              "      <td>0 days 00:05:30.991788</td>\n",
              "      <td>-1</td>\n",
              "      <td>NaN</td>\n",
              "      <td>mean</td>\n",
              "      <td>True</td>\n",
              "      <td>False</td>\n",
              "      <td>8</td>\n",
              "      <td>swish</td>\n",
              "      <td>7</td>\n",
              "      <td>0.498817</td>\n",
              "      <td>507</td>\n",
              "      <td>MinMaxScaler(copy=True, feature_range=(0, 1))</td>\n",
              "      <td>32.671958</td>\n",
              "      <td>0.424189</td>\n",
              "      <td>0.557940</td>\n",
              "      <td>0.346429</td>\n",
              "      <td>0.584229</td>\n",
              "      <td>0.652330</td>\n",
              "      <td>0.698925</td>\n",
              "      <td>0.526882</td>\n",
              "      <td>0.655914</td>\n",
              "      <td>0.491039</td>\n",
              "      <td>0.333333</td>\n",
              "      <td>0.645161</td>\n",
              "      <td>0.645161</td>\n",
              "      <td>1.238024</td>\n",
              "      <td>0.043236</td>\n",
              "      <td>0.124466</td>\n",
              "      <td>COMPLETE</td>\n",
              "    </tr>\n",
              "    <tr>\n",
              "      <th>0</th>\n",
              "      <td>0</td>\n",
              "      <td>0.523085</td>\n",
              "      <td>2020-11-04 12:41:56.394435</td>\n",
              "      <td>2020-11-04 12:45:08.994799</td>\n",
              "      <td>0 days 00:03:12.600364</td>\n",
              "      <td>-1</td>\n",
              "      <td>NaN</td>\n",
              "      <td>median</td>\n",
              "      <td>False</td>\n",
              "      <td>False</td>\n",
              "      <td>16</td>\n",
              "      <td>swish</td>\n",
              "      <td>7</td>\n",
              "      <td>0.348677</td>\n",
              "      <td>460</td>\n",
              "      <td>MaxAbsScaler(copy=True)</td>\n",
              "      <td>18.840849</td>\n",
              "      <td>0.415674</td>\n",
              "      <td>0.523085</td>\n",
              "      <td>0.592857</td>\n",
              "      <td>0.648746</td>\n",
              "      <td>0.666667</td>\n",
              "      <td>0.315412</td>\n",
              "      <td>0.329749</td>\n",
              "      <td>0.627240</td>\n",
              "      <td>0.426523</td>\n",
              "      <td>0.630824</td>\n",
              "      <td>0.659498</td>\n",
              "      <td>0.333333</td>\n",
              "      <td>0.761313</td>\n",
              "      <td>0.042572</td>\n",
              "      <td>0.144283</td>\n",
              "      <td>COMPLETE</td>\n",
              "    </tr>\n",
              "    <tr>\n",
              "      <th>1</th>\n",
              "      <td>1</td>\n",
              "      <td>0.499459</td>\n",
              "      <td>2020-11-04 12:45:08.996652</td>\n",
              "      <td>2020-11-04 12:51:30.301296</td>\n",
              "      <td>0 days 00:06:21.304644</td>\n",
              "      <td>-1</td>\n",
              "      <td>NaN</td>\n",
              "      <td>median</td>\n",
              "      <td>False</td>\n",
              "      <td>False</td>\n",
              "      <td>8</td>\n",
              "      <td>tanh</td>\n",
              "      <td>10</td>\n",
              "      <td>0.286429</td>\n",
              "      <td>510</td>\n",
              "      <td>StandardScaler(copy=True, with_mean=True, with...</td>\n",
              "      <td>37.603524</td>\n",
              "      <td>0.523631</td>\n",
              "      <td>0.499459</td>\n",
              "      <td>0.510714</td>\n",
              "      <td>0.465950</td>\n",
              "      <td>0.498208</td>\n",
              "      <td>0.498208</td>\n",
              "      <td>0.444444</td>\n",
              "      <td>0.523297</td>\n",
              "      <td>0.534050</td>\n",
              "      <td>0.444444</td>\n",
              "      <td>0.526882</td>\n",
              "      <td>0.548387</td>\n",
              "      <td>2.014285</td>\n",
              "      <td>0.054916</td>\n",
              "      <td>0.034952</td>\n",
              "      <td>COMPLETE</td>\n",
              "    </tr>\n",
              "  </tbody>\n",
              "</table>\n",
              "</div>"
            ],
            "text/plain": [
              "   number     value  ... user_attrs_std_test_score     state\n",
              "2       2  0.557940  ...                  0.124466  COMPLETE\n",
              "0       0  0.523085  ...                  0.144283  COMPLETE\n",
              "1       1  0.499459  ...                  0.034952  COMPLETE\n",
              "\n",
              "[3 rows x 33 columns]"
            ]
          },
          "metadata": {
            "tags": []
          },
          "execution_count": 47
        }
      ]
    },
    {
      "cell_type": "code",
      "metadata": {
        "id": "noMMRrPTyNKr",
        "outputId": "efe2da09-326a-444f-b221-862af602ad41",
        "colab": {
          "base_uri": "https://localhost:8080/"
        }
      },
      "source": [
        "print(\"Index migliore: \" +str(grid_result.best_trial_.number))\n",
        "print(\"Parametri migliori: \"+str(grid_result.best_params_))\n",
        "print(\"Score migliore: \"+str(grid_result.best_score_))\n",
        "predictions = grid_result.best_estimator_.predict(X_train)\n",
        "print(\"Accuracy sul training set: \"+str(accuracy_score(rounded_labels, predictions) * 100))\n",
        "cm_training = confusion_matrix(rounded_labels, predictions)\n",
        "print(\"Confusion matrix sul training: \")\n",
        "print(cm_training)\n",
        "predictions = grid_result.best_estimator_.predict(X_val)\n",
        "print(\"Accuracy sul testing set: \" +str(accuracy_score(rounded_labels2, predictions) * 100))\n",
        "cm_testing = confusion_matrix(rounded_labels2, predictions)\n",
        "print(\"Confusion matrix sul testing: \")\n",
        "print(cm_testing)"
      ],
      "execution_count": null,
      "outputs": [
        {
          "output_type": "stream",
          "text": [
            "Index migliore: 2\n",
            "Parametri migliori: {'imputer__fill_value': -1, 'imputer__strategy': 'mean', 'imputer__missing_values': nan, 'scalers': MinMaxScaler(copy=True, feature_range=(0, 1)), 'model__hidden_activation': 'swish', 'model__hidden_layers': 7, 'model__max_hidden_units': 507, 'model__max_dropout_rate': 0.4988168283845638, 'model__batch_norm': 'False', 'model__activity_regularizer': 'True', 'model__batch_size': 8}\n",
            "Score migliore: 0.5579403481822837\n",
            "Accuracy sul training set: 60.4442852024364\n",
            "Confusion matrix sul training: \n",
            "[[  69  895]\n",
            " [ 209 1618]]\n",
            "Accuracy sul testing set: 58.59598853868195\n",
            "Confusion matrix sul testing: \n",
            "[[ 19 222]\n",
            " [ 67 390]]\n"
          ],
          "name": "stdout"
        }
      ]
    },
    {
      "cell_type": "markdown",
      "metadata": {
        "id": "xqJFUpHuYhQh"
      },
      "source": [
        "# Salvataggio del CSV e dello studio"
      ]
    },
    {
      "cell_type": "code",
      "metadata": {
        "id": "MeeRx4o3yPQ1"
      },
      "source": [
        "#grid_result_PD.to_csv(\"./dataset_kaggle/grid_result_PD.csv\")\n",
        "#joblib.dump(grid_result.study_, \"./dataset_kaggle/study.pkl\")"
      ],
      "execution_count": null,
      "outputs": []
    },
    {
      "cell_type": "markdown",
      "metadata": {
        "id": "e-u9eqwyYPFb"
      },
      "source": [
        "# Visualizzazione dello studio tramite grafici"
      ]
    },
    {
      "cell_type": "code",
      "metadata": {
        "id": "4hXnY8CwWxbf"
      },
      "source": [
        "study = joblib.load('study.pkl')\n",
        "#study = grid_result.study_"
      ],
      "execution_count": null,
      "outputs": []
    },
    {
      "cell_type": "code",
      "metadata": {
        "id": "C2fhHDaFXG-F",
        "outputId": "bfb9b9ac-5c43-4995-f863-d418e191d0c0",
        "colab": {
          "base_uri": "https://localhost:8080/",
          "height": 542
        }
      },
      "source": [
        "optuna.visualization.plot_optimization_history(study).show()"
      ],
      "execution_count": null,
      "outputs": [
        {
          "output_type": "display_data",
          "data": {
            "text/html": [
              "<html>\n",
              "<head><meta charset=\"utf-8\" /></head>\n",
              "<body>\n",
              "    <div>\n",
              "            <script src=\"https://cdnjs.cloudflare.com/ajax/libs/mathjax/2.7.5/MathJax.js?config=TeX-AMS-MML_SVG\"></script><script type=\"text/javascript\">if (window.MathJax) {MathJax.Hub.Config({SVG: {font: \"STIX-Web\"}});}</script>\n",
              "                <script type=\"text/javascript\">window.PlotlyConfig = {MathJaxConfig: 'local'};</script>\n",
              "        <script src=\"https://cdn.plot.ly/plotly-latest.min.js\"></script>    \n",
              "            <div id=\"e57e3e05-94fb-4f6a-a837-fb4d2ceaa080\" class=\"plotly-graph-div\" style=\"height:525px; width:100%;\"></div>\n",
              "            <script type=\"text/javascript\">\n",
              "                \n",
              "                    window.PLOTLYENV=window.PLOTLYENV || {};\n",
              "                    \n",
              "                if (document.getElementById(\"e57e3e05-94fb-4f6a-a837-fb4d2ceaa080\")) {\n",
              "                    Plotly.newPlot(\n",
              "                        'e57e3e05-94fb-4f6a-a837-fb4d2ceaa080',\n",
              "                        [{\"mode\": \"markers\", \"name\": \"Objective Value\", \"type\": \"scatter\", \"x\": [0, 1, 2, 3, 4, 5, 6, 7, 8, 9, 10, 11, 12, 13, 14, 15, 16, 17, 18, 19, 20, 21, 22, 23, 24, 25, 26, 27, 28, 29, 30, 31, 32, 33, 34, 35, 36, 37, 38, 39, 40, 41, 42, 43, 44, 45, 46, 47, 48, 49, 50, 51, 52, 53, 54, 55, 56, 57, 58, 59, 60, 61, 62, 63, 64, 65, 66, 67, 68, 69, 70, 71, 72, 73, 74, 75, 76, 77, 78, 79, 80, 81, 82, 83, 84, 85, 86, 87, 88, 89, 90, 91, 92, 93, 94, 95, 96, 97, 98, 99, 100, 101, 102, 103, 104, 105, 106, 107, 108, 109, 110, 111, 112, 113, 114, 115, 116, 117, 118, 119, 120, 121, 122, 123, 124, 125, 126, 127, 128, 129, 130, 131, 132, 133, 134, 135, 136, 137, 138, 139, 140, 141, 142, 143, 144, 145, 146, 147, 148, 149, 150, 151, 152, 153, 154, 155, 156, 157, 158, 159, 160, 161, 162, 163, 164, 165, 166, 167, 168, 169, 170, 171, 172, 173, 174, 175, 176, 177, 178, 179, 180, 181, 182, 183, 184, 185, 186, 187, 188, 189, 190, 191, 192, 193, 194, 195, 196, 197, 198, 199, 200, 201, 202, 203, 204, 205, 206, 207, 208, 209, 210, 211, 212, 213, 214, 215, 216, 217, 218, 219, 220, 221, 222, 223, 224, 225, 226, 227, 228, 229, 230, 231, 232, 233, 234, 235, 236, 237, 238, 239, 240, 241, 242, 243, 244, 245, 246, 247, 248, 249, 250, 251, 252, 253, 254, 255], \"y\": [0.5230849974398362, 0.49910138248847924, 0.5579403481822837, 0.5076792114695341, 0.5008909370199692, 0.4797695852534563, 0.5205619559651818, 0.5445673323092677, 0.48800947260624683, 0.5008973374295955, 0.49155273937531996, 0.5392012288786482, 0.49548771121351765, 0.4052521761392729, 0.48762288786482333, 0.5248835125448028, 0.5029966717869944, 0.5385061443932412, 0.5195737327188941, 0.5943958013312852, 0.44826676907322066, 0.48373783922171015, 0.47047491039426514, 0.4622286226318485, 0.5184984639016896, 0.4640130568356374, 0.5202841781874039, 0.5245865335381465, 0.496557859703021, 0.5478059395801331, 0.5485483870967742, 0.506263440860215, 0.473689196108551, 0.4521108550947261, 0.5091449052739374, 0.4826190476190476, 0.5080593958013313, 0.5102137736815155, 0.45717229902713774, 0.5083806963645673, 0.48834869431643624, 0.4987800819252432, 0.5048387096774193, 0.5166295442908346, 0.5181451612903226, 0.47513824884792627, 0.47441756272401436, 0.5804147465437788, 0.4711507936507936, 0.39162826420890934, 0.4689452124935996, 0.4317754736303123, 0.5235279057859703, 0.5323924731182796, 0.49157066052227344, 0.5341781874039939, 0.5029966717869943, 0.49764208909370194, 0.4879749103942652, 0.5188722478238608, 0.47226446492575525, 0.5288056835637481, 0.5159075780849974, 0.44241935483870964, 0.5072990271377369, 0.5137532002048131, 0.48256528417818745, 0.5008768561187915, 0.5234254992319508, 0.6033563748079878, 0.47872887864823355, 0.5088300051203276, 0.5073988735279058, 0.5574731182795699, 0.4729697900665643, 0.5077572964669739, 0.49233998975934457, 0.5080107526881721, 0.5212749615975423, 0.4829953917050691, 0.4934203789042499, 0.4994201228878648, 0.4417089093701997, 0.48841013824884794, 0.485894777265745, 0.47540578597030214, 0.4848015873015873, 0.48650793650793656, 0.5341781874039938, 0.4908755760368663, 0.4797439836149514, 0.48691116231438814, 0.44967997951868915, 0.49190348182283666, 0.47692524321556584, 0.5145084485407065, 0.4797439836149514, 0.4689644137224782, 0.49090501792114694, 0.4285471070148489, 0.494431643625192, 0.47077828981054787, 0.4586456733230927, 0.4897887864823348, 0.41313620071684587, 0.5608013312852023, 0.42924603174603176, 0.4829109062980031, 0.5356118791602663, 0.4772145417306707, 0.4972529441884281, 0.43212877624167945, 0.5199462365591397, 0.5059626216077828, 0.5044290834613416, 0.5625281618023553, 0.48696748591909883, 0.44817588325652846, 0.5141077828981054, 0.4733051715309779, 0.48865847414234515, 0.5241525857654891, 0.5012045570916539, 0.5065821812596005, 0.4765732206861239, 0.4829237071172556, 0.4700819252432155, 0.5399321556579622, 0.48259984639016895, 0.5009306195596518, 0.5152342549923196, 0.5868663594470046, 0.5228097798259089, 0.5230670762928826, 0.44716845878136197, 0.5374039938556068, 0.5030619559651817, 0.4840117767537123, 0.46751408090117774, 0.5108806963645672, 0.5069610855094726, 0.4328456221198157, 0.5019201228878649, 0.5833640552995392, 0.42889272913466464, 0.5163492063492063, 0.5195097286226319, 0.4915821812596007, 0.5460125448028673, 0.4572196620583718, 0.5571313364055299, 0.5087570404505888, 0.4550614439324117, 0.44751664106502814, 0.5088095238095238, 0.4987967229902715, 0.38013568868407577, 0.48690476190476195, 0.488300051203277, 0.46148233486943174, 0.4496927803379417, 0.4779877112135177, 0.4092076292882744, 0.45435227854582694, 0.488394777265745, 0.4493445980542755, 0.468689196108551, 0.4553571428571429, 0.5009600614439325, 0.5410138248847927, 0.4005837173579108, 0.5994700460829493, 0.4658230926779313, 0.45532898105478753, 0.529536610343062, 0.529610855094726, 0.5070302099334357, 0.5592613927291346, 0.46679979518689196, 0.4704429083461342, 0.5388364055299539, 0.4944930875576037, 0.4686930363543266, 0.481589861751152, 0.5094982078853046, 0.5126600102406554, 0.4375089605734767, 0.4475448028673836, 0.5897337429595494, 0.5392985151049667, 0.5481605222734255, 0.42742703533026116, 0.5700256016385048, 0.45863927291346646, 0.5488760880696365, 0.497305427547363, 0.4966487455197132, 0.47799411162314387, 0.4733410138248847, 0.48077444956477217, 0.4976113671274961, 0.4750691244239632, 0.4772977470558116, 0.49809011776753714, 0.4650012800819253, 0.5517370711725551, 0.5084229390681003, 0.49439580133128525, 0.48870839733742955, 0.493741679467486, 0.52163082437276, 0.4916295442908346, 0.4739631336405529, 0.5375064004096262, 0.49664234511008704, 0.49583845366103435, 0.41417178699436763, 0.5249462365591397, 0.5083973374295956, 0.45542754736303126, 0.4979851510496672, 0.5148156682027649, 0.5608064516129032, 0.5359715821812596, 0.47119559651817716, 0.6083666154633897, 0.5203020993343574, 0.546073988735279, 0.46618023553507426, 0.4959293394777265, 0.4721710189452125, 0.5216269841269842, 0.45747567844342035, 0.49941500256016386, 0.4084114183307732, 0.42307475678443424, 0.5119559651817717, 0.5320276497695853, 0.4934203789042499, 0.4149257552483359, 0.5278059395801331, 0.44493087557603694, 0.4363748079877112, 0.5155414746543779, 0.5073284690220174, 0.4869687660010241, 0.4994111623143881, 0.4747823860727086, 0.5664388120839734, 0.49511008704557097, 0.5338197644649256, 0.507031490015361, 0.41098310291858675, 0.4529185867895545, 0.5159383000512032, 0.532741935483871]}, {\"name\": \"Best Value\", \"type\": \"scatter\", \"x\": [0, 1, 2, 3, 4, 5, 6, 7, 8, 9, 10, 11, 12, 13, 14, 15, 16, 17, 18, 19, 20, 21, 22, 23, 24, 25, 26, 27, 28, 29, 30, 31, 32, 33, 34, 35, 36, 37, 38, 39, 40, 41, 42, 43, 44, 45, 46, 47, 48, 49, 50, 51, 52, 53, 54, 55, 56, 57, 58, 59, 60, 61, 62, 63, 64, 65, 66, 67, 68, 69, 70, 71, 72, 73, 74, 75, 76, 77, 78, 79, 80, 81, 82, 83, 84, 85, 86, 87, 88, 89, 90, 91, 92, 93, 94, 95, 96, 97, 98, 99, 100, 101, 102, 103, 104, 105, 106, 107, 108, 109, 110, 111, 112, 113, 114, 115, 116, 117, 118, 119, 120, 121, 122, 123, 124, 125, 126, 127, 128, 129, 130, 131, 132, 133, 134, 135, 136, 137, 138, 139, 140, 141, 142, 143, 144, 145, 146, 147, 148, 149, 150, 151, 152, 153, 154, 155, 156, 157, 158, 159, 160, 161, 162, 163, 164, 165, 166, 167, 168, 169, 170, 171, 172, 173, 174, 175, 176, 177, 178, 179, 180, 181, 182, 183, 184, 185, 186, 187, 188, 189, 190, 191, 192, 193, 194, 195, 196, 197, 198, 199, 200, 201, 202, 203, 204, 205, 206, 207, 208, 209, 210, 211, 212, 213, 214, 215, 216, 217, 218, 219, 220, 221, 222, 223, 224, 225, 226, 227, 228, 229, 230, 231, 232, 233, 234, 235, 236, 237, 238, 239, 240, 241, 242, 243, 244, 245, 246, 247, 248, 249, 250, 251, 252, 253, 254, 255], \"y\": [0.5230849974398362, 0.5230849974398362, 0.5579403481822837, 0.5579403481822837, 0.5579403481822837, 0.5579403481822837, 0.5579403481822837, 0.5579403481822837, 0.5579403481822837, 0.5579403481822837, 0.5579403481822837, 0.5579403481822837, 0.5579403481822837, 0.5579403481822837, 0.5579403481822837, 0.5579403481822837, 0.5579403481822837, 0.5579403481822837, 0.5579403481822837, 0.5943958013312852, 0.5943958013312852, 0.5943958013312852, 0.5943958013312852, 0.5943958013312852, 0.5943958013312852, 0.5943958013312852, 0.5943958013312852, 0.5943958013312852, 0.5943958013312852, 0.5943958013312852, 0.5943958013312852, 0.5943958013312852, 0.5943958013312852, 0.5943958013312852, 0.5943958013312852, 0.5943958013312852, 0.5943958013312852, 0.5943958013312852, 0.5943958013312852, 0.5943958013312852, 0.5943958013312852, 0.5943958013312852, 0.5943958013312852, 0.5943958013312852, 0.5943958013312852, 0.5943958013312852, 0.5943958013312852, 0.5943958013312852, 0.5943958013312852, 0.5943958013312852, 0.5943958013312852, 0.5943958013312852, 0.5943958013312852, 0.5943958013312852, 0.5943958013312852, 0.5943958013312852, 0.5943958013312852, 0.5943958013312852, 0.5943958013312852, 0.5943958013312852, 0.5943958013312852, 0.5943958013312852, 0.5943958013312852, 0.5943958013312852, 0.5943958013312852, 0.5943958013312852, 0.5943958013312852, 0.5943958013312852, 0.5943958013312852, 0.6033563748079878, 0.6033563748079878, 0.6033563748079878, 0.6033563748079878, 0.6033563748079878, 0.6033563748079878, 0.6033563748079878, 0.6033563748079878, 0.6033563748079878, 0.6033563748079878, 0.6033563748079878, 0.6033563748079878, 0.6033563748079878, 0.6033563748079878, 0.6033563748079878, 0.6033563748079878, 0.6033563748079878, 0.6033563748079878, 0.6033563748079878, 0.6033563748079878, 0.6033563748079878, 0.6033563748079878, 0.6033563748079878, 0.6033563748079878, 0.6033563748079878, 0.6033563748079878, 0.6033563748079878, 0.6033563748079878, 0.6033563748079878, 0.6033563748079878, 0.6033563748079878, 0.6033563748079878, 0.6033563748079878, 0.6033563748079878, 0.6033563748079878, 0.6033563748079878, 0.6033563748079878, 0.6033563748079878, 0.6033563748079878, 0.6033563748079878, 0.6033563748079878, 0.6033563748079878, 0.6033563748079878, 0.6033563748079878, 0.6033563748079878, 0.6033563748079878, 0.6033563748079878, 0.6033563748079878, 0.6033563748079878, 0.6033563748079878, 0.6033563748079878, 0.6033563748079878, 0.6033563748079878, 0.6033563748079878, 0.6033563748079878, 0.6033563748079878, 0.6033563748079878, 0.6033563748079878, 0.6033563748079878, 0.6033563748079878, 0.6033563748079878, 0.6033563748079878, 0.6033563748079878, 0.6033563748079878, 0.6033563748079878, 0.6033563748079878, 0.6033563748079878, 0.6033563748079878, 0.6033563748079878, 0.6033563748079878, 0.6033563748079878, 0.6033563748079878, 0.6033563748079878, 0.6033563748079878, 0.6033563748079878, 0.6033563748079878, 0.6033563748079878, 0.6033563748079878, 0.6033563748079878, 0.6033563748079878, 0.6033563748079878, 0.6033563748079878, 0.6033563748079878, 0.6033563748079878, 0.6033563748079878, 0.6033563748079878, 0.6033563748079878, 0.6033563748079878, 0.6033563748079878, 0.6033563748079878, 0.6033563748079878, 0.6033563748079878, 0.6033563748079878, 0.6033563748079878, 0.6033563748079878, 0.6033563748079878, 0.6033563748079878, 0.6033563748079878, 0.6033563748079878, 0.6033563748079878, 0.6033563748079878, 0.6033563748079878, 0.6033563748079878, 0.6033563748079878, 0.6033563748079878, 0.6033563748079878, 0.6033563748079878, 0.6033563748079878, 0.6033563748079878, 0.6033563748079878, 0.6033563748079878, 0.6033563748079878, 0.6033563748079878, 0.6033563748079878, 0.6033563748079878, 0.6033563748079878, 0.6033563748079878, 0.6033563748079878, 0.6033563748079878, 0.6033563748079878, 0.6033563748079878, 0.6033563748079878, 0.6033563748079878, 0.6033563748079878, 0.6033563748079878, 0.6033563748079878, 0.6033563748079878, 0.6033563748079878, 0.6033563748079878, 0.6033563748079878, 0.6033563748079878, 0.6033563748079878, 0.6033563748079878, 0.6033563748079878, 0.6033563748079878, 0.6033563748079878, 0.6033563748079878, 0.6033563748079878, 0.6033563748079878, 0.6033563748079878, 0.6033563748079878, 0.6033563748079878, 0.6033563748079878, 0.6033563748079878, 0.6033563748079878, 0.6033563748079878, 0.6033563748079878, 0.6033563748079878, 0.6033563748079878, 0.6033563748079878, 0.6033563748079878, 0.6033563748079878, 0.6033563748079878, 0.6033563748079878, 0.6033563748079878, 0.6033563748079878, 0.6083666154633897, 0.6083666154633897, 0.6083666154633897, 0.6083666154633897, 0.6083666154633897, 0.6083666154633897, 0.6083666154633897, 0.6083666154633897, 0.6083666154633897, 0.6083666154633897, 0.6083666154633897, 0.6083666154633897, 0.6083666154633897, 0.6083666154633897, 0.6083666154633897, 0.6083666154633897, 0.6083666154633897, 0.6083666154633897, 0.6083666154633897, 0.6083666154633897, 0.6083666154633897, 0.6083666154633897, 0.6083666154633897, 0.6083666154633897, 0.6083666154633897, 0.6083666154633897, 0.6083666154633897, 0.6083666154633897, 0.6083666154633897, 0.6083666154633897, 0.6083666154633897]}],\n",
              "                        {\"template\": {\"data\": {\"bar\": [{\"error_x\": {\"color\": \"#2a3f5f\"}, \"error_y\": {\"color\": \"#2a3f5f\"}, \"marker\": {\"line\": {\"color\": \"#E5ECF6\", \"width\": 0.5}}, \"type\": \"bar\"}], \"barpolar\": [{\"marker\": {\"line\": {\"color\": \"#E5ECF6\", \"width\": 0.5}}, \"type\": \"barpolar\"}], \"carpet\": [{\"aaxis\": {\"endlinecolor\": \"#2a3f5f\", \"gridcolor\": \"white\", \"linecolor\": \"white\", \"minorgridcolor\": \"white\", \"startlinecolor\": \"#2a3f5f\"}, \"baxis\": {\"endlinecolor\": \"#2a3f5f\", \"gridcolor\": \"white\", \"linecolor\": \"white\", \"minorgridcolor\": \"white\", \"startlinecolor\": \"#2a3f5f\"}, \"type\": \"carpet\"}], \"choropleth\": [{\"colorbar\": {\"outlinewidth\": 0, \"ticks\": \"\"}, \"type\": \"choropleth\"}], \"contour\": [{\"colorbar\": {\"outlinewidth\": 0, \"ticks\": \"\"}, \"colorscale\": [[0.0, \"#0d0887\"], [0.1111111111111111, \"#46039f\"], [0.2222222222222222, \"#7201a8\"], [0.3333333333333333, \"#9c179e\"], [0.4444444444444444, \"#bd3786\"], [0.5555555555555556, \"#d8576b\"], [0.6666666666666666, \"#ed7953\"], [0.7777777777777778, \"#fb9f3a\"], [0.8888888888888888, \"#fdca26\"], [1.0, \"#f0f921\"]], \"type\": \"contour\"}], \"contourcarpet\": [{\"colorbar\": {\"outlinewidth\": 0, \"ticks\": \"\"}, \"type\": \"contourcarpet\"}], \"heatmap\": [{\"colorbar\": {\"outlinewidth\": 0, \"ticks\": \"\"}, \"colorscale\": [[0.0, \"#0d0887\"], [0.1111111111111111, \"#46039f\"], [0.2222222222222222, \"#7201a8\"], [0.3333333333333333, \"#9c179e\"], [0.4444444444444444, \"#bd3786\"], [0.5555555555555556, \"#d8576b\"], [0.6666666666666666, \"#ed7953\"], [0.7777777777777778, \"#fb9f3a\"], [0.8888888888888888, \"#fdca26\"], [1.0, \"#f0f921\"]], \"type\": \"heatmap\"}], \"heatmapgl\": [{\"colorbar\": {\"outlinewidth\": 0, \"ticks\": \"\"}, \"colorscale\": [[0.0, \"#0d0887\"], [0.1111111111111111, \"#46039f\"], [0.2222222222222222, \"#7201a8\"], [0.3333333333333333, \"#9c179e\"], [0.4444444444444444, \"#bd3786\"], [0.5555555555555556, \"#d8576b\"], [0.6666666666666666, \"#ed7953\"], [0.7777777777777778, \"#fb9f3a\"], [0.8888888888888888, \"#fdca26\"], [1.0, \"#f0f921\"]], \"type\": \"heatmapgl\"}], \"histogram\": [{\"marker\": {\"colorbar\": {\"outlinewidth\": 0, \"ticks\": \"\"}}, \"type\": \"histogram\"}], \"histogram2d\": [{\"colorbar\": {\"outlinewidth\": 0, \"ticks\": \"\"}, \"colorscale\": [[0.0, \"#0d0887\"], [0.1111111111111111, \"#46039f\"], [0.2222222222222222, \"#7201a8\"], [0.3333333333333333, \"#9c179e\"], [0.4444444444444444, \"#bd3786\"], [0.5555555555555556, \"#d8576b\"], [0.6666666666666666, \"#ed7953\"], [0.7777777777777778, \"#fb9f3a\"], [0.8888888888888888, \"#fdca26\"], [1.0, \"#f0f921\"]], \"type\": \"histogram2d\"}], \"histogram2dcontour\": [{\"colorbar\": {\"outlinewidth\": 0, \"ticks\": \"\"}, \"colorscale\": [[0.0, \"#0d0887\"], [0.1111111111111111, \"#46039f\"], [0.2222222222222222, \"#7201a8\"], [0.3333333333333333, \"#9c179e\"], [0.4444444444444444, \"#bd3786\"], [0.5555555555555556, \"#d8576b\"], [0.6666666666666666, \"#ed7953\"], [0.7777777777777778, \"#fb9f3a\"], [0.8888888888888888, \"#fdca26\"], [1.0, \"#f0f921\"]], \"type\": \"histogram2dcontour\"}], \"mesh3d\": [{\"colorbar\": {\"outlinewidth\": 0, \"ticks\": \"\"}, \"type\": \"mesh3d\"}], \"parcoords\": [{\"line\": {\"colorbar\": {\"outlinewidth\": 0, \"ticks\": \"\"}}, \"type\": \"parcoords\"}], \"pie\": [{\"automargin\": true, \"type\": \"pie\"}], \"scatter\": [{\"marker\": {\"colorbar\": {\"outlinewidth\": 0, \"ticks\": \"\"}}, \"type\": \"scatter\"}], \"scatter3d\": [{\"line\": {\"colorbar\": {\"outlinewidth\": 0, \"ticks\": \"\"}}, \"marker\": {\"colorbar\": {\"outlinewidth\": 0, \"ticks\": \"\"}}, \"type\": \"scatter3d\"}], \"scattercarpet\": [{\"marker\": {\"colorbar\": {\"outlinewidth\": 0, \"ticks\": \"\"}}, \"type\": \"scattercarpet\"}], \"scattergeo\": [{\"marker\": {\"colorbar\": {\"outlinewidth\": 0, \"ticks\": \"\"}}, \"type\": \"scattergeo\"}], \"scattergl\": [{\"marker\": {\"colorbar\": {\"outlinewidth\": 0, \"ticks\": \"\"}}, \"type\": \"scattergl\"}], \"scattermapbox\": [{\"marker\": {\"colorbar\": {\"outlinewidth\": 0, \"ticks\": \"\"}}, \"type\": \"scattermapbox\"}], \"scatterpolar\": [{\"marker\": {\"colorbar\": {\"outlinewidth\": 0, \"ticks\": \"\"}}, \"type\": \"scatterpolar\"}], \"scatterpolargl\": [{\"marker\": {\"colorbar\": {\"outlinewidth\": 0, \"ticks\": \"\"}}, \"type\": \"scatterpolargl\"}], \"scatterternary\": [{\"marker\": {\"colorbar\": {\"outlinewidth\": 0, \"ticks\": \"\"}}, \"type\": \"scatterternary\"}], \"surface\": [{\"colorbar\": {\"outlinewidth\": 0, \"ticks\": \"\"}, \"colorscale\": [[0.0, \"#0d0887\"], [0.1111111111111111, \"#46039f\"], [0.2222222222222222, \"#7201a8\"], [0.3333333333333333, \"#9c179e\"], [0.4444444444444444, \"#bd3786\"], [0.5555555555555556, \"#d8576b\"], [0.6666666666666666, \"#ed7953\"], [0.7777777777777778, \"#fb9f3a\"], [0.8888888888888888, \"#fdca26\"], [1.0, \"#f0f921\"]], \"type\": \"surface\"}], \"table\": [{\"cells\": {\"fill\": {\"color\": \"#EBF0F8\"}, \"line\": {\"color\": \"white\"}}, \"header\": {\"fill\": {\"color\": \"#C8D4E3\"}, \"line\": {\"color\": \"white\"}}, \"type\": \"table\"}]}, \"layout\": {\"annotationdefaults\": {\"arrowcolor\": \"#2a3f5f\", \"arrowhead\": 0, \"arrowwidth\": 1}, \"coloraxis\": {\"colorbar\": {\"outlinewidth\": 0, \"ticks\": \"\"}}, \"colorscale\": {\"diverging\": [[0, \"#8e0152\"], [0.1, \"#c51b7d\"], [0.2, \"#de77ae\"], [0.3, \"#f1b6da\"], [0.4, \"#fde0ef\"], [0.5, \"#f7f7f7\"], [0.6, \"#e6f5d0\"], [0.7, \"#b8e186\"], [0.8, \"#7fbc41\"], [0.9, \"#4d9221\"], [1, \"#276419\"]], \"sequential\": [[0.0, \"#0d0887\"], [0.1111111111111111, \"#46039f\"], [0.2222222222222222, \"#7201a8\"], [0.3333333333333333, \"#9c179e\"], [0.4444444444444444, \"#bd3786\"], [0.5555555555555556, \"#d8576b\"], [0.6666666666666666, \"#ed7953\"], [0.7777777777777778, \"#fb9f3a\"], [0.8888888888888888, \"#fdca26\"], [1.0, \"#f0f921\"]], \"sequentialminus\": [[0.0, \"#0d0887\"], [0.1111111111111111, \"#46039f\"], [0.2222222222222222, \"#7201a8\"], [0.3333333333333333, \"#9c179e\"], [0.4444444444444444, \"#bd3786\"], [0.5555555555555556, \"#d8576b\"], [0.6666666666666666, \"#ed7953\"], [0.7777777777777778, \"#fb9f3a\"], [0.8888888888888888, \"#fdca26\"], [1.0, \"#f0f921\"]]}, \"colorway\": [\"#636efa\", \"#EF553B\", \"#00cc96\", \"#ab63fa\", \"#FFA15A\", \"#19d3f3\", \"#FF6692\", \"#B6E880\", \"#FF97FF\", \"#FECB52\"], \"font\": {\"color\": \"#2a3f5f\"}, \"geo\": {\"bgcolor\": \"white\", \"lakecolor\": \"white\", \"landcolor\": \"#E5ECF6\", \"showlakes\": true, \"showland\": true, \"subunitcolor\": \"white\"}, \"hoverlabel\": {\"align\": \"left\"}, \"hovermode\": \"closest\", \"mapbox\": {\"style\": \"light\"}, \"paper_bgcolor\": \"white\", \"plot_bgcolor\": \"#E5ECF6\", \"polar\": {\"angularaxis\": {\"gridcolor\": \"white\", \"linecolor\": \"white\", \"ticks\": \"\"}, \"bgcolor\": \"#E5ECF6\", \"radialaxis\": {\"gridcolor\": \"white\", \"linecolor\": \"white\", \"ticks\": \"\"}}, \"scene\": {\"xaxis\": {\"backgroundcolor\": \"#E5ECF6\", \"gridcolor\": \"white\", \"gridwidth\": 2, \"linecolor\": \"white\", \"showbackground\": true, \"ticks\": \"\", \"zerolinecolor\": \"white\"}, \"yaxis\": {\"backgroundcolor\": \"#E5ECF6\", \"gridcolor\": \"white\", \"gridwidth\": 2, \"linecolor\": \"white\", \"showbackground\": true, \"ticks\": \"\", \"zerolinecolor\": \"white\"}, \"zaxis\": {\"backgroundcolor\": \"#E5ECF6\", \"gridcolor\": \"white\", \"gridwidth\": 2, \"linecolor\": \"white\", \"showbackground\": true, \"ticks\": \"\", \"zerolinecolor\": \"white\"}}, \"shapedefaults\": {\"line\": {\"color\": \"#2a3f5f\"}}, \"ternary\": {\"aaxis\": {\"gridcolor\": \"white\", \"linecolor\": \"white\", \"ticks\": \"\"}, \"baxis\": {\"gridcolor\": \"white\", \"linecolor\": \"white\", \"ticks\": \"\"}, \"bgcolor\": \"#E5ECF6\", \"caxis\": {\"gridcolor\": \"white\", \"linecolor\": \"white\", \"ticks\": \"\"}}, \"title\": {\"x\": 0.05}, \"xaxis\": {\"automargin\": true, \"gridcolor\": \"white\", \"linecolor\": \"white\", \"ticks\": \"\", \"title\": {\"standoff\": 15}, \"zerolinecolor\": \"white\", \"zerolinewidth\": 2}, \"yaxis\": {\"automargin\": true, \"gridcolor\": \"white\", \"linecolor\": \"white\", \"ticks\": \"\", \"title\": {\"standoff\": 15}, \"zerolinecolor\": \"white\", \"zerolinewidth\": 2}}}, \"title\": {\"text\": \"Optimization History Plot\"}, \"xaxis\": {\"title\": {\"text\": \"#Trials\"}}, \"yaxis\": {\"title\": {\"text\": \"Objective Value\"}}},\n",
              "                        {\"responsive\": true}\n",
              "                    ).then(function(){\n",
              "                            \n",
              "var gd = document.getElementById('e57e3e05-94fb-4f6a-a837-fb4d2ceaa080');\n",
              "var x = new MutationObserver(function (mutations, observer) {{\n",
              "        var display = window.getComputedStyle(gd).display;\n",
              "        if (!display || display === 'none') {{\n",
              "            console.log([gd, 'removed!']);\n",
              "            Plotly.purge(gd);\n",
              "            observer.disconnect();\n",
              "        }}\n",
              "}});\n",
              "\n",
              "// Listen for the removal of the full notebook cells\n",
              "var notebookContainer = gd.closest('#notebook-container');\n",
              "if (notebookContainer) {{\n",
              "    x.observe(notebookContainer, {childList: true});\n",
              "}}\n",
              "\n",
              "// Listen for the clearing of the current output cell\n",
              "var outputEl = gd.closest('.output');\n",
              "if (outputEl) {{\n",
              "    x.observe(outputEl, {childList: true});\n",
              "}}\n",
              "\n",
              "                        })\n",
              "                };\n",
              "                \n",
              "            </script>\n",
              "        </div>\n",
              "</body>\n",
              "</html>"
            ]
          },
          "metadata": {
            "tags": []
          }
        }
      ]
    },
    {
      "cell_type": "code",
      "metadata": {
        "id": "sOYkI2wEZSXI",
        "outputId": "fcb4b9ef-9898-42d0-87d2-027b10724ac9",
        "colab": {
          "base_uri": "https://localhost:8080/",
          "height": 542
        }
      },
      "source": [
        "optuna.visualization.plot_param_importances(study, params= [\n",
        "                                                      'model__batch_size',\n",
        "                                                      'model__hidden_activation',\n",
        "                                                      'model__hidden_layers',\n",
        "                                                      'model__max_dropout_rate',\n",
        "                                                      'model__max_hidden_units',\n",
        "                                                      'imputer__strategy'\n",
        "                                                     ]).show()"
      ],
      "execution_count": null,
      "outputs": [
        {
          "output_type": "display_data",
          "data": {
            "text/html": [
              "<html>\n",
              "<head><meta charset=\"utf-8\" /></head>\n",
              "<body>\n",
              "    <div>\n",
              "            <script src=\"https://cdnjs.cloudflare.com/ajax/libs/mathjax/2.7.5/MathJax.js?config=TeX-AMS-MML_SVG\"></script><script type=\"text/javascript\">if (window.MathJax) {MathJax.Hub.Config({SVG: {font: \"STIX-Web\"}});}</script>\n",
              "                <script type=\"text/javascript\">window.PlotlyConfig = {MathJaxConfig: 'local'};</script>\n",
              "        <script src=\"https://cdn.plot.ly/plotly-latest.min.js\"></script>    \n",
              "            <div id=\"91381265-8a25-4266-a06a-6bca2c1f3b3f\" class=\"plotly-graph-div\" style=\"height:525px; width:100%;\"></div>\n",
              "            <script type=\"text/javascript\">\n",
              "                \n",
              "                    window.PLOTLYENV=window.PLOTLYENV || {};\n",
              "                    \n",
              "                if (document.getElementById(\"91381265-8a25-4266-a06a-6bca2c1f3b3f\")) {\n",
              "                    Plotly.newPlot(\n",
              "                        '91381265-8a25-4266-a06a-6bca2c1f3b3f',\n",
              "                        [{\"cliponaxis\": false, \"hovertemplate\": [\"model__hidden_activation (CategoricalDistribution): 0.025498433608808865<extra></extra>\", \"imputer__strategy (CategoricalDistribution): 0.028572945637304697<extra></extra>\", \"model__batch_size (CategoricalDistribution): 0.05786196294695704<extra></extra>\", \"model__hidden_layers (IntUniformDistribution): 0.09274918324183756<extra></extra>\", \"model__max_dropout_rate (UniformDistribution): 0.35126535098459133<extra></extra>\", \"model__max_hidden_units (IntUniformDistribution): 0.4440521235805006<extra></extra>\"], \"marker\": {\"color\": [\"rgb(66,146,198)\", \"rgb(66,146,198)\", \"rgb(66,146,198)\", \"rgb(8,81,156)\", \"rgb(8,48,107)\", \"rgb(8,81,156)\"]}, \"orientation\": \"h\", \"text\": [\"0.025498433608808865\", \"0.028572945637304697\", \"0.05786196294695704\", \"0.09274918324183756\", \"0.35126535098459133\", \"0.4440521235805006\"], \"textposition\": \"outside\", \"texttemplate\": \"%{text:.2f}\", \"type\": \"bar\", \"x\": [0.025498433608808865, 0.028572945637304697, 0.05786196294695704, 0.09274918324183756, 0.35126535098459133, 0.4440521235805006], \"y\": [\"model__hidden_activation\", \"imputer__strategy\", \"model__batch_size\", \"model__hidden_layers\", \"model__max_dropout_rate\", \"model__max_hidden_units\"]}],\n",
              "                        {\"showlegend\": false, \"template\": {\"data\": {\"bar\": [{\"error_x\": {\"color\": \"#2a3f5f\"}, \"error_y\": {\"color\": \"#2a3f5f\"}, \"marker\": {\"line\": {\"color\": \"#E5ECF6\", \"width\": 0.5}}, \"type\": \"bar\"}], \"barpolar\": [{\"marker\": {\"line\": {\"color\": \"#E5ECF6\", \"width\": 0.5}}, \"type\": \"barpolar\"}], \"carpet\": [{\"aaxis\": {\"endlinecolor\": \"#2a3f5f\", \"gridcolor\": \"white\", \"linecolor\": \"white\", \"minorgridcolor\": \"white\", \"startlinecolor\": \"#2a3f5f\"}, \"baxis\": {\"endlinecolor\": \"#2a3f5f\", \"gridcolor\": \"white\", \"linecolor\": \"white\", \"minorgridcolor\": \"white\", \"startlinecolor\": \"#2a3f5f\"}, \"type\": \"carpet\"}], \"choropleth\": [{\"colorbar\": {\"outlinewidth\": 0, \"ticks\": \"\"}, \"type\": \"choropleth\"}], \"contour\": [{\"colorbar\": {\"outlinewidth\": 0, \"ticks\": \"\"}, \"colorscale\": [[0.0, \"#0d0887\"], [0.1111111111111111, \"#46039f\"], [0.2222222222222222, \"#7201a8\"], [0.3333333333333333, \"#9c179e\"], [0.4444444444444444, \"#bd3786\"], [0.5555555555555556, \"#d8576b\"], [0.6666666666666666, \"#ed7953\"], [0.7777777777777778, \"#fb9f3a\"], [0.8888888888888888, \"#fdca26\"], [1.0, \"#f0f921\"]], \"type\": \"contour\"}], \"contourcarpet\": [{\"colorbar\": {\"outlinewidth\": 0, \"ticks\": \"\"}, \"type\": \"contourcarpet\"}], \"heatmap\": [{\"colorbar\": {\"outlinewidth\": 0, \"ticks\": \"\"}, \"colorscale\": [[0.0, \"#0d0887\"], [0.1111111111111111, \"#46039f\"], [0.2222222222222222, \"#7201a8\"], [0.3333333333333333, \"#9c179e\"], [0.4444444444444444, \"#bd3786\"], [0.5555555555555556, \"#d8576b\"], [0.6666666666666666, \"#ed7953\"], [0.7777777777777778, \"#fb9f3a\"], [0.8888888888888888, \"#fdca26\"], [1.0, \"#f0f921\"]], \"type\": \"heatmap\"}], \"heatmapgl\": [{\"colorbar\": {\"outlinewidth\": 0, \"ticks\": \"\"}, \"colorscale\": [[0.0, \"#0d0887\"], [0.1111111111111111, \"#46039f\"], [0.2222222222222222, \"#7201a8\"], [0.3333333333333333, \"#9c179e\"], [0.4444444444444444, \"#bd3786\"], [0.5555555555555556, \"#d8576b\"], [0.6666666666666666, \"#ed7953\"], [0.7777777777777778, \"#fb9f3a\"], [0.8888888888888888, \"#fdca26\"], [1.0, \"#f0f921\"]], \"type\": \"heatmapgl\"}], \"histogram\": [{\"marker\": {\"colorbar\": {\"outlinewidth\": 0, \"ticks\": \"\"}}, \"type\": \"histogram\"}], \"histogram2d\": [{\"colorbar\": {\"outlinewidth\": 0, \"ticks\": \"\"}, \"colorscale\": [[0.0, \"#0d0887\"], [0.1111111111111111, \"#46039f\"], [0.2222222222222222, \"#7201a8\"], [0.3333333333333333, \"#9c179e\"], [0.4444444444444444, \"#bd3786\"], [0.5555555555555556, \"#d8576b\"], [0.6666666666666666, \"#ed7953\"], [0.7777777777777778, \"#fb9f3a\"], [0.8888888888888888, \"#fdca26\"], [1.0, \"#f0f921\"]], \"type\": \"histogram2d\"}], \"histogram2dcontour\": [{\"colorbar\": {\"outlinewidth\": 0, \"ticks\": \"\"}, \"colorscale\": [[0.0, \"#0d0887\"], [0.1111111111111111, \"#46039f\"], [0.2222222222222222, \"#7201a8\"], [0.3333333333333333, \"#9c179e\"], [0.4444444444444444, \"#bd3786\"], [0.5555555555555556, \"#d8576b\"], [0.6666666666666666, \"#ed7953\"], [0.7777777777777778, \"#fb9f3a\"], [0.8888888888888888, \"#fdca26\"], [1.0, \"#f0f921\"]], \"type\": \"histogram2dcontour\"}], \"mesh3d\": [{\"colorbar\": {\"outlinewidth\": 0, \"ticks\": \"\"}, \"type\": \"mesh3d\"}], \"parcoords\": [{\"line\": {\"colorbar\": {\"outlinewidth\": 0, \"ticks\": \"\"}}, \"type\": \"parcoords\"}], \"pie\": [{\"automargin\": true, \"type\": \"pie\"}], \"scatter\": [{\"marker\": {\"colorbar\": {\"outlinewidth\": 0, \"ticks\": \"\"}}, \"type\": \"scatter\"}], \"scatter3d\": [{\"line\": {\"colorbar\": {\"outlinewidth\": 0, \"ticks\": \"\"}}, \"marker\": {\"colorbar\": {\"outlinewidth\": 0, \"ticks\": \"\"}}, \"type\": \"scatter3d\"}], \"scattercarpet\": [{\"marker\": {\"colorbar\": {\"outlinewidth\": 0, \"ticks\": \"\"}}, \"type\": \"scattercarpet\"}], \"scattergeo\": [{\"marker\": {\"colorbar\": {\"outlinewidth\": 0, \"ticks\": \"\"}}, \"type\": \"scattergeo\"}], \"scattergl\": [{\"marker\": {\"colorbar\": {\"outlinewidth\": 0, \"ticks\": \"\"}}, \"type\": \"scattergl\"}], \"scattermapbox\": [{\"marker\": {\"colorbar\": {\"outlinewidth\": 0, \"ticks\": \"\"}}, \"type\": \"scattermapbox\"}], \"scatterpolar\": [{\"marker\": {\"colorbar\": {\"outlinewidth\": 0, \"ticks\": \"\"}}, \"type\": \"scatterpolar\"}], \"scatterpolargl\": [{\"marker\": {\"colorbar\": {\"outlinewidth\": 0, \"ticks\": \"\"}}, \"type\": \"scatterpolargl\"}], \"scatterternary\": [{\"marker\": {\"colorbar\": {\"outlinewidth\": 0, \"ticks\": \"\"}}, \"type\": \"scatterternary\"}], \"surface\": [{\"colorbar\": {\"outlinewidth\": 0, \"ticks\": \"\"}, \"colorscale\": [[0.0, \"#0d0887\"], [0.1111111111111111, \"#46039f\"], [0.2222222222222222, \"#7201a8\"], [0.3333333333333333, \"#9c179e\"], [0.4444444444444444, \"#bd3786\"], [0.5555555555555556, \"#d8576b\"], [0.6666666666666666, \"#ed7953\"], [0.7777777777777778, \"#fb9f3a\"], [0.8888888888888888, \"#fdca26\"], [1.0, \"#f0f921\"]], \"type\": \"surface\"}], \"table\": [{\"cells\": {\"fill\": {\"color\": \"#EBF0F8\"}, \"line\": {\"color\": \"white\"}}, \"header\": {\"fill\": {\"color\": \"#C8D4E3\"}, \"line\": {\"color\": \"white\"}}, \"type\": \"table\"}]}, \"layout\": {\"annotationdefaults\": {\"arrowcolor\": \"#2a3f5f\", \"arrowhead\": 0, \"arrowwidth\": 1}, \"coloraxis\": {\"colorbar\": {\"outlinewidth\": 0, \"ticks\": \"\"}}, \"colorscale\": {\"diverging\": [[0, \"#8e0152\"], [0.1, \"#c51b7d\"], [0.2, \"#de77ae\"], [0.3, \"#f1b6da\"], [0.4, \"#fde0ef\"], [0.5, \"#f7f7f7\"], [0.6, \"#e6f5d0\"], [0.7, \"#b8e186\"], [0.8, \"#7fbc41\"], [0.9, \"#4d9221\"], [1, \"#276419\"]], \"sequential\": [[0.0, \"#0d0887\"], [0.1111111111111111, \"#46039f\"], [0.2222222222222222, \"#7201a8\"], [0.3333333333333333, \"#9c179e\"], [0.4444444444444444, \"#bd3786\"], [0.5555555555555556, \"#d8576b\"], [0.6666666666666666, \"#ed7953\"], [0.7777777777777778, \"#fb9f3a\"], [0.8888888888888888, \"#fdca26\"], [1.0, \"#f0f921\"]], \"sequentialminus\": [[0.0, \"#0d0887\"], [0.1111111111111111, \"#46039f\"], [0.2222222222222222, \"#7201a8\"], [0.3333333333333333, \"#9c179e\"], [0.4444444444444444, \"#bd3786\"], [0.5555555555555556, \"#d8576b\"], [0.6666666666666666, \"#ed7953\"], [0.7777777777777778, \"#fb9f3a\"], [0.8888888888888888, \"#fdca26\"], [1.0, \"#f0f921\"]]}, \"colorway\": [\"#636efa\", \"#EF553B\", \"#00cc96\", \"#ab63fa\", \"#FFA15A\", \"#19d3f3\", \"#FF6692\", \"#B6E880\", \"#FF97FF\", \"#FECB52\"], \"font\": {\"color\": \"#2a3f5f\"}, \"geo\": {\"bgcolor\": \"white\", \"lakecolor\": \"white\", \"landcolor\": \"#E5ECF6\", \"showlakes\": true, \"showland\": true, \"subunitcolor\": \"white\"}, \"hoverlabel\": {\"align\": \"left\"}, \"hovermode\": \"closest\", \"mapbox\": {\"style\": \"light\"}, \"paper_bgcolor\": \"white\", \"plot_bgcolor\": \"#E5ECF6\", \"polar\": {\"angularaxis\": {\"gridcolor\": \"white\", \"linecolor\": \"white\", \"ticks\": \"\"}, \"bgcolor\": \"#E5ECF6\", \"radialaxis\": {\"gridcolor\": \"white\", \"linecolor\": \"white\", \"ticks\": \"\"}}, \"scene\": {\"xaxis\": {\"backgroundcolor\": \"#E5ECF6\", \"gridcolor\": \"white\", \"gridwidth\": 2, \"linecolor\": \"white\", \"showbackground\": true, \"ticks\": \"\", \"zerolinecolor\": \"white\"}, \"yaxis\": {\"backgroundcolor\": \"#E5ECF6\", \"gridcolor\": \"white\", \"gridwidth\": 2, \"linecolor\": \"white\", \"showbackground\": true, \"ticks\": \"\", \"zerolinecolor\": \"white\"}, \"zaxis\": {\"backgroundcolor\": \"#E5ECF6\", \"gridcolor\": \"white\", \"gridwidth\": 2, \"linecolor\": \"white\", \"showbackground\": true, \"ticks\": \"\", \"zerolinecolor\": \"white\"}}, \"shapedefaults\": {\"line\": {\"color\": \"#2a3f5f\"}}, \"ternary\": {\"aaxis\": {\"gridcolor\": \"white\", \"linecolor\": \"white\", \"ticks\": \"\"}, \"baxis\": {\"gridcolor\": \"white\", \"linecolor\": \"white\", \"ticks\": \"\"}, \"bgcolor\": \"#E5ECF6\", \"caxis\": {\"gridcolor\": \"white\", \"linecolor\": \"white\", \"ticks\": \"\"}}, \"title\": {\"x\": 0.05}, \"xaxis\": {\"automargin\": true, \"gridcolor\": \"white\", \"linecolor\": \"white\", \"ticks\": \"\", \"title\": {\"standoff\": 15}, \"zerolinecolor\": \"white\", \"zerolinewidth\": 2}, \"yaxis\": {\"automargin\": true, \"gridcolor\": \"white\", \"linecolor\": \"white\", \"ticks\": \"\", \"title\": {\"standoff\": 15}, \"zerolinecolor\": \"white\", \"zerolinewidth\": 2}}}, \"title\": {\"text\": \"Hyperparameter Importances\"}, \"xaxis\": {\"title\": {\"text\": \"Importance\"}}, \"yaxis\": {\"title\": {\"text\": \"Hyperparameter\"}}},\n",
              "                        {\"responsive\": true}\n",
              "                    ).then(function(){\n",
              "                            \n",
              "var gd = document.getElementById('91381265-8a25-4266-a06a-6bca2c1f3b3f');\n",
              "var x = new MutationObserver(function (mutations, observer) {{\n",
              "        var display = window.getComputedStyle(gd).display;\n",
              "        if (!display || display === 'none') {{\n",
              "            console.log([gd, 'removed!']);\n",
              "            Plotly.purge(gd);\n",
              "            observer.disconnect();\n",
              "        }}\n",
              "}});\n",
              "\n",
              "// Listen for the removal of the full notebook cells\n",
              "var notebookContainer = gd.closest('#notebook-container');\n",
              "if (notebookContainer) {{\n",
              "    x.observe(notebookContainer, {childList: true});\n",
              "}}\n",
              "\n",
              "// Listen for the clearing of the current output cell\n",
              "var outputEl = gd.closest('.output');\n",
              "if (outputEl) {{\n",
              "    x.observe(outputEl, {childList: true});\n",
              "}}\n",
              "\n",
              "                        })\n",
              "                };\n",
              "                \n",
              "            </script>\n",
              "        </div>\n",
              "</body>\n",
              "</html>"
            ]
          },
          "metadata": {
            "tags": []
          }
        }
      ]
    },
    {
      "cell_type": "code",
      "metadata": {
        "id": "g6m6eimwZVx4",
        "outputId": "61b26630-c512-4590-aa43-8737d0a2a907",
        "colab": {
          "base_uri": "https://localhost:8080/",
          "height": 562
        }
      },
      "source": [
        "optuna.visualization.plot_slice(study, params= [\n",
        "                                                      'model__batch_size',\n",
        "                                                      'model__hidden_activation',\n",
        "                                                      'model__hidden_layers',\n",
        "                                                      'model__max_dropout_rate',\n",
        "                                                      'model__max_hidden_units',\n",
        "                                                      'imputer__strategy'\n",
        "                                                     ]).show()"
      ],
      "execution_count": null,
      "outputs": [
        {
          "output_type": "display_data",
          "data": {
            "text/html": [
              "<html>\n",
              "<head><meta charset=\"utf-8\" /></head>\n",
              "<body>\n",
              "    <div>\n",
              "            <script src=\"https://cdnjs.cloudflare.com/ajax/libs/mathjax/2.7.5/MathJax.js?config=TeX-AMS-MML_SVG\"></script><script type=\"text/javascript\">if (window.MathJax) {MathJax.Hub.Config({SVG: {font: \"STIX-Web\"}});}</script>\n",
              "                <script type=\"text/javascript\">window.PlotlyConfig = {MathJaxConfig: 'local'};</script>\n",
              "        <script src=\"https://cdn.plot.ly/plotly-latest.min.js\"></script>    \n",
              "            <div id=\"fd0a3e82-c431-4812-9bb0-5846a749b8e7\" class=\"plotly-graph-div\" style=\"height:525px; width:1800px;\"></div>\n",
              "            <script type=\"text/javascript\">\n",
              "                \n",
              "                    window.PLOTLYENV=window.PLOTLYENV || {};\n",
              "                    \n",
              "                if (document.getElementById(\"fd0a3e82-c431-4812-9bb0-5846a749b8e7\")) {\n",
              "                    Plotly.newPlot(\n",
              "                        'fd0a3e82-c431-4812-9bb0-5846a749b8e7',\n",
              "                        [{\"marker\": {\"color\": [0, 1, 2, 3, 4, 5, 6, 7, 8, 9, 10, 11, 12, 13, 14, 15, 16, 17, 18, 19, 20, 21, 22, 23, 24, 25, 26, 27, 28, 29, 30, 31, 32, 33, 34, 35, 36, 37, 38, 39, 40, 41, 42, 43, 44, 45, 46, 47, 48, 49, 50, 51, 52, 53, 54, 55, 56, 57, 58, 59, 60, 61, 62, 63, 64, 65, 66, 67, 68, 69, 70, 71, 72, 73, 74, 75, 76, 77, 78, 79, 80, 81, 82, 83, 84, 85, 86, 87, 88, 89, 90, 91, 92, 93, 94, 95, 96, 97, 98, 99, 100, 101, 102, 103, 104, 105, 106, 107, 108, 109, 110, 111, 112, 113, 114, 115, 116, 117, 118, 119, 120, 121, 122, 123, 124, 125, 126, 127, 128, 129, 130, 131, 132, 133, 134, 135, 136, 137, 138, 139, 140, 141, 142, 143, 144, 145, 146, 147, 148, 149, 150, 151, 152, 153, 154, 155, 156, 157, 158, 159, 160, 161, 162, 163, 164, 165, 166, 167, 168, 169, 170, 171, 172, 173, 174, 175, 176, 177, 178, 179, 180, 181, 182, 183, 184, 185, 186, 187, 188, 189, 190, 191, 192, 193, 194, 195, 196, 197, 198, 199, 200, 201, 202, 203, 204, 205, 206, 207, 208, 209, 210, 211, 212, 213, 214, 215, 216, 217, 218, 219, 220, 221, 222, 223, 224, 225, 226, 227, 228, 229, 230, 231, 232, 233, 234, 235, 236, 237, 238, 239, 240, 241, 242, 243, 244, 245, 246, 247, 248, 249, 250, 251, 252, 253, 254, 255], \"colorbar\": {\"title\": {\"text\": \"#Trials\"}, \"x\": 1.0, \"xpad\": 40}, \"colorscale\": [[0.0, \"rgb(247,251,255)\"], [0.125, \"rgb(222,235,247)\"], [0.25, \"rgb(198,219,239)\"], [0.375, \"rgb(158,202,225)\"], [0.5, \"rgb(107,174,214)\"], [0.625, \"rgb(66,146,198)\"], [0.75, \"rgb(33,113,181)\"], [0.875, \"rgb(8,81,156)\"], [1.0, \"rgb(8,48,107)\"]], \"line\": {\"color\": \"Grey\", \"width\": 0.5}, \"showscale\": true}, \"mode\": \"markers\", \"showlegend\": false, \"type\": \"scatter\", \"x\": [\"median\", \"median\", \"mean\", \"mean\", \"mean\", \"mean\", \"mean\", \"mean\", \"mean\", \"median\", \"constant\", \"constant\", \"mean\", \"mean\", \"mean\", \"constant\", \"mean\", \"mean\", \"mean\", \"constant\", \"constant\", \"constant\", \"constant\", \"constant\", \"constant\", \"median\", \"mean\", \"mean\", \"constant\", \"median\", \"median\", \"median\", \"median\", \"median\", \"median\", \"median\", \"median\", \"median\", \"median\", \"median\", \"median\", \"mean\", \"mean\", \"mean\", \"median\", \"mean\", \"constant\", \"mean\", \"median\", \"mean\", \"mean\", \"mean\", \"mean\", \"mean\", \"mean\", \"constant\", \"mean\", \"mean\", \"constant\", \"mean\", \"median\", \"constant\", \"constant\", \"constant\", \"constant\", \"constant\", \"constant\", \"median\", \"mean\", \"constant\", \"constant\", \"constant\", \"constant\", \"constant\", \"constant\", \"median\", \"constant\", \"mean\", \"median\", \"constant\", \"mean\", \"constant\", \"constant\", \"constant\", \"constant\", \"median\", \"mean\", \"constant\", \"median\", \"mean\", \"constant\", \"mean\", \"mean\", \"mean\", \"mean\", \"mean\", \"mean\", \"median\", \"constant\", \"mean\", \"median\", \"constant\", \"constant\", \"constant\", \"constant\", \"constant\", \"constant\", \"mean\", \"constant\", \"constant\", \"median\", \"constant\", \"constant\", \"constant\", \"constant\", \"constant\", \"mean\", \"constant\", \"constant\", \"mean\", \"median\", \"constant\", \"constant\", \"constant\", \"constant\", \"constant\", \"constant\", \"mean\", \"mean\", \"mean\", \"mean\", \"mean\", \"mean\", \"mean\", \"mean\", \"mean\", \"mean\", \"mean\", \"mean\", \"median\", \"mean\", \"mean\", \"mean\", \"mean\", \"mean\", \"mean\", \"mean\", \"median\", \"mean\", \"mean\", \"mean\", \"mean\", \"mean\", \"mean\", \"mean\", \"mean\", \"mean\", \"median\", \"constant\", \"mean\", \"constant\", \"mean\", \"mean\", \"mean\", \"mean\", \"mean\", \"constant\", \"median\", \"mean\", \"constant\", \"constant\", \"constant\", \"constant\", \"constant\", \"constant\", \"constant\", \"constant\", \"constant\", \"constant\", \"constant\", \"constant\", \"constant\", \"constant\", \"constant\", \"constant\", \"constant\", \"constant\", \"constant\", \"median\", \"median\", \"median\", \"median\", \"median\", \"median\", \"median\", \"median\", \"median\", \"median\", \"median\", \"median\", \"median\", \"median\", \"median\", \"median\", \"median\", \"median\", \"median\", \"median\", \"median\", \"median\", \"median\", \"median\", \"median\", \"median\", \"median\", \"median\", \"median\", \"median\", \"constant\", \"constant\", \"median\", \"mean\", \"mean\", \"mean\", \"mean\", \"mean\", \"mean\", \"mean\", \"mean\", \"mean\", \"mean\", \"mean\", \"mean\", \"mean\", \"mean\", \"mean\", \"mean\", \"mean\", \"mean\", \"mean\", \"median\", \"constant\", \"constant\", \"constant\", \"mean\", \"constant\", \"median\", \"mean\", \"constant\", \"median\", \"mean\", \"constant\", \"median\", \"mean\", \"constant\", \"mean\"], \"xaxis\": \"x\", \"y\": [0.5230849974398362, 0.49910138248847924, 0.5579403481822837, 0.5076792114695341, 0.5008909370199692, 0.4797695852534563, 0.5205619559651818, 0.5445673323092677, 0.48800947260624683, 0.5008973374295955, 0.49155273937531996, 0.5392012288786482, 0.49548771121351765, 0.4052521761392729, 0.48762288786482333, 0.5248835125448028, 0.5029966717869944, 0.5385061443932412, 0.5195737327188941, 0.5943958013312852, 0.44826676907322066, 0.48373783922171015, 0.47047491039426514, 0.4622286226318485, 0.5184984639016896, 0.4640130568356374, 0.5202841781874039, 0.5245865335381465, 0.496557859703021, 0.5478059395801331, 0.5485483870967742, 0.506263440860215, 0.473689196108551, 0.4521108550947261, 0.5091449052739374, 0.4826190476190476, 0.5080593958013313, 0.5102137736815155, 0.45717229902713774, 0.5083806963645673, 0.48834869431643624, 0.4987800819252432, 0.5048387096774193, 0.5166295442908346, 0.5181451612903226, 0.47513824884792627, 0.47441756272401436, 0.5804147465437788, 0.4711507936507936, 0.39162826420890934, 0.4689452124935996, 0.4317754736303123, 0.5235279057859703, 0.5323924731182796, 0.49157066052227344, 0.5341781874039939, 0.5029966717869943, 0.49764208909370194, 0.4879749103942652, 0.5188722478238608, 0.47226446492575525, 0.5288056835637481, 0.5159075780849974, 0.44241935483870964, 0.5072990271377369, 0.5137532002048131, 0.48256528417818745, 0.5008768561187915, 0.5234254992319508, 0.6033563748079878, 0.47872887864823355, 0.5088300051203276, 0.5073988735279058, 0.5574731182795699, 0.4729697900665643, 0.5077572964669739, 0.49233998975934457, 0.5080107526881721, 0.5212749615975423, 0.4829953917050691, 0.4934203789042499, 0.4994201228878648, 0.4417089093701997, 0.48841013824884794, 0.485894777265745, 0.47540578597030214, 0.4848015873015873, 0.48650793650793656, 0.5341781874039938, 0.4908755760368663, 0.4797439836149514, 0.48691116231438814, 0.44967997951868915, 0.49190348182283666, 0.47692524321556584, 0.5145084485407065, 0.4797439836149514, 0.4689644137224782, 0.49090501792114694, 0.4285471070148489, 0.494431643625192, 0.47077828981054787, 0.4586456733230927, 0.4897887864823348, 0.41313620071684587, 0.5608013312852023, 0.42924603174603176, 0.4829109062980031, 0.5356118791602663, 0.4772145417306707, 0.4972529441884281, 0.43212877624167945, 0.5199462365591397, 0.5059626216077828, 0.5044290834613416, 0.5625281618023553, 0.48696748591909883, 0.44817588325652846, 0.5141077828981054, 0.4733051715309779, 0.48865847414234515, 0.5241525857654891, 0.5012045570916539, 0.5065821812596005, 0.4765732206861239, 0.4829237071172556, 0.4700819252432155, 0.5399321556579622, 0.48259984639016895, 0.5009306195596518, 0.5152342549923196, 0.5868663594470046, 0.5228097798259089, 0.5230670762928826, 0.44716845878136197, 0.5374039938556068, 0.5030619559651817, 0.4840117767537123, 0.46751408090117774, 0.5108806963645672, 0.5069610855094726, 0.4328456221198157, 0.5019201228878649, 0.5833640552995392, 0.42889272913466464, 0.5163492063492063, 0.5195097286226319, 0.4915821812596007, 0.5460125448028673, 0.4572196620583718, 0.5571313364055299, 0.5087570404505888, 0.4550614439324117, 0.44751664106502814, 0.5088095238095238, 0.4987967229902715, 0.38013568868407577, 0.48690476190476195, 0.488300051203277, 0.46148233486943174, 0.4496927803379417, 0.4779877112135177, 0.4092076292882744, 0.45435227854582694, 0.488394777265745, 0.4493445980542755, 0.468689196108551, 0.4553571428571429, 0.5009600614439325, 0.5410138248847927, 0.4005837173579108, 0.5994700460829493, 0.4658230926779313, 0.45532898105478753, 0.529536610343062, 0.529610855094726, 0.5070302099334357, 0.5592613927291346, 0.46679979518689196, 0.4704429083461342, 0.5388364055299539, 0.4944930875576037, 0.4686930363543266, 0.481589861751152, 0.5094982078853046, 0.5126600102406554, 0.4375089605734767, 0.4475448028673836, 0.5897337429595494, 0.5392985151049667, 0.5481605222734255, 0.42742703533026116, 0.5700256016385048, 0.45863927291346646, 0.5488760880696365, 0.497305427547363, 0.4966487455197132, 0.47799411162314387, 0.4733410138248847, 0.48077444956477217, 0.4976113671274961, 0.4750691244239632, 0.4772977470558116, 0.49809011776753714, 0.4650012800819253, 0.5517370711725551, 0.5084229390681003, 0.49439580133128525, 0.48870839733742955, 0.493741679467486, 0.52163082437276, 0.4916295442908346, 0.4739631336405529, 0.5375064004096262, 0.49664234511008704, 0.49583845366103435, 0.41417178699436763, 0.5249462365591397, 0.5083973374295956, 0.45542754736303126, 0.4979851510496672, 0.5148156682027649, 0.5608064516129032, 0.5359715821812596, 0.47119559651817716, 0.6083666154633897, 0.5203020993343574, 0.546073988735279, 0.46618023553507426, 0.4959293394777265, 0.4721710189452125, 0.5216269841269842, 0.45747567844342035, 0.49941500256016386, 0.4084114183307732, 0.42307475678443424, 0.5119559651817717, 0.5320276497695853, 0.4934203789042499, 0.4149257552483359, 0.5278059395801331, 0.44493087557603694, 0.4363748079877112, 0.5155414746543779, 0.5073284690220174, 0.4869687660010241, 0.4994111623143881, 0.4747823860727086, 0.5664388120839734, 0.49511008704557097, 0.5338197644649256, 0.507031490015361, 0.41098310291858675, 0.4529185867895545, 0.5159383000512032, 0.532741935483871], \"yaxis\": \"y\"}, {\"marker\": {\"color\": [0, 1, 2, 3, 4, 5, 6, 7, 8, 9, 10, 11, 12, 13, 14, 15, 16, 17, 18, 19, 20, 21, 22, 23, 24, 25, 26, 27, 28, 29, 30, 31, 32, 33, 34, 35, 36, 37, 38, 39, 40, 41, 42, 43, 44, 45, 46, 47, 48, 49, 50, 51, 52, 53, 54, 55, 56, 57, 58, 59, 60, 61, 62, 63, 64, 65, 66, 67, 68, 69, 70, 71, 72, 73, 74, 75, 76, 77, 78, 79, 80, 81, 82, 83, 84, 85, 86, 87, 88, 89, 90, 91, 92, 93, 94, 95, 96, 97, 98, 99, 100, 101, 102, 103, 104, 105, 106, 107, 108, 109, 110, 111, 112, 113, 114, 115, 116, 117, 118, 119, 120, 121, 122, 123, 124, 125, 126, 127, 128, 129, 130, 131, 132, 133, 134, 135, 136, 137, 138, 139, 140, 141, 142, 143, 144, 145, 146, 147, 148, 149, 150, 151, 152, 153, 154, 155, 156, 157, 158, 159, 160, 161, 162, 163, 164, 165, 166, 167, 168, 169, 170, 171, 172, 173, 174, 175, 176, 177, 178, 179, 180, 181, 182, 183, 184, 185, 186, 187, 188, 189, 190, 191, 192, 193, 194, 195, 196, 197, 198, 199, 200, 201, 202, 203, 204, 205, 206, 207, 208, 209, 210, 211, 212, 213, 214, 215, 216, 217, 218, 219, 220, 221, 222, 223, 224, 225, 226, 227, 228, 229, 230, 231, 232, 233, 234, 235, 236, 237, 238, 239, 240, 241, 242, 243, 244, 245, 246, 247, 248, 249, 250, 251, 252, 253, 254, 255], \"colorbar\": {\"title\": {\"text\": \"#Trials\"}, \"x\": 1.0, \"xpad\": 40}, \"colorscale\": [[0.0, \"rgb(247,251,255)\"], [0.125, \"rgb(222,235,247)\"], [0.25, \"rgb(198,219,239)\"], [0.375, \"rgb(158,202,225)\"], [0.5, \"rgb(107,174,214)\"], [0.625, \"rgb(66,146,198)\"], [0.75, \"rgb(33,113,181)\"], [0.875, \"rgb(8,81,156)\"], [1.0, \"rgb(8,48,107)\"]], \"line\": {\"color\": \"Grey\", \"width\": 0.5}, \"showscale\": false}, \"mode\": \"markers\", \"showlegend\": false, \"type\": \"scatter\", \"x\": [16, 8, 8, 8, 16, 8, 64, 16, 64, 8, 32, 16, 32, 16, 16, 8, 8, 64, 16, 32, 32, 32, 32, 32, 16, 8, 32, 16, 32, 64, 64, 64, 64, 64, 64, 64, 64, 8, 64, 8, 64, 16, 8, 64, 16, 64, 8, 32, 32, 32, 32, 32, 16, 32, 8, 32, 16, 64, 32, 8, 16, 16, 16, 16, 16, 64, 32, 16, 64, 32, 32, 32, 32, 32, 32, 32, 32, 32, 32, 8, 64, 32, 64, 32, 16, 8, 32, 64, 16, 32, 8, 64, 64, 64, 64, 64, 16, 64, 32, 8, 16, 32, 32, 32, 32, 32, 32, 64, 32, 16, 32, 32, 32, 32, 32, 32, 64, 32, 8, 32, 16, 32, 32, 32, 32, 32, 64, 32, 32, 64, 16, 32, 32, 32, 32, 32, 8, 32, 64, 32, 16, 32, 32, 32, 32, 32, 32, 64, 32, 32, 32, 32, 32, 32, 32, 32, 32, 32, 32, 8, 32, 16, 32, 64, 32, 32, 64, 16, 32, 32, 32, 32, 32, 32, 32, 32, 32, 32, 32, 32, 32, 32, 32, 32, 8, 32, 32, 32, 32, 32, 32, 32, 32, 32, 32, 32, 32, 32, 32, 32, 32, 32, 32, 32, 32, 32, 32, 32, 8, 32, 32, 32, 32, 32, 32, 32, 32, 32, 32, 32, 32, 32, 32, 32, 32, 32, 32, 32, 32, 32, 32, 32, 32, 32, 8, 32, 32, 32, 32, 64, 32, 32, 32, 32, 32, 32, 32, 32, 32, 32, 32, 8, 64, 32, 32, 32], \"xaxis\": \"x2\", \"y\": [0.5230849974398362, 0.49910138248847924, 0.5579403481822837, 0.5076792114695341, 0.5008909370199692, 0.4797695852534563, 0.5205619559651818, 0.5445673323092677, 0.48800947260624683, 0.5008973374295955, 0.49155273937531996, 0.5392012288786482, 0.49548771121351765, 0.4052521761392729, 0.48762288786482333, 0.5248835125448028, 0.5029966717869944, 0.5385061443932412, 0.5195737327188941, 0.5943958013312852, 0.44826676907322066, 0.48373783922171015, 0.47047491039426514, 0.4622286226318485, 0.5184984639016896, 0.4640130568356374, 0.5202841781874039, 0.5245865335381465, 0.496557859703021, 0.5478059395801331, 0.5485483870967742, 0.506263440860215, 0.473689196108551, 0.4521108550947261, 0.5091449052739374, 0.4826190476190476, 0.5080593958013313, 0.5102137736815155, 0.45717229902713774, 0.5083806963645673, 0.48834869431643624, 0.4987800819252432, 0.5048387096774193, 0.5166295442908346, 0.5181451612903226, 0.47513824884792627, 0.47441756272401436, 0.5804147465437788, 0.4711507936507936, 0.39162826420890934, 0.4689452124935996, 0.4317754736303123, 0.5235279057859703, 0.5323924731182796, 0.49157066052227344, 0.5341781874039939, 0.5029966717869943, 0.49764208909370194, 0.4879749103942652, 0.5188722478238608, 0.47226446492575525, 0.5288056835637481, 0.5159075780849974, 0.44241935483870964, 0.5072990271377369, 0.5137532002048131, 0.48256528417818745, 0.5008768561187915, 0.5234254992319508, 0.6033563748079878, 0.47872887864823355, 0.5088300051203276, 0.5073988735279058, 0.5574731182795699, 0.4729697900665643, 0.5077572964669739, 0.49233998975934457, 0.5080107526881721, 0.5212749615975423, 0.4829953917050691, 0.4934203789042499, 0.4994201228878648, 0.4417089093701997, 0.48841013824884794, 0.485894777265745, 0.47540578597030214, 0.4848015873015873, 0.48650793650793656, 0.5341781874039938, 0.4908755760368663, 0.4797439836149514, 0.48691116231438814, 0.44967997951868915, 0.49190348182283666, 0.47692524321556584, 0.5145084485407065, 0.4797439836149514, 0.4689644137224782, 0.49090501792114694, 0.4285471070148489, 0.494431643625192, 0.47077828981054787, 0.4586456733230927, 0.4897887864823348, 0.41313620071684587, 0.5608013312852023, 0.42924603174603176, 0.4829109062980031, 0.5356118791602663, 0.4772145417306707, 0.4972529441884281, 0.43212877624167945, 0.5199462365591397, 0.5059626216077828, 0.5044290834613416, 0.5625281618023553, 0.48696748591909883, 0.44817588325652846, 0.5141077828981054, 0.4733051715309779, 0.48865847414234515, 0.5241525857654891, 0.5012045570916539, 0.5065821812596005, 0.4765732206861239, 0.4829237071172556, 0.4700819252432155, 0.5399321556579622, 0.48259984639016895, 0.5009306195596518, 0.5152342549923196, 0.5868663594470046, 0.5228097798259089, 0.5230670762928826, 0.44716845878136197, 0.5374039938556068, 0.5030619559651817, 0.4840117767537123, 0.46751408090117774, 0.5108806963645672, 0.5069610855094726, 0.4328456221198157, 0.5019201228878649, 0.5833640552995392, 0.42889272913466464, 0.5163492063492063, 0.5195097286226319, 0.4915821812596007, 0.5460125448028673, 0.4572196620583718, 0.5571313364055299, 0.5087570404505888, 0.4550614439324117, 0.44751664106502814, 0.5088095238095238, 0.4987967229902715, 0.38013568868407577, 0.48690476190476195, 0.488300051203277, 0.46148233486943174, 0.4496927803379417, 0.4779877112135177, 0.4092076292882744, 0.45435227854582694, 0.488394777265745, 0.4493445980542755, 0.468689196108551, 0.4553571428571429, 0.5009600614439325, 0.5410138248847927, 0.4005837173579108, 0.5994700460829493, 0.4658230926779313, 0.45532898105478753, 0.529536610343062, 0.529610855094726, 0.5070302099334357, 0.5592613927291346, 0.46679979518689196, 0.4704429083461342, 0.5388364055299539, 0.4944930875576037, 0.4686930363543266, 0.481589861751152, 0.5094982078853046, 0.5126600102406554, 0.4375089605734767, 0.4475448028673836, 0.5897337429595494, 0.5392985151049667, 0.5481605222734255, 0.42742703533026116, 0.5700256016385048, 0.45863927291346646, 0.5488760880696365, 0.497305427547363, 0.4966487455197132, 0.47799411162314387, 0.4733410138248847, 0.48077444956477217, 0.4976113671274961, 0.4750691244239632, 0.4772977470558116, 0.49809011776753714, 0.4650012800819253, 0.5517370711725551, 0.5084229390681003, 0.49439580133128525, 0.48870839733742955, 0.493741679467486, 0.52163082437276, 0.4916295442908346, 0.4739631336405529, 0.5375064004096262, 0.49664234511008704, 0.49583845366103435, 0.41417178699436763, 0.5249462365591397, 0.5083973374295956, 0.45542754736303126, 0.4979851510496672, 0.5148156682027649, 0.5608064516129032, 0.5359715821812596, 0.47119559651817716, 0.6083666154633897, 0.5203020993343574, 0.546073988735279, 0.46618023553507426, 0.4959293394777265, 0.4721710189452125, 0.5216269841269842, 0.45747567844342035, 0.49941500256016386, 0.4084114183307732, 0.42307475678443424, 0.5119559651817717, 0.5320276497695853, 0.4934203789042499, 0.4149257552483359, 0.5278059395801331, 0.44493087557603694, 0.4363748079877112, 0.5155414746543779, 0.5073284690220174, 0.4869687660010241, 0.4994111623143881, 0.4747823860727086, 0.5664388120839734, 0.49511008704557097, 0.5338197644649256, 0.507031490015361, 0.41098310291858675, 0.4529185867895545, 0.5159383000512032, 0.532741935483871], \"yaxis\": \"y2\"}, {\"marker\": {\"color\": [0, 1, 2, 3, 4, 5, 6, 7, 8, 9, 10, 11, 12, 13, 14, 15, 16, 17, 18, 19, 20, 21, 22, 23, 24, 25, 26, 27, 28, 29, 30, 31, 32, 33, 34, 35, 36, 37, 38, 39, 40, 41, 42, 43, 44, 45, 46, 47, 48, 49, 50, 51, 52, 53, 54, 55, 56, 57, 58, 59, 60, 61, 62, 63, 64, 65, 66, 67, 68, 69, 70, 71, 72, 73, 74, 75, 76, 77, 78, 79, 80, 81, 82, 83, 84, 85, 86, 87, 88, 89, 90, 91, 92, 93, 94, 95, 96, 97, 98, 99, 100, 101, 102, 103, 104, 105, 106, 107, 108, 109, 110, 111, 112, 113, 114, 115, 116, 117, 118, 119, 120, 121, 122, 123, 124, 125, 126, 127, 128, 129, 130, 131, 132, 133, 134, 135, 136, 137, 138, 139, 140, 141, 142, 143, 144, 145, 146, 147, 148, 149, 150, 151, 152, 153, 154, 155, 156, 157, 158, 159, 160, 161, 162, 163, 164, 165, 166, 167, 168, 169, 170, 171, 172, 173, 174, 175, 176, 177, 178, 179, 180, 181, 182, 183, 184, 185, 186, 187, 188, 189, 190, 191, 192, 193, 194, 195, 196, 197, 198, 199, 200, 201, 202, 203, 204, 205, 206, 207, 208, 209, 210, 211, 212, 213, 214, 215, 216, 217, 218, 219, 220, 221, 222, 223, 224, 225, 226, 227, 228, 229, 230, 231, 232, 233, 234, 235, 236, 237, 238, 239, 240, 241, 242, 243, 244, 245, 246, 247, 248, 249, 250, 251, 252, 253, 254, 255], \"colorbar\": {\"title\": {\"text\": \"#Trials\"}, \"x\": 1.0, \"xpad\": 40}, \"colorscale\": [[0.0, \"rgb(247,251,255)\"], [0.125, \"rgb(222,235,247)\"], [0.25, \"rgb(198,219,239)\"], [0.375, \"rgb(158,202,225)\"], [0.5, \"rgb(107,174,214)\"], [0.625, \"rgb(66,146,198)\"], [0.75, \"rgb(33,113,181)\"], [0.875, \"rgb(8,81,156)\"], [1.0, \"rgb(8,48,107)\"]], \"line\": {\"color\": \"Grey\", \"width\": 0.5}, \"showscale\": false}, \"mode\": \"markers\", \"showlegend\": false, \"type\": \"scatter\", \"x\": [\"swish\", \"tanh\", \"swish\", \"tanh\", \"selu\", \"elu\", \"selu\", \"tanh\", \"selu\", \"selu\", \"relu\", \"swish\", \"tanh\", \"swish\", \"relu\", \"elu\", \"swish\", \"tanh\", \"swish\", \"tanh\", \"swish\", \"tanh\", \"tanh\", \"tanh\", \"tanh\", \"relu\", \"elu\", \"tanh\", \"tanh\", \"swish\", \"swish\", \"swish\", \"swish\", \"swish\", \"swish\", \"swish\", \"swish\", \"swish\", \"swish\", \"elu\", \"selu\", \"tanh\", \"tanh\", \"swish\", \"relu\", \"selu\", \"swish\", \"tanh\", \"tanh\", \"swish\", \"swish\", \"tanh\", \"tanh\", \"tanh\", \"tanh\", \"tanh\", \"elu\", \"relu\", \"tanh\", \"selu\", \"swish\", \"swish\", \"swish\", \"swish\", \"swish\", \"tanh\", \"swish\", \"tanh\", \"swish\", \"swish\", \"elu\", \"swish\", \"swish\", \"swish\", \"swish\", \"swish\", \"swish\", \"tanh\", \"relu\", \"swish\", \"tanh\", \"swish\", \"swish\", \"swish\", \"swish\", \"swish\", \"selu\", \"tanh\", \"swish\", \"tanh\", \"swish\", \"tanh\", \"tanh\", \"tanh\", \"tanh\", \"tanh\", \"swish\", \"elu\", \"tanh\", \"swish\", \"relu\", \"tanh\", \"tanh\", \"tanh\", \"tanh\", \"tanh\", \"swish\", \"tanh\", \"swish\", \"selu\", \"swish\", \"swish\", \"swish\", \"swish\", \"swish\", \"swish\", \"tanh\", \"swish\", \"swish\", \"tanh\", \"swish\", \"swish\", \"swish\", \"swish\", \"swish\", \"swish\", \"tanh\", \"swish\", \"elu\", \"swish\", \"tanh\", \"swish\", \"swish\", \"swish\", \"swish\", \"swish\", \"relu\", \"swish\", \"tanh\", \"swish\", \"tanh\", \"swish\", \"swish\", \"swish\", \"swish\", \"swish\", \"selu\", \"swish\", \"tanh\", \"swish\", \"tanh\", \"tanh\", \"tanh\", \"tanh\", \"tanh\", \"tanh\", \"swish\", \"tanh\", \"swish\", \"swish\", \"tanh\", \"tanh\", \"tanh\", \"tanh\", \"tanh\", \"swish\", \"elu\", \"tanh\", \"swish\", \"tanh\", \"tanh\", \"tanh\", \"tanh\", \"tanh\", \"tanh\", \"tanh\", \"swish\", \"swish\", \"swish\", \"relu\", \"tanh\", \"swish\", \"swish\", \"swish\", \"swish\", \"swish\", \"swish\", \"tanh\", \"swish\", \"swish\", \"selu\", \"selu\", \"selu\", \"selu\", \"tanh\", \"selu\", \"selu\", \"selu\", \"selu\", \"selu\", \"selu\", \"tanh\", \"tanh\", \"tanh\", \"tanh\", \"selu\", \"selu\", \"selu\", \"selu\", \"selu\", \"selu\", \"tanh\", \"tanh\", \"tanh\", \"tanh\", \"selu\", \"tanh\", \"swish\", \"elu\", \"swish\", \"tanh\", \"swish\", \"swish\", \"swish\", \"swish\", \"swish\", \"swish\", \"swish\", \"swish\", \"swish\", \"swish\", \"swish\", \"swish\", \"swish\", \"swish\", \"swish\", \"swish\", \"swish\", \"swish\", \"swish\", \"selu\", \"tanh\", \"tanh\", \"tanh\", \"relu\", \"swish\", \"tanh\", \"swish\", \"swish\", \"swish\", \"swish\", \"swish\", \"swish\", \"swish\", \"selu\", \"swish\"], \"xaxis\": \"x3\", \"y\": [0.5230849974398362, 0.49910138248847924, 0.5579403481822837, 0.5076792114695341, 0.5008909370199692, 0.4797695852534563, 0.5205619559651818, 0.5445673323092677, 0.48800947260624683, 0.5008973374295955, 0.49155273937531996, 0.5392012288786482, 0.49548771121351765, 0.4052521761392729, 0.48762288786482333, 0.5248835125448028, 0.5029966717869944, 0.5385061443932412, 0.5195737327188941, 0.5943958013312852, 0.44826676907322066, 0.48373783922171015, 0.47047491039426514, 0.4622286226318485, 0.5184984639016896, 0.4640130568356374, 0.5202841781874039, 0.5245865335381465, 0.496557859703021, 0.5478059395801331, 0.5485483870967742, 0.506263440860215, 0.473689196108551, 0.4521108550947261, 0.5091449052739374, 0.4826190476190476, 0.5080593958013313, 0.5102137736815155, 0.45717229902713774, 0.5083806963645673, 0.48834869431643624, 0.4987800819252432, 0.5048387096774193, 0.5166295442908346, 0.5181451612903226, 0.47513824884792627, 0.47441756272401436, 0.5804147465437788, 0.4711507936507936, 0.39162826420890934, 0.4689452124935996, 0.4317754736303123, 0.5235279057859703, 0.5323924731182796, 0.49157066052227344, 0.5341781874039939, 0.5029966717869943, 0.49764208909370194, 0.4879749103942652, 0.5188722478238608, 0.47226446492575525, 0.5288056835637481, 0.5159075780849974, 0.44241935483870964, 0.5072990271377369, 0.5137532002048131, 0.48256528417818745, 0.5008768561187915, 0.5234254992319508, 0.6033563748079878, 0.47872887864823355, 0.5088300051203276, 0.5073988735279058, 0.5574731182795699, 0.4729697900665643, 0.5077572964669739, 0.49233998975934457, 0.5080107526881721, 0.5212749615975423, 0.4829953917050691, 0.4934203789042499, 0.4994201228878648, 0.4417089093701997, 0.48841013824884794, 0.485894777265745, 0.47540578597030214, 0.4848015873015873, 0.48650793650793656, 0.5341781874039938, 0.4908755760368663, 0.4797439836149514, 0.48691116231438814, 0.44967997951868915, 0.49190348182283666, 0.47692524321556584, 0.5145084485407065, 0.4797439836149514, 0.4689644137224782, 0.49090501792114694, 0.4285471070148489, 0.494431643625192, 0.47077828981054787, 0.4586456733230927, 0.4897887864823348, 0.41313620071684587, 0.5608013312852023, 0.42924603174603176, 0.4829109062980031, 0.5356118791602663, 0.4772145417306707, 0.4972529441884281, 0.43212877624167945, 0.5199462365591397, 0.5059626216077828, 0.5044290834613416, 0.5625281618023553, 0.48696748591909883, 0.44817588325652846, 0.5141077828981054, 0.4733051715309779, 0.48865847414234515, 0.5241525857654891, 0.5012045570916539, 0.5065821812596005, 0.4765732206861239, 0.4829237071172556, 0.4700819252432155, 0.5399321556579622, 0.48259984639016895, 0.5009306195596518, 0.5152342549923196, 0.5868663594470046, 0.5228097798259089, 0.5230670762928826, 0.44716845878136197, 0.5374039938556068, 0.5030619559651817, 0.4840117767537123, 0.46751408090117774, 0.5108806963645672, 0.5069610855094726, 0.4328456221198157, 0.5019201228878649, 0.5833640552995392, 0.42889272913466464, 0.5163492063492063, 0.5195097286226319, 0.4915821812596007, 0.5460125448028673, 0.4572196620583718, 0.5571313364055299, 0.5087570404505888, 0.4550614439324117, 0.44751664106502814, 0.5088095238095238, 0.4987967229902715, 0.38013568868407577, 0.48690476190476195, 0.488300051203277, 0.46148233486943174, 0.4496927803379417, 0.4779877112135177, 0.4092076292882744, 0.45435227854582694, 0.488394777265745, 0.4493445980542755, 0.468689196108551, 0.4553571428571429, 0.5009600614439325, 0.5410138248847927, 0.4005837173579108, 0.5994700460829493, 0.4658230926779313, 0.45532898105478753, 0.529536610343062, 0.529610855094726, 0.5070302099334357, 0.5592613927291346, 0.46679979518689196, 0.4704429083461342, 0.5388364055299539, 0.4944930875576037, 0.4686930363543266, 0.481589861751152, 0.5094982078853046, 0.5126600102406554, 0.4375089605734767, 0.4475448028673836, 0.5897337429595494, 0.5392985151049667, 0.5481605222734255, 0.42742703533026116, 0.5700256016385048, 0.45863927291346646, 0.5488760880696365, 0.497305427547363, 0.4966487455197132, 0.47799411162314387, 0.4733410138248847, 0.48077444956477217, 0.4976113671274961, 0.4750691244239632, 0.4772977470558116, 0.49809011776753714, 0.4650012800819253, 0.5517370711725551, 0.5084229390681003, 0.49439580133128525, 0.48870839733742955, 0.493741679467486, 0.52163082437276, 0.4916295442908346, 0.4739631336405529, 0.5375064004096262, 0.49664234511008704, 0.49583845366103435, 0.41417178699436763, 0.5249462365591397, 0.5083973374295956, 0.45542754736303126, 0.4979851510496672, 0.5148156682027649, 0.5608064516129032, 0.5359715821812596, 0.47119559651817716, 0.6083666154633897, 0.5203020993343574, 0.546073988735279, 0.46618023553507426, 0.4959293394777265, 0.4721710189452125, 0.5216269841269842, 0.45747567844342035, 0.49941500256016386, 0.4084114183307732, 0.42307475678443424, 0.5119559651817717, 0.5320276497695853, 0.4934203789042499, 0.4149257552483359, 0.5278059395801331, 0.44493087557603694, 0.4363748079877112, 0.5155414746543779, 0.5073284690220174, 0.4869687660010241, 0.4994111623143881, 0.4747823860727086, 0.5664388120839734, 0.49511008704557097, 0.5338197644649256, 0.507031490015361, 0.41098310291858675, 0.4529185867895545, 0.5159383000512032, 0.532741935483871], \"yaxis\": \"y3\"}, {\"marker\": {\"color\": [0, 1, 2, 3, 4, 5, 6, 7, 8, 9, 10, 11, 12, 13, 14, 15, 16, 17, 18, 19, 20, 21, 22, 23, 24, 25, 26, 27, 28, 29, 30, 31, 32, 33, 34, 35, 36, 37, 38, 39, 40, 41, 42, 43, 44, 45, 46, 47, 48, 49, 50, 51, 52, 53, 54, 55, 56, 57, 58, 59, 60, 61, 62, 63, 64, 65, 66, 67, 68, 69, 70, 71, 72, 73, 74, 75, 76, 77, 78, 79, 80, 81, 82, 83, 84, 85, 86, 87, 88, 89, 90, 91, 92, 93, 94, 95, 96, 97, 98, 99, 100, 101, 102, 103, 104, 105, 106, 107, 108, 109, 110, 111, 112, 113, 114, 115, 116, 117, 118, 119, 120, 121, 122, 123, 124, 125, 126, 127, 128, 129, 130, 131, 132, 133, 134, 135, 136, 137, 138, 139, 140, 141, 142, 143, 144, 145, 146, 147, 148, 149, 150, 151, 152, 153, 154, 155, 156, 157, 158, 159, 160, 161, 162, 163, 164, 165, 166, 167, 168, 169, 170, 171, 172, 173, 174, 175, 176, 177, 178, 179, 180, 181, 182, 183, 184, 185, 186, 187, 188, 189, 190, 191, 192, 193, 194, 195, 196, 197, 198, 199, 200, 201, 202, 203, 204, 205, 206, 207, 208, 209, 210, 211, 212, 213, 214, 215, 216, 217, 218, 219, 220, 221, 222, 223, 224, 225, 226, 227, 228, 229, 230, 231, 232, 233, 234, 235, 236, 237, 238, 239, 240, 241, 242, 243, 244, 245, 246, 247, 248, 249, 250, 251, 252, 253, 254, 255], \"colorbar\": {\"title\": {\"text\": \"#Trials\"}, \"x\": 1.0, \"xpad\": 40}, \"colorscale\": [[0.0, \"rgb(247,251,255)\"], [0.125, \"rgb(222,235,247)\"], [0.25, \"rgb(198,219,239)\"], [0.375, \"rgb(158,202,225)\"], [0.5, \"rgb(107,174,214)\"], [0.625, \"rgb(66,146,198)\"], [0.75, \"rgb(33,113,181)\"], [0.875, \"rgb(8,81,156)\"], [1.0, \"rgb(8,48,107)\"]], \"line\": {\"color\": \"Grey\", \"width\": 0.5}, \"showscale\": false}, \"mode\": \"markers\", \"showlegend\": false, \"type\": \"scatter\", \"x\": [7, 10, 7, 7, 7, 10, 4, 10, 9, 4, 3, 1, 8, 5, 9, 6, 9, 2, 6, 8, 8, 8, 10, 8, 9, 7, 6, 10, 5, 7, 7, 7, 6, 8, 7, 5, 7, 7, 8, 6, 9, 7, 8, 10, 9, 6, 7, 4, 4, 3, 3, 5, 4, 2, 4, 9, 8, 5, 6, 8, 6, 7, 1, 1, 2, 7, 10, 8, 7, 9, 9, 9, 10, 8, 8, 9, 8, 8, 10, 9, 7, 7, 8, 6, 9, 7, 8, 9, 10, 8, 3, 1, 2, 2, 1, 2, 6, 7, 5, 3, 7, 9, 10, 8, 9, 8, 8, 4, 7, 8, 1, 7, 7, 6, 8, 7, 7, 6, 8, 7, 8, 7, 7, 7, 6, 8, 7, 7, 9, 6, 8, 7, 7, 7, 5, 7, 7, 8, 6, 2, 9, 7, 7, 3, 3, 4, 3, 1, 2, 2, 3, 3, 4, 3, 2, 2, 3, 10, 8, 4, 1, 2, 2, 2, 3, 1, 7, 3, 8, 4, 4, 4, 5, 4, 4, 4, 4, 7, 7, 7, 5, 7, 7, 7, 4, 6, 8, 7, 10, 10, 10, 10, 10, 10, 10, 10, 10, 10, 10, 10, 10, 10, 10, 9, 10, 9, 9, 9, 9, 10, 10, 10, 10, 8, 3, 8, 10, 4, 9, 9, 8, 7, 7, 7, 7, 7, 7, 7, 7, 7, 7, 7, 7, 7, 7, 7, 6, 8, 10, 7, 8, 4, 7, 10, 5, 7, 3, 7, 4, 6, 10, 7, 10, 9, 8, 3], \"xaxis\": \"x4\", \"y\": [0.5230849974398362, 0.49910138248847924, 0.5579403481822837, 0.5076792114695341, 0.5008909370199692, 0.4797695852534563, 0.5205619559651818, 0.5445673323092677, 0.48800947260624683, 0.5008973374295955, 0.49155273937531996, 0.5392012288786482, 0.49548771121351765, 0.4052521761392729, 0.48762288786482333, 0.5248835125448028, 0.5029966717869944, 0.5385061443932412, 0.5195737327188941, 0.5943958013312852, 0.44826676907322066, 0.48373783922171015, 0.47047491039426514, 0.4622286226318485, 0.5184984639016896, 0.4640130568356374, 0.5202841781874039, 0.5245865335381465, 0.496557859703021, 0.5478059395801331, 0.5485483870967742, 0.506263440860215, 0.473689196108551, 0.4521108550947261, 0.5091449052739374, 0.4826190476190476, 0.5080593958013313, 0.5102137736815155, 0.45717229902713774, 0.5083806963645673, 0.48834869431643624, 0.4987800819252432, 0.5048387096774193, 0.5166295442908346, 0.5181451612903226, 0.47513824884792627, 0.47441756272401436, 0.5804147465437788, 0.4711507936507936, 0.39162826420890934, 0.4689452124935996, 0.4317754736303123, 0.5235279057859703, 0.5323924731182796, 0.49157066052227344, 0.5341781874039939, 0.5029966717869943, 0.49764208909370194, 0.4879749103942652, 0.5188722478238608, 0.47226446492575525, 0.5288056835637481, 0.5159075780849974, 0.44241935483870964, 0.5072990271377369, 0.5137532002048131, 0.48256528417818745, 0.5008768561187915, 0.5234254992319508, 0.6033563748079878, 0.47872887864823355, 0.5088300051203276, 0.5073988735279058, 0.5574731182795699, 0.4729697900665643, 0.5077572964669739, 0.49233998975934457, 0.5080107526881721, 0.5212749615975423, 0.4829953917050691, 0.4934203789042499, 0.4994201228878648, 0.4417089093701997, 0.48841013824884794, 0.485894777265745, 0.47540578597030214, 0.4848015873015873, 0.48650793650793656, 0.5341781874039938, 0.4908755760368663, 0.4797439836149514, 0.48691116231438814, 0.44967997951868915, 0.49190348182283666, 0.47692524321556584, 0.5145084485407065, 0.4797439836149514, 0.4689644137224782, 0.49090501792114694, 0.4285471070148489, 0.494431643625192, 0.47077828981054787, 0.4586456733230927, 0.4897887864823348, 0.41313620071684587, 0.5608013312852023, 0.42924603174603176, 0.4829109062980031, 0.5356118791602663, 0.4772145417306707, 0.4972529441884281, 0.43212877624167945, 0.5199462365591397, 0.5059626216077828, 0.5044290834613416, 0.5625281618023553, 0.48696748591909883, 0.44817588325652846, 0.5141077828981054, 0.4733051715309779, 0.48865847414234515, 0.5241525857654891, 0.5012045570916539, 0.5065821812596005, 0.4765732206861239, 0.4829237071172556, 0.4700819252432155, 0.5399321556579622, 0.48259984639016895, 0.5009306195596518, 0.5152342549923196, 0.5868663594470046, 0.5228097798259089, 0.5230670762928826, 0.44716845878136197, 0.5374039938556068, 0.5030619559651817, 0.4840117767537123, 0.46751408090117774, 0.5108806963645672, 0.5069610855094726, 0.4328456221198157, 0.5019201228878649, 0.5833640552995392, 0.42889272913466464, 0.5163492063492063, 0.5195097286226319, 0.4915821812596007, 0.5460125448028673, 0.4572196620583718, 0.5571313364055299, 0.5087570404505888, 0.4550614439324117, 0.44751664106502814, 0.5088095238095238, 0.4987967229902715, 0.38013568868407577, 0.48690476190476195, 0.488300051203277, 0.46148233486943174, 0.4496927803379417, 0.4779877112135177, 0.4092076292882744, 0.45435227854582694, 0.488394777265745, 0.4493445980542755, 0.468689196108551, 0.4553571428571429, 0.5009600614439325, 0.5410138248847927, 0.4005837173579108, 0.5994700460829493, 0.4658230926779313, 0.45532898105478753, 0.529536610343062, 0.529610855094726, 0.5070302099334357, 0.5592613927291346, 0.46679979518689196, 0.4704429083461342, 0.5388364055299539, 0.4944930875576037, 0.4686930363543266, 0.481589861751152, 0.5094982078853046, 0.5126600102406554, 0.4375089605734767, 0.4475448028673836, 0.5897337429595494, 0.5392985151049667, 0.5481605222734255, 0.42742703533026116, 0.5700256016385048, 0.45863927291346646, 0.5488760880696365, 0.497305427547363, 0.4966487455197132, 0.47799411162314387, 0.4733410138248847, 0.48077444956477217, 0.4976113671274961, 0.4750691244239632, 0.4772977470558116, 0.49809011776753714, 0.4650012800819253, 0.5517370711725551, 0.5084229390681003, 0.49439580133128525, 0.48870839733742955, 0.493741679467486, 0.52163082437276, 0.4916295442908346, 0.4739631336405529, 0.5375064004096262, 0.49664234511008704, 0.49583845366103435, 0.41417178699436763, 0.5249462365591397, 0.5083973374295956, 0.45542754736303126, 0.4979851510496672, 0.5148156682027649, 0.5608064516129032, 0.5359715821812596, 0.47119559651817716, 0.6083666154633897, 0.5203020993343574, 0.546073988735279, 0.46618023553507426, 0.4959293394777265, 0.4721710189452125, 0.5216269841269842, 0.45747567844342035, 0.49941500256016386, 0.4084114183307732, 0.42307475678443424, 0.5119559651817717, 0.5320276497695853, 0.4934203789042499, 0.4149257552483359, 0.5278059395801331, 0.44493087557603694, 0.4363748079877112, 0.5155414746543779, 0.5073284690220174, 0.4869687660010241, 0.4994111623143881, 0.4747823860727086, 0.5664388120839734, 0.49511008704557097, 0.5338197644649256, 0.507031490015361, 0.41098310291858675, 0.4529185867895545, 0.5159383000512032, 0.532741935483871], \"yaxis\": \"y4\"}, {\"marker\": {\"color\": [0, 1, 2, 3, 4, 5, 6, 7, 8, 9, 10, 11, 12, 13, 14, 15, 16, 17, 18, 19, 20, 21, 22, 23, 24, 25, 26, 27, 28, 29, 30, 31, 32, 33, 34, 35, 36, 37, 38, 39, 40, 41, 42, 43, 44, 45, 46, 47, 48, 49, 50, 51, 52, 53, 54, 55, 56, 57, 58, 59, 60, 61, 62, 63, 64, 65, 66, 67, 68, 69, 70, 71, 72, 73, 74, 75, 76, 77, 78, 79, 80, 81, 82, 83, 84, 85, 86, 87, 88, 89, 90, 91, 92, 93, 94, 95, 96, 97, 98, 99, 100, 101, 102, 103, 104, 105, 106, 107, 108, 109, 110, 111, 112, 113, 114, 115, 116, 117, 118, 119, 120, 121, 122, 123, 124, 125, 126, 127, 128, 129, 130, 131, 132, 133, 134, 135, 136, 137, 138, 139, 140, 141, 142, 143, 144, 145, 146, 147, 148, 149, 150, 151, 152, 153, 154, 155, 156, 157, 158, 159, 160, 161, 162, 163, 164, 165, 166, 167, 168, 169, 170, 171, 172, 173, 174, 175, 176, 177, 178, 179, 180, 181, 182, 183, 184, 185, 186, 187, 188, 189, 190, 191, 192, 193, 194, 195, 196, 197, 198, 199, 200, 201, 202, 203, 204, 205, 206, 207, 208, 209, 210, 211, 212, 213, 214, 215, 216, 217, 218, 219, 220, 221, 222, 223, 224, 225, 226, 227, 228, 229, 230, 231, 232, 233, 234, 235, 236, 237, 238, 239, 240, 241, 242, 243, 244, 245, 246, 247, 248, 249, 250, 251, 252, 253, 254, 255], \"colorbar\": {\"title\": {\"text\": \"#Trials\"}, \"x\": 1.0, \"xpad\": 40}, \"colorscale\": [[0.0, \"rgb(247,251,255)\"], [0.125, \"rgb(222,235,247)\"], [0.25, \"rgb(198,219,239)\"], [0.375, \"rgb(158,202,225)\"], [0.5, \"rgb(107,174,214)\"], [0.625, \"rgb(66,146,198)\"], [0.75, \"rgb(33,113,181)\"], [0.875, \"rgb(8,81,156)\"], [1.0, \"rgb(8,48,107)\"]], \"line\": {\"color\": \"Grey\", \"width\": 0.5}, \"showscale\": false}, \"mode\": \"markers\", \"showlegend\": false, \"type\": \"scatter\", \"x\": [0.3486766288315916, 0.2864285769474616, 0.4988168283845638, 0.3540788589947084, 0.43005129790389046, 0.23084217989598016, 0.3080739712208552, 0.46371461432341776, 0.2257653453145163, 0.14618957887615697, 0.0326272136456785, 0.4920801348201128, 0.49314198422845, 0.4283855685179152, 0.4366729413844758, 0.4909711386692084, 0.4003651810555212, 0.1441737566055038, 0.4979763041130401, 0.018143439369946668, 0.008439823899911547, 0.06305548905925193, 0.12045922975511045, 0.381003030530433, 0.19722498817461476, 0.4536988287210353, 0.07462884643494164, 0.2846970811438645, 0.47724205211366105, 0.34751800875068956, 0.328759831841243, 0.3256384078994117, 0.2750331538559165, 0.3615950974918064, 0.31412610903564586, 0.39864152798001784, 0.3437200886388503, 0.2680237162868624, 0.1871040703879747, 0.22353172911102015, 0.33729427002223655, 0.45118717474545206, 0.39920919729089444, 0.3715859695334227, 0.298485690163959, 0.2504251222832805, 0.4723184524255859, 0.4174968113701342, 0.41870257918467446, 0.38075504412607414, 0.4219983687052396, 0.4536690786095828, 0.4732238132074213, 0.4394414938507285, 0.3607153268915527, 0.41006959390982883, 0.3242015277355076, 0.49244824701108403, 0.3836934543080743, 0.3002846687641292, 0.4393370585760733, 0.4750784965828422, 0.49820493729213916, 0.46105488419779433, 0.4349551488737736, 0.4993011156560853, 0.48192306555419406, 0.34935179605435984, 0.4077708585481286, 0.01597940441931378, 0.00870164456607636, 0.05369775832218487, 0.034145116614480595, 0.10881268105403329, 0.09228025426420271, 0.019122738710104926, 0.09037850505016708, 0.13465848375808365, 0.20408796995942938, 0.16757549675359715, 0.03853650993204075, 0.23980811615909692, 0.017998889871181305, 0.07022836445072372, 0.46199663101547805, 0.3314187005169437, 0.28530779594742317, 0.48200883513217807, 0.11006391881626441, 0.39040385189867155, 0.051881669168538355, 0.00027405582143159857, 0.16447743763699935, 0.26017349257075517, 0.12111421055870444, 0.2159554193718142, 0.08896367681267586, 0.46349448154881207, 0.181613162275286, 0.44841060577288044, 0.4287386962065315, 0.36936041733189034, 0.4098426474324115, 0.41219978771750276, 0.48992317644961003, 0.3563990593781471, 0.3148375206207867, 0.35363985518562324, 0.336820338933314, 0.3669504406484122, 0.2971903829010496, 0.34019067439581296, 0.3185476056529678, 0.30704378980856395, 0.32999120551487066, 0.3804784274697722, 0.3882140587553365, 0.3478266278462036, 0.378994672737279, 0.39297195652147504, 0.37578078251924824, 0.33831555868047464, 0.34993806323294785, 0.36268762105227836, 0.023900638340603825, 0.04612385859764637, 0.1459887258397788, 0.3264819550397028, 0.3578149077224265, 0.0006576535812880206, 0.42349411111464885, 0.32569593087949483, 0.3065553498891469, 0.27599252769468813, 0.3233500172712156, 0.4005055714141378, 0.4422398737710123, 0.29359677147043706, 0.49864462845693613, 0.48879130411240695, 0.46823224550565057, 0.37025383378916443, 0.39480538647941477, 0.4000894315013238, 0.3836571763270269, 0.33214993418720556, 0.36018684995501055, 0.3510739554742126, 0.41586705626609527, 0.41951860486082987, 0.45354818498552596, 0.4524322820371906, 0.4792634839332456, 0.43116845905643514, 0.4143423548550082, 0.40042883080698133, 0.46046482291263235, 0.44131959046806324, 0.3431548424137336, 0.32004297366411927, 0.40648860265813025, 0.029081044677714184, 0.009794085541467719, 0.37671082973751463, 0.4287124863309102, 0.4855879760624408, 0.366271732841777, 0.38755569482063457, 0.06261448003879641, 0.4742208059486253, 0.4658066389785881, 0.4491700529527926, 0.4761456141650714, 0.45056119512078485, 0.45698302655198064, 0.43508476374196914, 0.49600380966396784, 0.4484039938998354, 0.46779250305022096, 0.4397734541706805, 0.4564443179255823, 0.47624529751389666, 0.44638659269160963, 0.4201002337449138, 0.48544949909638574, 0.4040167402885908, 0.46944052897705024, 0.49921337101265706, 0.42664873316444174, 0.4194494220479161, 0.4357660089881738, 0.4310874567888101, 0.44743449163314447, 0.4478671820452042, 0.4355080773499799, 0.43066004493990406, 0.4120622213618289, 0.44017088553657796, 0.42442401076660957, 0.43615340520983004, 0.4497981261106895, 0.4560829309860829, 0.44420664648882907, 0.4151823861925951, 0.45814104199420647, 0.4255331434247763, 0.43170384044952553, 0.3981816944963603, 0.424026779568884, 0.4133055912112734, 0.43896575814795064, 0.42626250984245045, 0.4443410635592325, 0.4596296648789363, 0.4079937737891056, 0.450848348490045, 0.39233314938578984, 0.47120762860884696, 0.42137109853632493, 0.4317435405331845, 0.4049993422808954, 0.3291360766795321, 0.3157534649522599, 0.3062605794103167, 0.33844842819382537, 0.35057708252185305, 0.013339577850481493, 0.33911499410859913, 0.35396014806454357, 0.31452289220425317, 0.346089404742703, 0.33785618282978785, 0.35803896456975653, 0.32580508938185143, 0.34651969054946546, 0.371329269943271, 0.31836031298748396, 0.338174303557782, 0.35892863444452716, 0.3820408622792733, 0.4358362060341372, 0.4600611592002048, 0.44601124573962214, 0.41890896778717307, 0.3515803357322846, 0.44106180859745814, 0.32894527257743184, 0.4288936694371562, 0.4514190721756044, 0.4474874018289732, 0.03814691661757738, 0.4182112208203229, 0.4338356263185482, 0.4531667940052549, 0.0011128951358769755, 0.3427590471791975], \"xaxis\": \"x5\", \"y\": [0.5230849974398362, 0.49910138248847924, 0.5579403481822837, 0.5076792114695341, 0.5008909370199692, 0.4797695852534563, 0.5205619559651818, 0.5445673323092677, 0.48800947260624683, 0.5008973374295955, 0.49155273937531996, 0.5392012288786482, 0.49548771121351765, 0.4052521761392729, 0.48762288786482333, 0.5248835125448028, 0.5029966717869944, 0.5385061443932412, 0.5195737327188941, 0.5943958013312852, 0.44826676907322066, 0.48373783922171015, 0.47047491039426514, 0.4622286226318485, 0.5184984639016896, 0.4640130568356374, 0.5202841781874039, 0.5245865335381465, 0.496557859703021, 0.5478059395801331, 0.5485483870967742, 0.506263440860215, 0.473689196108551, 0.4521108550947261, 0.5091449052739374, 0.4826190476190476, 0.5080593958013313, 0.5102137736815155, 0.45717229902713774, 0.5083806963645673, 0.48834869431643624, 0.4987800819252432, 0.5048387096774193, 0.5166295442908346, 0.5181451612903226, 0.47513824884792627, 0.47441756272401436, 0.5804147465437788, 0.4711507936507936, 0.39162826420890934, 0.4689452124935996, 0.4317754736303123, 0.5235279057859703, 0.5323924731182796, 0.49157066052227344, 0.5341781874039939, 0.5029966717869943, 0.49764208909370194, 0.4879749103942652, 0.5188722478238608, 0.47226446492575525, 0.5288056835637481, 0.5159075780849974, 0.44241935483870964, 0.5072990271377369, 0.5137532002048131, 0.48256528417818745, 0.5008768561187915, 0.5234254992319508, 0.6033563748079878, 0.47872887864823355, 0.5088300051203276, 0.5073988735279058, 0.5574731182795699, 0.4729697900665643, 0.5077572964669739, 0.49233998975934457, 0.5080107526881721, 0.5212749615975423, 0.4829953917050691, 0.4934203789042499, 0.4994201228878648, 0.4417089093701997, 0.48841013824884794, 0.485894777265745, 0.47540578597030214, 0.4848015873015873, 0.48650793650793656, 0.5341781874039938, 0.4908755760368663, 0.4797439836149514, 0.48691116231438814, 0.44967997951868915, 0.49190348182283666, 0.47692524321556584, 0.5145084485407065, 0.4797439836149514, 0.4689644137224782, 0.49090501792114694, 0.4285471070148489, 0.494431643625192, 0.47077828981054787, 0.4586456733230927, 0.4897887864823348, 0.41313620071684587, 0.5608013312852023, 0.42924603174603176, 0.4829109062980031, 0.5356118791602663, 0.4772145417306707, 0.4972529441884281, 0.43212877624167945, 0.5199462365591397, 0.5059626216077828, 0.5044290834613416, 0.5625281618023553, 0.48696748591909883, 0.44817588325652846, 0.5141077828981054, 0.4733051715309779, 0.48865847414234515, 0.5241525857654891, 0.5012045570916539, 0.5065821812596005, 0.4765732206861239, 0.4829237071172556, 0.4700819252432155, 0.5399321556579622, 0.48259984639016895, 0.5009306195596518, 0.5152342549923196, 0.5868663594470046, 0.5228097798259089, 0.5230670762928826, 0.44716845878136197, 0.5374039938556068, 0.5030619559651817, 0.4840117767537123, 0.46751408090117774, 0.5108806963645672, 0.5069610855094726, 0.4328456221198157, 0.5019201228878649, 0.5833640552995392, 0.42889272913466464, 0.5163492063492063, 0.5195097286226319, 0.4915821812596007, 0.5460125448028673, 0.4572196620583718, 0.5571313364055299, 0.5087570404505888, 0.4550614439324117, 0.44751664106502814, 0.5088095238095238, 0.4987967229902715, 0.38013568868407577, 0.48690476190476195, 0.488300051203277, 0.46148233486943174, 0.4496927803379417, 0.4779877112135177, 0.4092076292882744, 0.45435227854582694, 0.488394777265745, 0.4493445980542755, 0.468689196108551, 0.4553571428571429, 0.5009600614439325, 0.5410138248847927, 0.4005837173579108, 0.5994700460829493, 0.4658230926779313, 0.45532898105478753, 0.529536610343062, 0.529610855094726, 0.5070302099334357, 0.5592613927291346, 0.46679979518689196, 0.4704429083461342, 0.5388364055299539, 0.4944930875576037, 0.4686930363543266, 0.481589861751152, 0.5094982078853046, 0.5126600102406554, 0.4375089605734767, 0.4475448028673836, 0.5897337429595494, 0.5392985151049667, 0.5481605222734255, 0.42742703533026116, 0.5700256016385048, 0.45863927291346646, 0.5488760880696365, 0.497305427547363, 0.4966487455197132, 0.47799411162314387, 0.4733410138248847, 0.48077444956477217, 0.4976113671274961, 0.4750691244239632, 0.4772977470558116, 0.49809011776753714, 0.4650012800819253, 0.5517370711725551, 0.5084229390681003, 0.49439580133128525, 0.48870839733742955, 0.493741679467486, 0.52163082437276, 0.4916295442908346, 0.4739631336405529, 0.5375064004096262, 0.49664234511008704, 0.49583845366103435, 0.41417178699436763, 0.5249462365591397, 0.5083973374295956, 0.45542754736303126, 0.4979851510496672, 0.5148156682027649, 0.5608064516129032, 0.5359715821812596, 0.47119559651817716, 0.6083666154633897, 0.5203020993343574, 0.546073988735279, 0.46618023553507426, 0.4959293394777265, 0.4721710189452125, 0.5216269841269842, 0.45747567844342035, 0.49941500256016386, 0.4084114183307732, 0.42307475678443424, 0.5119559651817717, 0.5320276497695853, 0.4934203789042499, 0.4149257552483359, 0.5278059395801331, 0.44493087557603694, 0.4363748079877112, 0.5155414746543779, 0.5073284690220174, 0.4869687660010241, 0.4994111623143881, 0.4747823860727086, 0.5664388120839734, 0.49511008704557097, 0.5338197644649256, 0.507031490015361, 0.41098310291858675, 0.4529185867895545, 0.5159383000512032, 0.532741935483871], \"yaxis\": \"y5\"}, {\"marker\": {\"color\": [0, 1, 2, 3, 4, 5, 6, 7, 8, 9, 10, 11, 12, 13, 14, 15, 16, 17, 18, 19, 20, 21, 22, 23, 24, 25, 26, 27, 28, 29, 30, 31, 32, 33, 34, 35, 36, 37, 38, 39, 40, 41, 42, 43, 44, 45, 46, 47, 48, 49, 50, 51, 52, 53, 54, 55, 56, 57, 58, 59, 60, 61, 62, 63, 64, 65, 66, 67, 68, 69, 70, 71, 72, 73, 74, 75, 76, 77, 78, 79, 80, 81, 82, 83, 84, 85, 86, 87, 88, 89, 90, 91, 92, 93, 94, 95, 96, 97, 98, 99, 100, 101, 102, 103, 104, 105, 106, 107, 108, 109, 110, 111, 112, 113, 114, 115, 116, 117, 118, 119, 120, 121, 122, 123, 124, 125, 126, 127, 128, 129, 130, 131, 132, 133, 134, 135, 136, 137, 138, 139, 140, 141, 142, 143, 144, 145, 146, 147, 148, 149, 150, 151, 152, 153, 154, 155, 156, 157, 158, 159, 160, 161, 162, 163, 164, 165, 166, 167, 168, 169, 170, 171, 172, 173, 174, 175, 176, 177, 178, 179, 180, 181, 182, 183, 184, 185, 186, 187, 188, 189, 190, 191, 192, 193, 194, 195, 196, 197, 198, 199, 200, 201, 202, 203, 204, 205, 206, 207, 208, 209, 210, 211, 212, 213, 214, 215, 216, 217, 218, 219, 220, 221, 222, 223, 224, 225, 226, 227, 228, 229, 230, 231, 232, 233, 234, 235, 236, 237, 238, 239, 240, 241, 242, 243, 244, 245, 246, 247, 248, 249, 250, 251, 252, 253, 254, 255], \"colorbar\": {\"title\": {\"text\": \"#Trials\"}, \"x\": 1.0, \"xpad\": 40}, \"colorscale\": [[0.0, \"rgb(247,251,255)\"], [0.125, \"rgb(222,235,247)\"], [0.25, \"rgb(198,219,239)\"], [0.375, \"rgb(158,202,225)\"], [0.5, \"rgb(107,174,214)\"], [0.625, \"rgb(66,146,198)\"], [0.75, \"rgb(33,113,181)\"], [0.875, \"rgb(8,81,156)\"], [1.0, \"rgb(8,48,107)\"]], \"line\": {\"color\": \"Grey\", \"width\": 0.5}, \"showscale\": false}, \"mode\": \"markers\", \"showlegend\": false, \"type\": \"scatter\", \"x\": [460, 510, 507, 841, 892, 286, 950, 505, 978, 140, 677, 352, 677, 699, 341, 571, 215, 462, 583, 777, 769, 412, 593, 787, 637, 517, 410, 752, 505, 402, 240, 102, 245, 163, 354, 430, 297, 898, 208, 318, 466, 513, 384, 549, 615, 479, 652, 251, 267, 136, 200, 543, 381, 434, 265, 331, 727, 490, 382, 441, 173, 234, 351, 303, 986, 400, 824, 275, 576, 360, 539, 359, 447, 242, 316, 124, 244, 226, 177, 605, 189, 281, 951, 423, 367, 474, 340, 253, 888, 526, 291, 495, 454, 316, 462, 405, 566, 415, 153, 210, 502, 342, 385, 329, 302, 373, 371, 395, 434, 482, 557, 441, 426, 525, 455, 412, 260, 225, 361, 404, 470, 433, 513, 394, 414, 373, 493, 350, 324, 349, 288, 455, 449, 243, 532, 193, 306, 381, 474, 276, 411, 213, 168, 352, 341, 357, 371, 424, 389, 330, 388, 391, 361, 387, 312, 353, 332, 405, 257, 420, 688, 458, 486, 505, 395, 440, 373, 228, 465, 815, 850, 820, 759, 788, 799, 888, 817, 823, 862, 730, 846, 818, 872, 777, 790, 831, 804, 349, 839, 831, 910, 870, 935, 912, 932, 949, 934, 971, 925, 957, 897, 936, 914, 969, 830, 769, 720, 910, 765, 634, 885, 814, 742, 989, 798, 775, 846, 863, 239, 397, 416, 378, 368, 804, 379, 364, 430, 359, 366, 394, 363, 331, 386, 403, 351, 544, 368, 405, 518, 388, 582, 938, 843, 340, 812, 211, 266, 366, 780, 780, 765, 952, 740, 417, 920, 998], \"xaxis\": \"x6\", \"y\": [0.5230849974398362, 0.49910138248847924, 0.5579403481822837, 0.5076792114695341, 0.5008909370199692, 0.4797695852534563, 0.5205619559651818, 0.5445673323092677, 0.48800947260624683, 0.5008973374295955, 0.49155273937531996, 0.5392012288786482, 0.49548771121351765, 0.4052521761392729, 0.48762288786482333, 0.5248835125448028, 0.5029966717869944, 0.5385061443932412, 0.5195737327188941, 0.5943958013312852, 0.44826676907322066, 0.48373783922171015, 0.47047491039426514, 0.4622286226318485, 0.5184984639016896, 0.4640130568356374, 0.5202841781874039, 0.5245865335381465, 0.496557859703021, 0.5478059395801331, 0.5485483870967742, 0.506263440860215, 0.473689196108551, 0.4521108550947261, 0.5091449052739374, 0.4826190476190476, 0.5080593958013313, 0.5102137736815155, 0.45717229902713774, 0.5083806963645673, 0.48834869431643624, 0.4987800819252432, 0.5048387096774193, 0.5166295442908346, 0.5181451612903226, 0.47513824884792627, 0.47441756272401436, 0.5804147465437788, 0.4711507936507936, 0.39162826420890934, 0.4689452124935996, 0.4317754736303123, 0.5235279057859703, 0.5323924731182796, 0.49157066052227344, 0.5341781874039939, 0.5029966717869943, 0.49764208909370194, 0.4879749103942652, 0.5188722478238608, 0.47226446492575525, 0.5288056835637481, 0.5159075780849974, 0.44241935483870964, 0.5072990271377369, 0.5137532002048131, 0.48256528417818745, 0.5008768561187915, 0.5234254992319508, 0.6033563748079878, 0.47872887864823355, 0.5088300051203276, 0.5073988735279058, 0.5574731182795699, 0.4729697900665643, 0.5077572964669739, 0.49233998975934457, 0.5080107526881721, 0.5212749615975423, 0.4829953917050691, 0.4934203789042499, 0.4994201228878648, 0.4417089093701997, 0.48841013824884794, 0.485894777265745, 0.47540578597030214, 0.4848015873015873, 0.48650793650793656, 0.5341781874039938, 0.4908755760368663, 0.4797439836149514, 0.48691116231438814, 0.44967997951868915, 0.49190348182283666, 0.47692524321556584, 0.5145084485407065, 0.4797439836149514, 0.4689644137224782, 0.49090501792114694, 0.4285471070148489, 0.494431643625192, 0.47077828981054787, 0.4586456733230927, 0.4897887864823348, 0.41313620071684587, 0.5608013312852023, 0.42924603174603176, 0.4829109062980031, 0.5356118791602663, 0.4772145417306707, 0.4972529441884281, 0.43212877624167945, 0.5199462365591397, 0.5059626216077828, 0.5044290834613416, 0.5625281618023553, 0.48696748591909883, 0.44817588325652846, 0.5141077828981054, 0.4733051715309779, 0.48865847414234515, 0.5241525857654891, 0.5012045570916539, 0.5065821812596005, 0.4765732206861239, 0.4829237071172556, 0.4700819252432155, 0.5399321556579622, 0.48259984639016895, 0.5009306195596518, 0.5152342549923196, 0.5868663594470046, 0.5228097798259089, 0.5230670762928826, 0.44716845878136197, 0.5374039938556068, 0.5030619559651817, 0.4840117767537123, 0.46751408090117774, 0.5108806963645672, 0.5069610855094726, 0.4328456221198157, 0.5019201228878649, 0.5833640552995392, 0.42889272913466464, 0.5163492063492063, 0.5195097286226319, 0.4915821812596007, 0.5460125448028673, 0.4572196620583718, 0.5571313364055299, 0.5087570404505888, 0.4550614439324117, 0.44751664106502814, 0.5088095238095238, 0.4987967229902715, 0.38013568868407577, 0.48690476190476195, 0.488300051203277, 0.46148233486943174, 0.4496927803379417, 0.4779877112135177, 0.4092076292882744, 0.45435227854582694, 0.488394777265745, 0.4493445980542755, 0.468689196108551, 0.4553571428571429, 0.5009600614439325, 0.5410138248847927, 0.4005837173579108, 0.5994700460829493, 0.4658230926779313, 0.45532898105478753, 0.529536610343062, 0.529610855094726, 0.5070302099334357, 0.5592613927291346, 0.46679979518689196, 0.4704429083461342, 0.5388364055299539, 0.4944930875576037, 0.4686930363543266, 0.481589861751152, 0.5094982078853046, 0.5126600102406554, 0.4375089605734767, 0.4475448028673836, 0.5897337429595494, 0.5392985151049667, 0.5481605222734255, 0.42742703533026116, 0.5700256016385048, 0.45863927291346646, 0.5488760880696365, 0.497305427547363, 0.4966487455197132, 0.47799411162314387, 0.4733410138248847, 0.48077444956477217, 0.4976113671274961, 0.4750691244239632, 0.4772977470558116, 0.49809011776753714, 0.4650012800819253, 0.5517370711725551, 0.5084229390681003, 0.49439580133128525, 0.48870839733742955, 0.493741679467486, 0.52163082437276, 0.4916295442908346, 0.4739631336405529, 0.5375064004096262, 0.49664234511008704, 0.49583845366103435, 0.41417178699436763, 0.5249462365591397, 0.5083973374295956, 0.45542754736303126, 0.4979851510496672, 0.5148156682027649, 0.5608064516129032, 0.5359715821812596, 0.47119559651817716, 0.6083666154633897, 0.5203020993343574, 0.546073988735279, 0.46618023553507426, 0.4959293394777265, 0.4721710189452125, 0.5216269841269842, 0.45747567844342035, 0.49941500256016386, 0.4084114183307732, 0.42307475678443424, 0.5119559651817717, 0.5320276497695853, 0.4934203789042499, 0.4149257552483359, 0.5278059395801331, 0.44493087557603694, 0.4363748079877112, 0.5155414746543779, 0.5073284690220174, 0.4869687660010241, 0.4994111623143881, 0.4747823860727086, 0.5664388120839734, 0.49511008704557097, 0.5338197644649256, 0.507031490015361, 0.41098310291858675, 0.4529185867895545, 0.5159383000512032, 0.532741935483871], \"yaxis\": \"y6\"}],\n",
              "                        {\"template\": {\"data\": {\"bar\": [{\"error_x\": {\"color\": \"#2a3f5f\"}, \"error_y\": {\"color\": \"#2a3f5f\"}, \"marker\": {\"line\": {\"color\": \"#E5ECF6\", \"width\": 0.5}}, \"type\": \"bar\"}], \"barpolar\": [{\"marker\": {\"line\": {\"color\": \"#E5ECF6\", \"width\": 0.5}}, \"type\": \"barpolar\"}], \"carpet\": [{\"aaxis\": {\"endlinecolor\": \"#2a3f5f\", \"gridcolor\": \"white\", \"linecolor\": \"white\", \"minorgridcolor\": \"white\", \"startlinecolor\": \"#2a3f5f\"}, \"baxis\": {\"endlinecolor\": \"#2a3f5f\", \"gridcolor\": \"white\", \"linecolor\": \"white\", \"minorgridcolor\": \"white\", \"startlinecolor\": \"#2a3f5f\"}, \"type\": \"carpet\"}], \"choropleth\": [{\"colorbar\": {\"outlinewidth\": 0, \"ticks\": \"\"}, \"type\": \"choropleth\"}], \"contour\": [{\"colorbar\": {\"outlinewidth\": 0, \"ticks\": \"\"}, \"colorscale\": [[0.0, \"#0d0887\"], [0.1111111111111111, \"#46039f\"], [0.2222222222222222, \"#7201a8\"], [0.3333333333333333, \"#9c179e\"], [0.4444444444444444, \"#bd3786\"], [0.5555555555555556, \"#d8576b\"], [0.6666666666666666, \"#ed7953\"], [0.7777777777777778, \"#fb9f3a\"], [0.8888888888888888, \"#fdca26\"], [1.0, \"#f0f921\"]], \"type\": \"contour\"}], \"contourcarpet\": [{\"colorbar\": {\"outlinewidth\": 0, \"ticks\": \"\"}, \"type\": \"contourcarpet\"}], \"heatmap\": [{\"colorbar\": {\"outlinewidth\": 0, \"ticks\": \"\"}, \"colorscale\": [[0.0, \"#0d0887\"], [0.1111111111111111, \"#46039f\"], [0.2222222222222222, \"#7201a8\"], [0.3333333333333333, \"#9c179e\"], [0.4444444444444444, \"#bd3786\"], [0.5555555555555556, \"#d8576b\"], [0.6666666666666666, \"#ed7953\"], [0.7777777777777778, \"#fb9f3a\"], [0.8888888888888888, \"#fdca26\"], [1.0, \"#f0f921\"]], \"type\": \"heatmap\"}], \"heatmapgl\": [{\"colorbar\": {\"outlinewidth\": 0, \"ticks\": \"\"}, \"colorscale\": [[0.0, \"#0d0887\"], [0.1111111111111111, \"#46039f\"], [0.2222222222222222, \"#7201a8\"], [0.3333333333333333, \"#9c179e\"], [0.4444444444444444, \"#bd3786\"], [0.5555555555555556, \"#d8576b\"], [0.6666666666666666, \"#ed7953\"], [0.7777777777777778, \"#fb9f3a\"], [0.8888888888888888, \"#fdca26\"], [1.0, \"#f0f921\"]], \"type\": \"heatmapgl\"}], \"histogram\": [{\"marker\": {\"colorbar\": {\"outlinewidth\": 0, \"ticks\": \"\"}}, \"type\": \"histogram\"}], \"histogram2d\": [{\"colorbar\": {\"outlinewidth\": 0, \"ticks\": \"\"}, \"colorscale\": [[0.0, \"#0d0887\"], [0.1111111111111111, \"#46039f\"], [0.2222222222222222, \"#7201a8\"], [0.3333333333333333, \"#9c179e\"], [0.4444444444444444, \"#bd3786\"], [0.5555555555555556, \"#d8576b\"], [0.6666666666666666, \"#ed7953\"], [0.7777777777777778, \"#fb9f3a\"], [0.8888888888888888, \"#fdca26\"], [1.0, \"#f0f921\"]], \"type\": \"histogram2d\"}], \"histogram2dcontour\": [{\"colorbar\": {\"outlinewidth\": 0, \"ticks\": \"\"}, \"colorscale\": [[0.0, \"#0d0887\"], [0.1111111111111111, \"#46039f\"], [0.2222222222222222, \"#7201a8\"], [0.3333333333333333, \"#9c179e\"], [0.4444444444444444, \"#bd3786\"], [0.5555555555555556, \"#d8576b\"], [0.6666666666666666, \"#ed7953\"], [0.7777777777777778, \"#fb9f3a\"], [0.8888888888888888, \"#fdca26\"], [1.0, \"#f0f921\"]], \"type\": \"histogram2dcontour\"}], \"mesh3d\": [{\"colorbar\": {\"outlinewidth\": 0, \"ticks\": \"\"}, \"type\": \"mesh3d\"}], \"parcoords\": [{\"line\": {\"colorbar\": {\"outlinewidth\": 0, \"ticks\": \"\"}}, \"type\": \"parcoords\"}], \"pie\": [{\"automargin\": true, \"type\": \"pie\"}], \"scatter\": [{\"marker\": {\"colorbar\": {\"outlinewidth\": 0, \"ticks\": \"\"}}, \"type\": \"scatter\"}], \"scatter3d\": [{\"line\": {\"colorbar\": {\"outlinewidth\": 0, \"ticks\": \"\"}}, \"marker\": {\"colorbar\": {\"outlinewidth\": 0, \"ticks\": \"\"}}, \"type\": \"scatter3d\"}], \"scattercarpet\": [{\"marker\": {\"colorbar\": {\"outlinewidth\": 0, \"ticks\": \"\"}}, \"type\": \"scattercarpet\"}], \"scattergeo\": [{\"marker\": {\"colorbar\": {\"outlinewidth\": 0, \"ticks\": \"\"}}, \"type\": \"scattergeo\"}], \"scattergl\": [{\"marker\": {\"colorbar\": {\"outlinewidth\": 0, \"ticks\": \"\"}}, \"type\": \"scattergl\"}], \"scattermapbox\": [{\"marker\": {\"colorbar\": {\"outlinewidth\": 0, \"ticks\": \"\"}}, \"type\": \"scattermapbox\"}], \"scatterpolar\": [{\"marker\": {\"colorbar\": {\"outlinewidth\": 0, \"ticks\": \"\"}}, \"type\": \"scatterpolar\"}], \"scatterpolargl\": [{\"marker\": {\"colorbar\": {\"outlinewidth\": 0, \"ticks\": \"\"}}, \"type\": \"scatterpolargl\"}], \"scatterternary\": [{\"marker\": {\"colorbar\": {\"outlinewidth\": 0, \"ticks\": \"\"}}, \"type\": \"scatterternary\"}], \"surface\": [{\"colorbar\": {\"outlinewidth\": 0, \"ticks\": \"\"}, \"colorscale\": [[0.0, \"#0d0887\"], [0.1111111111111111, \"#46039f\"], [0.2222222222222222, \"#7201a8\"], [0.3333333333333333, \"#9c179e\"], [0.4444444444444444, \"#bd3786\"], [0.5555555555555556, \"#d8576b\"], [0.6666666666666666, \"#ed7953\"], [0.7777777777777778, \"#fb9f3a\"], [0.8888888888888888, \"#fdca26\"], [1.0, \"#f0f921\"]], \"type\": \"surface\"}], \"table\": [{\"cells\": {\"fill\": {\"color\": \"#EBF0F8\"}, \"line\": {\"color\": \"white\"}}, \"header\": {\"fill\": {\"color\": \"#C8D4E3\"}, \"line\": {\"color\": \"white\"}}, \"type\": \"table\"}]}, \"layout\": {\"annotationdefaults\": {\"arrowcolor\": \"#2a3f5f\", \"arrowhead\": 0, \"arrowwidth\": 1}, \"coloraxis\": {\"colorbar\": {\"outlinewidth\": 0, \"ticks\": \"\"}}, \"colorscale\": {\"diverging\": [[0, \"#8e0152\"], [0.1, \"#c51b7d\"], [0.2, \"#de77ae\"], [0.3, \"#f1b6da\"], [0.4, \"#fde0ef\"], [0.5, \"#f7f7f7\"], [0.6, \"#e6f5d0\"], [0.7, \"#b8e186\"], [0.8, \"#7fbc41\"], [0.9, \"#4d9221\"], [1, \"#276419\"]], \"sequential\": [[0.0, \"#0d0887\"], [0.1111111111111111, \"#46039f\"], [0.2222222222222222, \"#7201a8\"], [0.3333333333333333, \"#9c179e\"], [0.4444444444444444, \"#bd3786\"], [0.5555555555555556, \"#d8576b\"], [0.6666666666666666, \"#ed7953\"], [0.7777777777777778, \"#fb9f3a\"], [0.8888888888888888, \"#fdca26\"], [1.0, \"#f0f921\"]], \"sequentialminus\": [[0.0, \"#0d0887\"], [0.1111111111111111, \"#46039f\"], [0.2222222222222222, \"#7201a8\"], [0.3333333333333333, \"#9c179e\"], [0.4444444444444444, \"#bd3786\"], [0.5555555555555556, \"#d8576b\"], [0.6666666666666666, \"#ed7953\"], [0.7777777777777778, \"#fb9f3a\"], [0.8888888888888888, \"#fdca26\"], [1.0, \"#f0f921\"]]}, \"colorway\": [\"#636efa\", \"#EF553B\", \"#00cc96\", \"#ab63fa\", \"#FFA15A\", \"#19d3f3\", \"#FF6692\", \"#B6E880\", \"#FF97FF\", \"#FECB52\"], \"font\": {\"color\": \"#2a3f5f\"}, \"geo\": {\"bgcolor\": \"white\", \"lakecolor\": \"white\", \"landcolor\": \"#E5ECF6\", \"showlakes\": true, \"showland\": true, \"subunitcolor\": \"white\"}, \"hoverlabel\": {\"align\": \"left\"}, \"hovermode\": \"closest\", \"mapbox\": {\"style\": \"light\"}, \"paper_bgcolor\": \"white\", \"plot_bgcolor\": \"#E5ECF6\", \"polar\": {\"angularaxis\": {\"gridcolor\": \"white\", \"linecolor\": \"white\", \"ticks\": \"\"}, \"bgcolor\": \"#E5ECF6\", \"radialaxis\": {\"gridcolor\": \"white\", \"linecolor\": \"white\", \"ticks\": \"\"}}, \"scene\": {\"xaxis\": {\"backgroundcolor\": \"#E5ECF6\", \"gridcolor\": \"white\", \"gridwidth\": 2, \"linecolor\": \"white\", \"showbackground\": true, \"ticks\": \"\", \"zerolinecolor\": \"white\"}, \"yaxis\": {\"backgroundcolor\": \"#E5ECF6\", \"gridcolor\": \"white\", \"gridwidth\": 2, \"linecolor\": \"white\", \"showbackground\": true, \"ticks\": \"\", \"zerolinecolor\": \"white\"}, \"zaxis\": {\"backgroundcolor\": \"#E5ECF6\", \"gridcolor\": \"white\", \"gridwidth\": 2, \"linecolor\": \"white\", \"showbackground\": true, \"ticks\": \"\", \"zerolinecolor\": \"white\"}}, \"shapedefaults\": {\"line\": {\"color\": \"#2a3f5f\"}}, \"ternary\": {\"aaxis\": {\"gridcolor\": \"white\", \"linecolor\": \"white\", \"ticks\": \"\"}, \"baxis\": {\"gridcolor\": \"white\", \"linecolor\": \"white\", \"ticks\": \"\"}, \"bgcolor\": \"#E5ECF6\", \"caxis\": {\"gridcolor\": \"white\", \"linecolor\": \"white\", \"ticks\": \"\"}}, \"title\": {\"x\": 0.05}, \"xaxis\": {\"automargin\": true, \"gridcolor\": \"white\", \"linecolor\": \"white\", \"ticks\": \"\", \"title\": {\"standoff\": 15}, \"zerolinecolor\": \"white\", \"zerolinewidth\": 2}, \"yaxis\": {\"automargin\": true, \"gridcolor\": \"white\", \"linecolor\": \"white\", \"ticks\": \"\", \"title\": {\"standoff\": 15}, \"zerolinecolor\": \"white\", \"zerolinewidth\": 2}}}, \"title\": {\"text\": \"Slice Plot\"}, \"width\": 1800, \"xaxis\": {\"anchor\": \"y\", \"domain\": [0.0, 0.1388888888888889], \"title\": {\"text\": \"imputer__strategy\"}}, \"xaxis2\": {\"anchor\": \"y2\", \"domain\": [0.17222222222222222, 0.3111111111111111], \"title\": {\"text\": \"model__batch_size\"}}, \"xaxis3\": {\"anchor\": \"y3\", \"domain\": [0.34444444444444444, 0.48333333333333334], \"title\": {\"text\": \"model__hidden_activation\"}}, \"xaxis4\": {\"anchor\": \"y4\", \"domain\": [0.5166666666666667, 0.6555555555555557], \"title\": {\"text\": \"model__hidden_layers\"}}, \"xaxis5\": {\"anchor\": \"y5\", \"domain\": [0.6888888888888889, 0.8277777777777777], \"title\": {\"text\": \"model__max_dropout_rate\"}}, \"xaxis6\": {\"anchor\": \"y6\", \"domain\": [0.861111111111111, 1.0], \"title\": {\"text\": \"model__max_hidden_units\"}}, \"yaxis\": {\"anchor\": \"x\", \"domain\": [0.0, 1.0], \"title\": {\"text\": \"Objective Value\"}}, \"yaxis2\": {\"anchor\": \"x2\", \"domain\": [0.0, 1.0], \"matches\": \"y\", \"showticklabels\": false}, \"yaxis3\": {\"anchor\": \"x3\", \"domain\": [0.0, 1.0], \"matches\": \"y\", \"showticklabels\": false}, \"yaxis4\": {\"anchor\": \"x4\", \"domain\": [0.0, 1.0], \"matches\": \"y\", \"showticklabels\": false}, \"yaxis5\": {\"anchor\": \"x5\", \"domain\": [0.0, 1.0], \"matches\": \"y\", \"showticklabels\": false}, \"yaxis6\": {\"anchor\": \"x6\", \"domain\": [0.0, 1.0], \"matches\": \"y\", \"showticklabels\": false}},\n",
              "                        {\"responsive\": true}\n",
              "                    ).then(function(){\n",
              "                            \n",
              "var gd = document.getElementById('fd0a3e82-c431-4812-9bb0-5846a749b8e7');\n",
              "var x = new MutationObserver(function (mutations, observer) {{\n",
              "        var display = window.getComputedStyle(gd).display;\n",
              "        if (!display || display === 'none') {{\n",
              "            console.log([gd, 'removed!']);\n",
              "            Plotly.purge(gd);\n",
              "            observer.disconnect();\n",
              "        }}\n",
              "}});\n",
              "\n",
              "// Listen for the removal of the full notebook cells\n",
              "var notebookContainer = gd.closest('#notebook-container');\n",
              "if (notebookContainer) {{\n",
              "    x.observe(notebookContainer, {childList: true});\n",
              "}}\n",
              "\n",
              "// Listen for the clearing of the current output cell\n",
              "var outputEl = gd.closest('.output');\n",
              "if (outputEl) {{\n",
              "    x.observe(outputEl, {childList: true});\n",
              "}}\n",
              "\n",
              "                        })\n",
              "                };\n",
              "                \n",
              "            </script>\n",
              "        </div>\n",
              "</body>\n",
              "</html>"
            ]
          },
          "metadata": {
            "tags": []
          }
        }
      ]
    },
    {
      "cell_type": "code",
      "metadata": {
        "id": "9LSibPrT9nw1",
        "outputId": "8e3a785a-7439-4a3d-bca2-b0757839aaea",
        "colab": {
          "base_uri": "https://localhost:8080/",
          "height": 542
        }
      },
      "source": [
        "optuna.visualization.plot_parallel_coordinate(study, params= [\n",
        "                                                      'model__batch_size',\n",
        "                                                      'model__hidden_activation',\n",
        "                                                      'model__hidden_layers',\n",
        "                                                      'model__max_dropout_rate',\n",
        "                                                      'model__max_hidden_units',\n",
        "                                                      'imputer__strategy'\n",
        "                                                     ]).show()"
      ],
      "execution_count": null,
      "outputs": [
        {
          "output_type": "display_data",
          "data": {
            "text/html": [
              "<html>\n",
              "<head><meta charset=\"utf-8\" /></head>\n",
              "<body>\n",
              "    <div>\n",
              "            <script src=\"https://cdnjs.cloudflare.com/ajax/libs/mathjax/2.7.5/MathJax.js?config=TeX-AMS-MML_SVG\"></script><script type=\"text/javascript\">if (window.MathJax) {MathJax.Hub.Config({SVG: {font: \"STIX-Web\"}});}</script>\n",
              "                <script type=\"text/javascript\">window.PlotlyConfig = {MathJaxConfig: 'local'};</script>\n",
              "        <script src=\"https://cdn.plot.ly/plotly-latest.min.js\"></script>    \n",
              "            <div id=\"47f65d38-f594-45b4-9c78-0670191fd004\" class=\"plotly-graph-div\" style=\"height:525px; width:100%;\"></div>\n",
              "            <script type=\"text/javascript\">\n",
              "                \n",
              "                    window.PLOTLYENV=window.PLOTLYENV || {};\n",
              "                    \n",
              "                if (document.getElementById(\"47f65d38-f594-45b4-9c78-0670191fd004\")) {\n",
              "                    Plotly.newPlot(\n",
              "                        '47f65d38-f594-45b4-9c78-0670191fd004',\n",
              "                        [{\"dimensions\": [{\"label\": \"Objective Value\", \"range\": [0.38013568868407577, 0.6083666154633897], \"values\": [0.5230849974398362, 0.49910138248847924, 0.5579403481822837, 0.5076792114695341, 0.5008909370199692, 0.4797695852534563, 0.5205619559651818, 0.5445673323092677, 0.48800947260624683, 0.5008973374295955, 0.49155273937531996, 0.5392012288786482, 0.49548771121351765, 0.4052521761392729, 0.48762288786482333, 0.5248835125448028, 0.5029966717869944, 0.5385061443932412, 0.5195737327188941, 0.5943958013312852, 0.44826676907322066, 0.48373783922171015, 0.47047491039426514, 0.4622286226318485, 0.5184984639016896, 0.4640130568356374, 0.5202841781874039, 0.5245865335381465, 0.496557859703021, 0.5478059395801331, 0.5485483870967742, 0.506263440860215, 0.473689196108551, 0.4521108550947261, 0.5091449052739374, 0.4826190476190476, 0.5080593958013313, 0.5102137736815155, 0.45717229902713774, 0.5083806963645673, 0.48834869431643624, 0.4987800819252432, 0.5048387096774193, 0.5166295442908346, 0.5181451612903226, 0.47513824884792627, 0.47441756272401436, 0.5804147465437788, 0.4711507936507936, 0.39162826420890934, 0.4689452124935996, 0.4317754736303123, 0.5235279057859703, 0.5323924731182796, 0.49157066052227344, 0.5341781874039939, 0.5029966717869943, 0.49764208909370194, 0.4879749103942652, 0.5188722478238608, 0.47226446492575525, 0.5288056835637481, 0.5159075780849974, 0.44241935483870964, 0.5072990271377369, 0.5137532002048131, 0.48256528417818745, 0.5008768561187915, 0.5234254992319508, 0.6033563748079878, 0.47872887864823355, 0.5088300051203276, 0.5073988735279058, 0.5574731182795699, 0.4729697900665643, 0.5077572964669739, 0.49233998975934457, 0.5080107526881721, 0.5212749615975423, 0.4829953917050691, 0.4934203789042499, 0.4994201228878648, 0.4417089093701997, 0.48841013824884794, 0.485894777265745, 0.47540578597030214, 0.4848015873015873, 0.48650793650793656, 0.5341781874039938, 0.4908755760368663, 0.4797439836149514, 0.48691116231438814, 0.44967997951868915, 0.49190348182283666, 0.47692524321556584, 0.5145084485407065, 0.4797439836149514, 0.4689644137224782, 0.49090501792114694, 0.4285471070148489, 0.494431643625192, 0.47077828981054787, 0.4586456733230927, 0.4897887864823348, 0.41313620071684587, 0.5608013312852023, 0.42924603174603176, 0.4829109062980031, 0.5356118791602663, 0.4772145417306707, 0.4972529441884281, 0.43212877624167945, 0.5199462365591397, 0.5059626216077828, 0.5044290834613416, 0.5625281618023553, 0.48696748591909883, 0.44817588325652846, 0.5141077828981054, 0.4733051715309779, 0.48865847414234515, 0.5241525857654891, 0.5012045570916539, 0.5065821812596005, 0.4765732206861239, 0.4829237071172556, 0.4700819252432155, 0.5399321556579622, 0.48259984639016895, 0.5009306195596518, 0.5152342549923196, 0.5868663594470046, 0.5228097798259089, 0.5230670762928826, 0.44716845878136197, 0.5374039938556068, 0.5030619559651817, 0.4840117767537123, 0.46751408090117774, 0.5108806963645672, 0.5069610855094726, 0.4328456221198157, 0.5019201228878649, 0.5833640552995392, 0.42889272913466464, 0.5163492063492063, 0.5195097286226319, 0.4915821812596007, 0.5460125448028673, 0.4572196620583718, 0.5571313364055299, 0.5087570404505888, 0.4550614439324117, 0.44751664106502814, 0.5088095238095238, 0.4987967229902715, 0.38013568868407577, 0.48690476190476195, 0.488300051203277, 0.46148233486943174, 0.4496927803379417, 0.4779877112135177, 0.4092076292882744, 0.45435227854582694, 0.488394777265745, 0.4493445980542755, 0.468689196108551, 0.4553571428571429, 0.5009600614439325, 0.5410138248847927, 0.4005837173579108, 0.5994700460829493, 0.4658230926779313, 0.45532898105478753, 0.529536610343062, 0.529610855094726, 0.5070302099334357, 0.5592613927291346, 0.46679979518689196, 0.4704429083461342, 0.5388364055299539, 0.4944930875576037, 0.4686930363543266, 0.481589861751152, 0.5094982078853046, 0.5126600102406554, 0.4375089605734767, 0.4475448028673836, 0.5897337429595494, 0.5392985151049667, 0.5481605222734255, 0.42742703533026116, 0.5700256016385048, 0.45863927291346646, 0.5488760880696365, 0.497305427547363, 0.4966487455197132, 0.47799411162314387, 0.4733410138248847, 0.48077444956477217, 0.4976113671274961, 0.4750691244239632, 0.4772977470558116, 0.49809011776753714, 0.4650012800819253, 0.5517370711725551, 0.5084229390681003, 0.49439580133128525, 0.48870839733742955, 0.493741679467486, 0.52163082437276, 0.4916295442908346, 0.4739631336405529, 0.5375064004096262, 0.49664234511008704, 0.49583845366103435, 0.41417178699436763, 0.5249462365591397, 0.5083973374295956, 0.45542754736303126, 0.4979851510496672, 0.5148156682027649, 0.5608064516129032, 0.5359715821812596, 0.47119559651817716, 0.6083666154633897, 0.5203020993343574, 0.546073988735279, 0.46618023553507426, 0.4959293394777265, 0.4721710189452125, 0.5216269841269842, 0.45747567844342035, 0.49941500256016386, 0.4084114183307732, 0.42307475678443424, 0.5119559651817717, 0.5320276497695853, 0.4934203789042499, 0.4149257552483359, 0.5278059395801331, 0.44493087557603694, 0.4363748079877112, 0.5155414746543779, 0.5073284690220174, 0.4869687660010241, 0.4994111623143881, 0.4747823860727086, 0.5664388120839734, 0.49511008704557097, 0.5338197644649256, 0.507031490015361, 0.41098310291858675, 0.4529185867895545, 0.5159383000512032, 0.532741935483871]}, {\"label\": \"imputer__strategy\", \"range\": [0, 2], \"ticktext\": [[\"median\", 0], [\"mean\", 1], [\"constant\", 2]], \"tickvals\": [0, 1, 2], \"values\": [0, 0, 1, 1, 1, 1, 1, 1, 1, 0, 2, 2, 1, 1, 1, 2, 1, 1, 1, 2, 2, 2, 2, 2, 2, 0, 1, 1, 2, 0, 0, 0, 0, 0, 0, 0, 0, 0, 0, 0, 0, 1, 1, 1, 0, 1, 2, 1, 0, 1, 1, 1, 1, 1, 1, 2, 1, 1, 2, 1, 0, 2, 2, 2, 2, 2, 2, 0, 1, 2, 2, 2, 2, 2, 2, 0, 2, 1, 0, 2, 1, 2, 2, 2, 2, 0, 1, 2, 0, 1, 2, 1, 1, 1, 1, 1, 1, 0, 2, 1, 0, 2, 2, 2, 2, 2, 2, 1, 2, 2, 0, 2, 2, 2, 2, 2, 1, 2, 2, 1, 0, 2, 2, 2, 2, 2, 2, 1, 1, 1, 1, 1, 1, 1, 1, 1, 1, 1, 1, 0, 1, 1, 1, 1, 1, 1, 1, 0, 1, 1, 1, 1, 1, 1, 1, 1, 1, 0, 2, 1, 2, 1, 1, 1, 1, 1, 2, 0, 1, 2, 2, 2, 2, 2, 2, 2, 2, 2, 2, 2, 2, 2, 2, 2, 2, 2, 2, 2, 0, 0, 0, 0, 0, 0, 0, 0, 0, 0, 0, 0, 0, 0, 0, 0, 0, 0, 0, 0, 0, 0, 0, 0, 0, 0, 0, 0, 0, 0, 2, 2, 0, 1, 1, 1, 1, 1, 1, 1, 1, 1, 1, 1, 1, 1, 1, 1, 1, 1, 1, 1, 0, 2, 2, 2, 1, 2, 0, 1, 2, 0, 1, 2, 0, 1, 2, 1]}, {\"label\": \"model__batch_size\", \"range\": [8, 64], \"values\": [16, 8, 8, 8, 16, 8, 64, 16, 64, 8, 32, 16, 32, 16, 16, 8, 8, 64, 16, 32, 32, 32, 32, 32, 16, 8, 32, 16, 32, 64, 64, 64, 64, 64, 64, 64, 64, 8, 64, 8, 64, 16, 8, 64, 16, 64, 8, 32, 32, 32, 32, 32, 16, 32, 8, 32, 16, 64, 32, 8, 16, 16, 16, 16, 16, 64, 32, 16, 64, 32, 32, 32, 32, 32, 32, 32, 32, 32, 32, 8, 64, 32, 64, 32, 16, 8, 32, 64, 16, 32, 8, 64, 64, 64, 64, 64, 16, 64, 32, 8, 16, 32, 32, 32, 32, 32, 32, 64, 32, 16, 32, 32, 32, 32, 32, 32, 64, 32, 8, 32, 16, 32, 32, 32, 32, 32, 64, 32, 32, 64, 16, 32, 32, 32, 32, 32, 8, 32, 64, 32, 16, 32, 32, 32, 32, 32, 32, 64, 32, 32, 32, 32, 32, 32, 32, 32, 32, 32, 32, 8, 32, 16, 32, 64, 32, 32, 64, 16, 32, 32, 32, 32, 32, 32, 32, 32, 32, 32, 32, 32, 32, 32, 32, 32, 8, 32, 32, 32, 32, 32, 32, 32, 32, 32, 32, 32, 32, 32, 32, 32, 32, 32, 32, 32, 32, 32, 32, 32, 8, 32, 32, 32, 32, 32, 32, 32, 32, 32, 32, 32, 32, 32, 32, 32, 32, 32, 32, 32, 32, 32, 32, 32, 32, 32, 8, 32, 32, 32, 32, 64, 32, 32, 32, 32, 32, 32, 32, 32, 32, 32, 32, 8, 64, 32, 32, 32]}, {\"label\": \"model__hidden_act...\", \"range\": [0, 4], \"ticktext\": [[\"swish\", 0], [\"tanh\", 1], [\"selu\", 2], [\"elu\", 3], [\"relu\", 4]], \"tickvals\": [0, 1, 2, 3, 4], \"values\": [0, 1, 0, 1, 2, 3, 2, 1, 2, 2, 4, 0, 1, 0, 4, 3, 0, 1, 0, 1, 0, 1, 1, 1, 1, 4, 3, 1, 1, 0, 0, 0, 0, 0, 0, 0, 0, 0, 0, 3, 2, 1, 1, 0, 4, 2, 0, 1, 1, 0, 0, 1, 1, 1, 1, 1, 3, 4, 1, 2, 0, 0, 0, 0, 0, 1, 0, 1, 0, 0, 3, 0, 0, 0, 0, 0, 0, 1, 4, 0, 1, 0, 0, 0, 0, 0, 2, 1, 0, 1, 0, 1, 1, 1, 1, 1, 0, 3, 1, 0, 4, 1, 1, 1, 1, 1, 0, 1, 0, 2, 0, 0, 0, 0, 0, 0, 1, 0, 0, 1, 0, 0, 0, 0, 0, 0, 1, 0, 3, 0, 1, 0, 0, 0, 0, 0, 4, 0, 1, 0, 1, 0, 0, 0, 0, 0, 2, 0, 1, 0, 1, 1, 1, 1, 1, 1, 0, 1, 0, 0, 1, 1, 1, 1, 1, 0, 3, 1, 0, 1, 1, 1, 1, 1, 1, 1, 0, 0, 0, 4, 1, 0, 0, 0, 0, 0, 0, 1, 0, 0, 2, 2, 2, 2, 1, 2, 2, 2, 2, 2, 2, 1, 1, 1, 1, 2, 2, 2, 2, 2, 2, 1, 1, 1, 1, 2, 1, 0, 3, 0, 1, 0, 0, 0, 0, 0, 0, 0, 0, 0, 0, 0, 0, 0, 0, 0, 0, 0, 0, 0, 2, 1, 1, 1, 4, 0, 1, 0, 0, 0, 0, 0, 0, 0, 2, 0]}, {\"label\": \"model__hidden_lay...\", \"range\": [1, 10], \"values\": [7, 10, 7, 7, 7, 10, 4, 10, 9, 4, 3, 1, 8, 5, 9, 6, 9, 2, 6, 8, 8, 8, 10, 8, 9, 7, 6, 10, 5, 7, 7, 7, 6, 8, 7, 5, 7, 7, 8, 6, 9, 7, 8, 10, 9, 6, 7, 4, 4, 3, 3, 5, 4, 2, 4, 9, 8, 5, 6, 8, 6, 7, 1, 1, 2, 7, 10, 8, 7, 9, 9, 9, 10, 8, 8, 9, 8, 8, 10, 9, 7, 7, 8, 6, 9, 7, 8, 9, 10, 8, 3, 1, 2, 2, 1, 2, 6, 7, 5, 3, 7, 9, 10, 8, 9, 8, 8, 4, 7, 8, 1, 7, 7, 6, 8, 7, 7, 6, 8, 7, 8, 7, 7, 7, 6, 8, 7, 7, 9, 6, 8, 7, 7, 7, 5, 7, 7, 8, 6, 2, 9, 7, 7, 3, 3, 4, 3, 1, 2, 2, 3, 3, 4, 3, 2, 2, 3, 10, 8, 4, 1, 2, 2, 2, 3, 1, 7, 3, 8, 4, 4, 4, 5, 4, 4, 4, 4, 7, 7, 7, 5, 7, 7, 7, 4, 6, 8, 7, 10, 10, 10, 10, 10, 10, 10, 10, 10, 10, 10, 10, 10, 10, 10, 9, 10, 9, 9, 9, 9, 10, 10, 10, 10, 8, 3, 8, 10, 4, 9, 9, 8, 7, 7, 7, 7, 7, 7, 7, 7, 7, 7, 7, 7, 7, 7, 7, 6, 8, 10, 7, 8, 4, 7, 10, 5, 7, 3, 7, 4, 6, 10, 7, 10, 9, 8, 3]}, {\"label\": \"model__max_dropou...\", \"range\": [0.00027405582143159857, 0.4993011156560853], \"values\": [0.3486766288315916, 0.2864285769474616, 0.4988168283845638, 0.3540788589947084, 0.43005129790389046, 0.23084217989598016, 0.3080739712208552, 0.46371461432341776, 0.2257653453145163, 0.14618957887615697, 0.0326272136456785, 0.4920801348201128, 0.49314198422845, 0.4283855685179152, 0.4366729413844758, 0.4909711386692084, 0.4003651810555212, 0.1441737566055038, 0.4979763041130401, 0.018143439369946668, 0.008439823899911547, 0.06305548905925193, 0.12045922975511045, 0.381003030530433, 0.19722498817461476, 0.4536988287210353, 0.07462884643494164, 0.2846970811438645, 0.47724205211366105, 0.34751800875068956, 0.328759831841243, 0.3256384078994117, 0.2750331538559165, 0.3615950974918064, 0.31412610903564586, 0.39864152798001784, 0.3437200886388503, 0.2680237162868624, 0.1871040703879747, 0.22353172911102015, 0.33729427002223655, 0.45118717474545206, 0.39920919729089444, 0.3715859695334227, 0.298485690163959, 0.2504251222832805, 0.4723184524255859, 0.4174968113701342, 0.41870257918467446, 0.38075504412607414, 0.4219983687052396, 0.4536690786095828, 0.4732238132074213, 0.4394414938507285, 0.3607153268915527, 0.41006959390982883, 0.3242015277355076, 0.49244824701108403, 0.3836934543080743, 0.3002846687641292, 0.4393370585760733, 0.4750784965828422, 0.49820493729213916, 0.46105488419779433, 0.4349551488737736, 0.4993011156560853, 0.48192306555419406, 0.34935179605435984, 0.4077708585481286, 0.01597940441931378, 0.00870164456607636, 0.05369775832218487, 0.034145116614480595, 0.10881268105403329, 0.09228025426420271, 0.019122738710104926, 0.09037850505016708, 0.13465848375808365, 0.20408796995942938, 0.16757549675359715, 0.03853650993204075, 0.23980811615909692, 0.017998889871181305, 0.07022836445072372, 0.46199663101547805, 0.3314187005169437, 0.28530779594742317, 0.48200883513217807, 0.11006391881626441, 0.39040385189867155, 0.051881669168538355, 0.00027405582143159857, 0.16447743763699935, 0.26017349257075517, 0.12111421055870444, 0.2159554193718142, 0.08896367681267586, 0.46349448154881207, 0.181613162275286, 0.44841060577288044, 0.4287386962065315, 0.36936041733189034, 0.4098426474324115, 0.41219978771750276, 0.48992317644961003, 0.3563990593781471, 0.3148375206207867, 0.35363985518562324, 0.336820338933314, 0.3669504406484122, 0.2971903829010496, 0.34019067439581296, 0.3185476056529678, 0.30704378980856395, 0.32999120551487066, 0.3804784274697722, 0.3882140587553365, 0.3478266278462036, 0.378994672737279, 0.39297195652147504, 0.37578078251924824, 0.33831555868047464, 0.34993806323294785, 0.36268762105227836, 0.023900638340603825, 0.04612385859764637, 0.1459887258397788, 0.3264819550397028, 0.3578149077224265, 0.0006576535812880206, 0.42349411111464885, 0.32569593087949483, 0.3065553498891469, 0.27599252769468813, 0.3233500172712156, 0.4005055714141378, 0.4422398737710123, 0.29359677147043706, 0.49864462845693613, 0.48879130411240695, 0.46823224550565057, 0.37025383378916443, 0.39480538647941477, 0.4000894315013238, 0.3836571763270269, 0.33214993418720556, 0.36018684995501055, 0.3510739554742126, 0.41586705626609527, 0.41951860486082987, 0.45354818498552596, 0.4524322820371906, 0.4792634839332456, 0.43116845905643514, 0.4143423548550082, 0.40042883080698133, 0.46046482291263235, 0.44131959046806324, 0.3431548424137336, 0.32004297366411927, 0.40648860265813025, 0.029081044677714184, 0.009794085541467719, 0.37671082973751463, 0.4287124863309102, 0.4855879760624408, 0.366271732841777, 0.38755569482063457, 0.06261448003879641, 0.4742208059486253, 0.4658066389785881, 0.4491700529527926, 0.4761456141650714, 0.45056119512078485, 0.45698302655198064, 0.43508476374196914, 0.49600380966396784, 0.4484039938998354, 0.46779250305022096, 0.4397734541706805, 0.4564443179255823, 0.47624529751389666, 0.44638659269160963, 0.4201002337449138, 0.48544949909638574, 0.4040167402885908, 0.46944052897705024, 0.49921337101265706, 0.42664873316444174, 0.4194494220479161, 0.4357660089881738, 0.4310874567888101, 0.44743449163314447, 0.4478671820452042, 0.4355080773499799, 0.43066004493990406, 0.4120622213618289, 0.44017088553657796, 0.42442401076660957, 0.43615340520983004, 0.4497981261106895, 0.4560829309860829, 0.44420664648882907, 0.4151823861925951, 0.45814104199420647, 0.4255331434247763, 0.43170384044952553, 0.3981816944963603, 0.424026779568884, 0.4133055912112734, 0.43896575814795064, 0.42626250984245045, 0.4443410635592325, 0.4596296648789363, 0.4079937737891056, 0.450848348490045, 0.39233314938578984, 0.47120762860884696, 0.42137109853632493, 0.4317435405331845, 0.4049993422808954, 0.3291360766795321, 0.3157534649522599, 0.3062605794103167, 0.33844842819382537, 0.35057708252185305, 0.013339577850481493, 0.33911499410859913, 0.35396014806454357, 0.31452289220425317, 0.346089404742703, 0.33785618282978785, 0.35803896456975653, 0.32580508938185143, 0.34651969054946546, 0.371329269943271, 0.31836031298748396, 0.338174303557782, 0.35892863444452716, 0.3820408622792733, 0.4358362060341372, 0.4600611592002048, 0.44601124573962214, 0.41890896778717307, 0.3515803357322846, 0.44106180859745814, 0.32894527257743184, 0.4288936694371562, 0.4514190721756044, 0.4474874018289732, 0.03814691661757738, 0.4182112208203229, 0.4338356263185482, 0.4531667940052549, 0.0011128951358769755, 0.3427590471791975]}, {\"label\": \"model__max_hidden...\", \"range\": [102, 998], \"values\": [460, 510, 507, 841, 892, 286, 950, 505, 978, 140, 677, 352, 677, 699, 341, 571, 215, 462, 583, 777, 769, 412, 593, 787, 637, 517, 410, 752, 505, 402, 240, 102, 245, 163, 354, 430, 297, 898, 208, 318, 466, 513, 384, 549, 615, 479, 652, 251, 267, 136, 200, 543, 381, 434, 265, 331, 727, 490, 382, 441, 173, 234, 351, 303, 986, 400, 824, 275, 576, 360, 539, 359, 447, 242, 316, 124, 244, 226, 177, 605, 189, 281, 951, 423, 367, 474, 340, 253, 888, 526, 291, 495, 454, 316, 462, 405, 566, 415, 153, 210, 502, 342, 385, 329, 302, 373, 371, 395, 434, 482, 557, 441, 426, 525, 455, 412, 260, 225, 361, 404, 470, 433, 513, 394, 414, 373, 493, 350, 324, 349, 288, 455, 449, 243, 532, 193, 306, 381, 474, 276, 411, 213, 168, 352, 341, 357, 371, 424, 389, 330, 388, 391, 361, 387, 312, 353, 332, 405, 257, 420, 688, 458, 486, 505, 395, 440, 373, 228, 465, 815, 850, 820, 759, 788, 799, 888, 817, 823, 862, 730, 846, 818, 872, 777, 790, 831, 804, 349, 839, 831, 910, 870, 935, 912, 932, 949, 934, 971, 925, 957, 897, 936, 914, 969, 830, 769, 720, 910, 765, 634, 885, 814, 742, 989, 798, 775, 846, 863, 239, 397, 416, 378, 368, 804, 379, 364, 430, 359, 366, 394, 363, 331, 386, 403, 351, 544, 368, 405, 518, 388, 582, 938, 843, 340, 812, 211, 266, 366, 780, 780, 765, 952, 740, 417, 920, 998]}], \"labelangle\": 30, \"labelside\": \"bottom\", \"line\": {\"color\": [0.5230849974398362, 0.49910138248847924, 0.5579403481822837, 0.5076792114695341, 0.5008909370199692, 0.4797695852534563, 0.5205619559651818, 0.5445673323092677, 0.48800947260624683, 0.5008973374295955, 0.49155273937531996, 0.5392012288786482, 0.49548771121351765, 0.4052521761392729, 0.48762288786482333, 0.5248835125448028, 0.5029966717869944, 0.5385061443932412, 0.5195737327188941, 0.5943958013312852, 0.44826676907322066, 0.48373783922171015, 0.47047491039426514, 0.4622286226318485, 0.5184984639016896, 0.4640130568356374, 0.5202841781874039, 0.5245865335381465, 0.496557859703021, 0.5478059395801331, 0.5485483870967742, 0.506263440860215, 0.473689196108551, 0.4521108550947261, 0.5091449052739374, 0.4826190476190476, 0.5080593958013313, 0.5102137736815155, 0.45717229902713774, 0.5083806963645673, 0.48834869431643624, 0.4987800819252432, 0.5048387096774193, 0.5166295442908346, 0.5181451612903226, 0.47513824884792627, 0.47441756272401436, 0.5804147465437788, 0.4711507936507936, 0.39162826420890934, 0.4689452124935996, 0.4317754736303123, 0.5235279057859703, 0.5323924731182796, 0.49157066052227344, 0.5341781874039939, 0.5029966717869943, 0.49764208909370194, 0.4879749103942652, 0.5188722478238608, 0.47226446492575525, 0.5288056835637481, 0.5159075780849974, 0.44241935483870964, 0.5072990271377369, 0.5137532002048131, 0.48256528417818745, 0.5008768561187915, 0.5234254992319508, 0.6033563748079878, 0.47872887864823355, 0.5088300051203276, 0.5073988735279058, 0.5574731182795699, 0.4729697900665643, 0.5077572964669739, 0.49233998975934457, 0.5080107526881721, 0.5212749615975423, 0.4829953917050691, 0.4934203789042499, 0.4994201228878648, 0.4417089093701997, 0.48841013824884794, 0.485894777265745, 0.47540578597030214, 0.4848015873015873, 0.48650793650793656, 0.5341781874039938, 0.4908755760368663, 0.4797439836149514, 0.48691116231438814, 0.44967997951868915, 0.49190348182283666, 0.47692524321556584, 0.5145084485407065, 0.4797439836149514, 0.4689644137224782, 0.49090501792114694, 0.4285471070148489, 0.494431643625192, 0.47077828981054787, 0.4586456733230927, 0.4897887864823348, 0.41313620071684587, 0.5608013312852023, 0.42924603174603176, 0.4829109062980031, 0.5356118791602663, 0.4772145417306707, 0.4972529441884281, 0.43212877624167945, 0.5199462365591397, 0.5059626216077828, 0.5044290834613416, 0.5625281618023553, 0.48696748591909883, 0.44817588325652846, 0.5141077828981054, 0.4733051715309779, 0.48865847414234515, 0.5241525857654891, 0.5012045570916539, 0.5065821812596005, 0.4765732206861239, 0.4829237071172556, 0.4700819252432155, 0.5399321556579622, 0.48259984639016895, 0.5009306195596518, 0.5152342549923196, 0.5868663594470046, 0.5228097798259089, 0.5230670762928826, 0.44716845878136197, 0.5374039938556068, 0.5030619559651817, 0.4840117767537123, 0.46751408090117774, 0.5108806963645672, 0.5069610855094726, 0.4328456221198157, 0.5019201228878649, 0.5833640552995392, 0.42889272913466464, 0.5163492063492063, 0.5195097286226319, 0.4915821812596007, 0.5460125448028673, 0.4572196620583718, 0.5571313364055299, 0.5087570404505888, 0.4550614439324117, 0.44751664106502814, 0.5088095238095238, 0.4987967229902715, 0.38013568868407577, 0.48690476190476195, 0.488300051203277, 0.46148233486943174, 0.4496927803379417, 0.4779877112135177, 0.4092076292882744, 0.45435227854582694, 0.488394777265745, 0.4493445980542755, 0.468689196108551, 0.4553571428571429, 0.5009600614439325, 0.5410138248847927, 0.4005837173579108, 0.5994700460829493, 0.4658230926779313, 0.45532898105478753, 0.529536610343062, 0.529610855094726, 0.5070302099334357, 0.5592613927291346, 0.46679979518689196, 0.4704429083461342, 0.5388364055299539, 0.4944930875576037, 0.4686930363543266, 0.481589861751152, 0.5094982078853046, 0.5126600102406554, 0.4375089605734767, 0.4475448028673836, 0.5897337429595494, 0.5392985151049667, 0.5481605222734255, 0.42742703533026116, 0.5700256016385048, 0.45863927291346646, 0.5488760880696365, 0.497305427547363, 0.4966487455197132, 0.47799411162314387, 0.4733410138248847, 0.48077444956477217, 0.4976113671274961, 0.4750691244239632, 0.4772977470558116, 0.49809011776753714, 0.4650012800819253, 0.5517370711725551, 0.5084229390681003, 0.49439580133128525, 0.48870839733742955, 0.493741679467486, 0.52163082437276, 0.4916295442908346, 0.4739631336405529, 0.5375064004096262, 0.49664234511008704, 0.49583845366103435, 0.41417178699436763, 0.5249462365591397, 0.5083973374295956, 0.45542754736303126, 0.4979851510496672, 0.5148156682027649, 0.5608064516129032, 0.5359715821812596, 0.47119559651817716, 0.6083666154633897, 0.5203020993343574, 0.546073988735279, 0.46618023553507426, 0.4959293394777265, 0.4721710189452125, 0.5216269841269842, 0.45747567844342035, 0.49941500256016386, 0.4084114183307732, 0.42307475678443424, 0.5119559651817717, 0.5320276497695853, 0.4934203789042499, 0.4149257552483359, 0.5278059395801331, 0.44493087557603694, 0.4363748079877112, 0.5155414746543779, 0.5073284690220174, 0.4869687660010241, 0.4994111623143881, 0.4747823860727086, 0.5664388120839734, 0.49511008704557097, 0.5338197644649256, 0.507031490015361, 0.41098310291858675, 0.4529185867895545, 0.5159383000512032, 0.532741935483871], \"colorbar\": {\"title\": {\"text\": \"Objective Value\"}}, \"colorscale\": [[0.0, \"rgb(247,251,255)\"], [0.125, \"rgb(222,235,247)\"], [0.25, \"rgb(198,219,239)\"], [0.375, \"rgb(158,202,225)\"], [0.5, \"rgb(107,174,214)\"], [0.625, \"rgb(66,146,198)\"], [0.75, \"rgb(33,113,181)\"], [0.875, \"rgb(8,81,156)\"], [1.0, \"rgb(8,48,107)\"]], \"reversescale\": false, \"showscale\": true}, \"type\": \"parcoords\"}],\n",
              "                        {\"template\": {\"data\": {\"bar\": [{\"error_x\": {\"color\": \"#2a3f5f\"}, \"error_y\": {\"color\": \"#2a3f5f\"}, \"marker\": {\"line\": {\"color\": \"#E5ECF6\", \"width\": 0.5}}, \"type\": \"bar\"}], \"barpolar\": [{\"marker\": {\"line\": {\"color\": \"#E5ECF6\", \"width\": 0.5}}, \"type\": \"barpolar\"}], \"carpet\": [{\"aaxis\": {\"endlinecolor\": \"#2a3f5f\", \"gridcolor\": \"white\", \"linecolor\": \"white\", \"minorgridcolor\": \"white\", \"startlinecolor\": \"#2a3f5f\"}, \"baxis\": {\"endlinecolor\": \"#2a3f5f\", \"gridcolor\": \"white\", \"linecolor\": \"white\", \"minorgridcolor\": \"white\", \"startlinecolor\": \"#2a3f5f\"}, \"type\": \"carpet\"}], \"choropleth\": [{\"colorbar\": {\"outlinewidth\": 0, \"ticks\": \"\"}, \"type\": \"choropleth\"}], \"contour\": [{\"colorbar\": {\"outlinewidth\": 0, \"ticks\": \"\"}, \"colorscale\": [[0.0, \"#0d0887\"], [0.1111111111111111, \"#46039f\"], [0.2222222222222222, \"#7201a8\"], [0.3333333333333333, \"#9c179e\"], [0.4444444444444444, \"#bd3786\"], [0.5555555555555556, \"#d8576b\"], [0.6666666666666666, \"#ed7953\"], [0.7777777777777778, \"#fb9f3a\"], [0.8888888888888888, \"#fdca26\"], [1.0, \"#f0f921\"]], \"type\": \"contour\"}], \"contourcarpet\": [{\"colorbar\": {\"outlinewidth\": 0, \"ticks\": \"\"}, \"type\": \"contourcarpet\"}], \"heatmap\": [{\"colorbar\": {\"outlinewidth\": 0, \"ticks\": \"\"}, \"colorscale\": [[0.0, \"#0d0887\"], [0.1111111111111111, \"#46039f\"], [0.2222222222222222, \"#7201a8\"], [0.3333333333333333, \"#9c179e\"], [0.4444444444444444, \"#bd3786\"], [0.5555555555555556, \"#d8576b\"], [0.6666666666666666, \"#ed7953\"], [0.7777777777777778, \"#fb9f3a\"], [0.8888888888888888, \"#fdca26\"], [1.0, \"#f0f921\"]], \"type\": \"heatmap\"}], \"heatmapgl\": [{\"colorbar\": {\"outlinewidth\": 0, \"ticks\": \"\"}, \"colorscale\": [[0.0, \"#0d0887\"], [0.1111111111111111, \"#46039f\"], [0.2222222222222222, \"#7201a8\"], [0.3333333333333333, \"#9c179e\"], [0.4444444444444444, \"#bd3786\"], [0.5555555555555556, \"#d8576b\"], [0.6666666666666666, \"#ed7953\"], [0.7777777777777778, \"#fb9f3a\"], [0.8888888888888888, \"#fdca26\"], [1.0, \"#f0f921\"]], \"type\": \"heatmapgl\"}], \"histogram\": [{\"marker\": {\"colorbar\": {\"outlinewidth\": 0, \"ticks\": \"\"}}, \"type\": \"histogram\"}], \"histogram2d\": [{\"colorbar\": {\"outlinewidth\": 0, \"ticks\": \"\"}, \"colorscale\": [[0.0, \"#0d0887\"], [0.1111111111111111, \"#46039f\"], [0.2222222222222222, \"#7201a8\"], [0.3333333333333333, \"#9c179e\"], [0.4444444444444444, \"#bd3786\"], [0.5555555555555556, \"#d8576b\"], [0.6666666666666666, \"#ed7953\"], [0.7777777777777778, \"#fb9f3a\"], [0.8888888888888888, \"#fdca26\"], [1.0, \"#f0f921\"]], \"type\": \"histogram2d\"}], \"histogram2dcontour\": [{\"colorbar\": {\"outlinewidth\": 0, \"ticks\": \"\"}, \"colorscale\": [[0.0, \"#0d0887\"], [0.1111111111111111, \"#46039f\"], [0.2222222222222222, \"#7201a8\"], [0.3333333333333333, \"#9c179e\"], [0.4444444444444444, \"#bd3786\"], [0.5555555555555556, \"#d8576b\"], [0.6666666666666666, \"#ed7953\"], [0.7777777777777778, \"#fb9f3a\"], [0.8888888888888888, \"#fdca26\"], [1.0, \"#f0f921\"]], \"type\": \"histogram2dcontour\"}], \"mesh3d\": [{\"colorbar\": {\"outlinewidth\": 0, \"ticks\": \"\"}, \"type\": \"mesh3d\"}], \"parcoords\": [{\"line\": {\"colorbar\": {\"outlinewidth\": 0, \"ticks\": \"\"}}, \"type\": \"parcoords\"}], \"pie\": [{\"automargin\": true, \"type\": \"pie\"}], \"scatter\": [{\"marker\": {\"colorbar\": {\"outlinewidth\": 0, \"ticks\": \"\"}}, \"type\": \"scatter\"}], \"scatter3d\": [{\"line\": {\"colorbar\": {\"outlinewidth\": 0, \"ticks\": \"\"}}, \"marker\": {\"colorbar\": {\"outlinewidth\": 0, \"ticks\": \"\"}}, \"type\": \"scatter3d\"}], \"scattercarpet\": [{\"marker\": {\"colorbar\": {\"outlinewidth\": 0, \"ticks\": \"\"}}, \"type\": \"scattercarpet\"}], \"scattergeo\": [{\"marker\": {\"colorbar\": {\"outlinewidth\": 0, \"ticks\": \"\"}}, \"type\": \"scattergeo\"}], \"scattergl\": [{\"marker\": {\"colorbar\": {\"outlinewidth\": 0, \"ticks\": \"\"}}, \"type\": \"scattergl\"}], \"scattermapbox\": [{\"marker\": {\"colorbar\": {\"outlinewidth\": 0, \"ticks\": \"\"}}, \"type\": \"scattermapbox\"}], \"scatterpolar\": [{\"marker\": {\"colorbar\": {\"outlinewidth\": 0, \"ticks\": \"\"}}, \"type\": \"scatterpolar\"}], \"scatterpolargl\": [{\"marker\": {\"colorbar\": {\"outlinewidth\": 0, \"ticks\": \"\"}}, \"type\": \"scatterpolargl\"}], \"scatterternary\": [{\"marker\": {\"colorbar\": {\"outlinewidth\": 0, \"ticks\": \"\"}}, \"type\": \"scatterternary\"}], \"surface\": [{\"colorbar\": {\"outlinewidth\": 0, \"ticks\": \"\"}, \"colorscale\": [[0.0, \"#0d0887\"], [0.1111111111111111, \"#46039f\"], [0.2222222222222222, \"#7201a8\"], [0.3333333333333333, \"#9c179e\"], [0.4444444444444444, \"#bd3786\"], [0.5555555555555556, \"#d8576b\"], [0.6666666666666666, \"#ed7953\"], [0.7777777777777778, \"#fb9f3a\"], [0.8888888888888888, \"#fdca26\"], [1.0, \"#f0f921\"]], \"type\": \"surface\"}], \"table\": [{\"cells\": {\"fill\": {\"color\": \"#EBF0F8\"}, \"line\": {\"color\": \"white\"}}, \"header\": {\"fill\": {\"color\": \"#C8D4E3\"}, \"line\": {\"color\": \"white\"}}, \"type\": \"table\"}]}, \"layout\": {\"annotationdefaults\": {\"arrowcolor\": \"#2a3f5f\", \"arrowhead\": 0, \"arrowwidth\": 1}, \"coloraxis\": {\"colorbar\": {\"outlinewidth\": 0, \"ticks\": \"\"}}, \"colorscale\": {\"diverging\": [[0, \"#8e0152\"], [0.1, \"#c51b7d\"], [0.2, \"#de77ae\"], [0.3, \"#f1b6da\"], [0.4, \"#fde0ef\"], [0.5, \"#f7f7f7\"], [0.6, \"#e6f5d0\"], [0.7, \"#b8e186\"], [0.8, \"#7fbc41\"], [0.9, \"#4d9221\"], [1, \"#276419\"]], \"sequential\": [[0.0, \"#0d0887\"], [0.1111111111111111, \"#46039f\"], [0.2222222222222222, \"#7201a8\"], [0.3333333333333333, \"#9c179e\"], [0.4444444444444444, \"#bd3786\"], [0.5555555555555556, \"#d8576b\"], [0.6666666666666666, \"#ed7953\"], [0.7777777777777778, \"#fb9f3a\"], [0.8888888888888888, \"#fdca26\"], [1.0, \"#f0f921\"]], \"sequentialminus\": [[0.0, \"#0d0887\"], [0.1111111111111111, \"#46039f\"], [0.2222222222222222, \"#7201a8\"], [0.3333333333333333, \"#9c179e\"], [0.4444444444444444, \"#bd3786\"], [0.5555555555555556, \"#d8576b\"], [0.6666666666666666, \"#ed7953\"], [0.7777777777777778, \"#fb9f3a\"], [0.8888888888888888, \"#fdca26\"], [1.0, \"#f0f921\"]]}, \"colorway\": [\"#636efa\", \"#EF553B\", \"#00cc96\", \"#ab63fa\", \"#FFA15A\", \"#19d3f3\", \"#FF6692\", \"#B6E880\", \"#FF97FF\", \"#FECB52\"], \"font\": {\"color\": \"#2a3f5f\"}, \"geo\": {\"bgcolor\": \"white\", \"lakecolor\": \"white\", \"landcolor\": \"#E5ECF6\", \"showlakes\": true, \"showland\": true, \"subunitcolor\": \"white\"}, \"hoverlabel\": {\"align\": \"left\"}, \"hovermode\": \"closest\", \"mapbox\": {\"style\": \"light\"}, \"paper_bgcolor\": \"white\", \"plot_bgcolor\": \"#E5ECF6\", \"polar\": {\"angularaxis\": {\"gridcolor\": \"white\", \"linecolor\": \"white\", \"ticks\": \"\"}, \"bgcolor\": \"#E5ECF6\", \"radialaxis\": {\"gridcolor\": \"white\", \"linecolor\": \"white\", \"ticks\": \"\"}}, \"scene\": {\"xaxis\": {\"backgroundcolor\": \"#E5ECF6\", \"gridcolor\": \"white\", \"gridwidth\": 2, \"linecolor\": \"white\", \"showbackground\": true, \"ticks\": \"\", \"zerolinecolor\": \"white\"}, \"yaxis\": {\"backgroundcolor\": \"#E5ECF6\", \"gridcolor\": \"white\", \"gridwidth\": 2, \"linecolor\": \"white\", \"showbackground\": true, \"ticks\": \"\", \"zerolinecolor\": \"white\"}, \"zaxis\": {\"backgroundcolor\": \"#E5ECF6\", \"gridcolor\": \"white\", \"gridwidth\": 2, \"linecolor\": \"white\", \"showbackground\": true, \"ticks\": \"\", \"zerolinecolor\": \"white\"}}, \"shapedefaults\": {\"line\": {\"color\": \"#2a3f5f\"}}, \"ternary\": {\"aaxis\": {\"gridcolor\": \"white\", \"linecolor\": \"white\", \"ticks\": \"\"}, \"baxis\": {\"gridcolor\": \"white\", \"linecolor\": \"white\", \"ticks\": \"\"}, \"bgcolor\": \"#E5ECF6\", \"caxis\": {\"gridcolor\": \"white\", \"linecolor\": \"white\", \"ticks\": \"\"}}, \"title\": {\"x\": 0.05}, \"xaxis\": {\"automargin\": true, \"gridcolor\": \"white\", \"linecolor\": \"white\", \"ticks\": \"\", \"title\": {\"standoff\": 15}, \"zerolinecolor\": \"white\", \"zerolinewidth\": 2}, \"yaxis\": {\"automargin\": true, \"gridcolor\": \"white\", \"linecolor\": \"white\", \"ticks\": \"\", \"title\": {\"standoff\": 15}, \"zerolinecolor\": \"white\", \"zerolinewidth\": 2}}}, \"title\": {\"text\": \"Parallel Coordinate Plot\"}},\n",
              "                        {\"responsive\": true}\n",
              "                    ).then(function(){\n",
              "                            \n",
              "var gd = document.getElementById('47f65d38-f594-45b4-9c78-0670191fd004');\n",
              "var x = new MutationObserver(function (mutations, observer) {{\n",
              "        var display = window.getComputedStyle(gd).display;\n",
              "        if (!display || display === 'none') {{\n",
              "            console.log([gd, 'removed!']);\n",
              "            Plotly.purge(gd);\n",
              "            observer.disconnect();\n",
              "        }}\n",
              "}});\n",
              "\n",
              "// Listen for the removal of the full notebook cells\n",
              "var notebookContainer = gd.closest('#notebook-container');\n",
              "if (notebookContainer) {{\n",
              "    x.observe(notebookContainer, {childList: true});\n",
              "}}\n",
              "\n",
              "// Listen for the clearing of the current output cell\n",
              "var outputEl = gd.closest('.output');\n",
              "if (outputEl) {{\n",
              "    x.observe(outputEl, {childList: true});\n",
              "}}\n",
              "\n",
              "                        })\n",
              "                };\n",
              "                \n",
              "            </script>\n",
              "        </div>\n",
              "</body>\n",
              "</html>"
            ]
          },
          "metadata": {
            "tags": []
          }
        }
      ]
    }
  ]
}