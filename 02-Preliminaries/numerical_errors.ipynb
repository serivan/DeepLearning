{
  "nbformat": 4,
  "nbformat_minor": 0,
  "metadata": {
    "colab": {
      "name": "numerical_errors.ipynb",
      "provenance": [],
      "include_colab_link": true
    },
    "kernelspec": {
      "display_name": "Python 3",
      "name": "python3"
    },
    "language_info": {
      "name": "python"
    }
  },
  "cells": [
    {
      "cell_type": "markdown",
      "metadata": {
        "id": "view-in-github",
        "colab_type": "text"
      },
      "source": [
        "<a href=\"https://colab.research.google.com/github/serivan/DeepLearning/blob/master/02-Preliminaries/numerical_errors.ipynb\" target=\"_parent\"><img src=\"https://colab.research.google.com/assets/colab-badge.svg\" alt=\"Open In Colab\"/></a>"
      ]
    },
    {
      "cell_type": "markdown",
      "metadata": {
        "id": "NHkLBO61H_IM"
      },
      "source": [
        "# Rounding and truncation errors"
      ]
    },
    {
      "cell_type": "markdown",
      "metadata": {
        "id": "VparFXTL0lNb"
      },
      "source": [
        "Adding a very small numb er to a larger one may have no eﬀect. This can cause large changes downstream:"
      ]
    },
    {
      "cell_type": "code",
      "metadata": {
        "id": "bTG6FgOCYzkf"
      },
      "source": [
        "import numpy as np\n",
        "import tensorflow as tf"
      ],
      "execution_count": 1,
      "outputs": []
    },
    {
      "cell_type": "code",
      "metadata": {
        "colab": {
          "base_uri": "https://localhost:8080/"
        },
        "id": "cNj-fRoEYW07",
        "outputId": "0e84bc2c-3d28-4115-971e-110555c5934c"
      },
      "source": [
        "a = np.array([0., 1e-8]).astype('float32')\n",
        "a"
      ],
      "execution_count": 2,
      "outputs": [
        {
          "output_type": "execute_result",
          "data": {
            "text/plain": [
              "array([0.e+00, 1.e-08], dtype=float32)"
            ]
          },
          "metadata": {},
          "execution_count": 2
        }
      ]
    },
    {
      "cell_type": "code",
      "metadata": {
        "id": "fxQn13xp1KDy",
        "outputId": "6330ea34-6f6a-4ea3-a32a-39582e1729ff",
        "colab": {
          "base_uri": "https://localhost:8080/"
        }
      },
      "source": [
        "a+1"
      ],
      "execution_count": 3,
      "outputs": [
        {
          "output_type": "execute_result",
          "data": {
            "text/plain": [
              "array([1., 1.], dtype=float32)"
            ]
          },
          "metadata": {},
          "execution_count": 3
        }
      ]
    },
    {
      "cell_type": "markdown",
      "metadata": {
        "id": "csidO6Dh2Db0"
      },
      "source": [
        "##exp(x) overflows for large x"
      ]
    },
    {
      "cell_type": "code",
      "metadata": {
        "colab": {
          "base_uri": "https://localhost:8080/"
        },
        "id": "4buIuUeB1tJI",
        "scrolled": true,
        "outputId": "c9744aff-a046-45a3-e510-536cb2cb2e9f"
      },
      "source": [
        "x=88\n",
        "np.exp(x).astype('float32')"
      ],
      "execution_count": 4,
      "outputs": [
        {
          "output_type": "execute_result",
          "data": {
            "text/plain": [
              "1.6516363e+38"
            ]
          },
          "metadata": {},
          "execution_count": 4
        }
      ]
    },
    {
      "cell_type": "code",
      "metadata": {
        "id": "sQ0rujHC2Kr6",
        "outputId": "2ba03d79-5e19-4185-e200-37c8d8620fe4",
        "colab": {
          "base_uri": "https://localhost:8080/"
        }
      },
      "source": [
        "x=-100 #Check what happen at different values of x\n",
        "np.exp(x).astype('float32')"
      ],
      "execution_count": 5,
      "outputs": [
        {
          "output_type": "execute_result",
          "data": {
            "text/plain": [
              "3.8e-44"
            ]
          },
          "metadata": {},
          "execution_count": 5
        }
      ]
    },
    {
      "cell_type": "markdown",
      "metadata": {
        "id": "XPk6kabb3NLc"
      },
      "source": [
        "log(0) = - inf"
      ]
    },
    {
      "cell_type": "code",
      "metadata": {
        "id": "VLE0UQT-272U",
        "outputId": "d7324ff0-7163-473f-a4c8-c11d721cf709",
        "colab": {
          "base_uri": "https://localhost:8080/"
        }
      },
      "source": [
        "np.log(0)"
      ],
      "execution_count": 6,
      "outputs": [
        {
          "output_type": "stream",
          "name": "stderr",
          "text": [
            "<ipython-input-6-f6e7c0610b57>:1: RuntimeWarning: divide by zero encountered in log\n",
            "  np.log(0)\n"
          ]
        },
        {
          "output_type": "execute_result",
          "data": {
            "text/plain": [
              "-inf"
            ]
          },
          "metadata": {},
          "execution_count": 6
        }
      ]
    },
    {
      "cell_type": "markdown",
      "metadata": {
        "id": "oGEhF8PpBymj"
      },
      "source": [
        "#log(sum(exp))\n",
        "Naive implementation\n",
        "Failure modes:\n",
        "• If any entry is very large, exp overflows\n",
        "• If all entries are very negative, all exps\n",
        "underflow... and then log is -inf\n",
        "Failure modes:\n",
        "• If any entry is very large, exp overflows\n",
        "• If all entries are very negative, all exps\n",
        "underflow... and then log is -inf"
      ]
    },
    {
      "cell_type": "code",
      "metadata": {
        "colab": {
          "base_uri": "https://localhost:8080/"
        },
        "id": "ibPBO2pC3M3N",
        "outputId": "42f8592d-10eb-4314-cf05-4880b5e7e1ca"
      },
      "source": [
        "a = np.array([0,88]).astype('float32')\n",
        "np.log(np.sum(np.exp(a)))"
      ],
      "execution_count": 8,
      "outputs": [
        {
          "output_type": "execute_result",
          "data": {
            "text/plain": [
              "88.0"
            ]
          },
          "metadata": {},
          "execution_count": 8
        }
      ]
    },
    {
      "cell_type": "code",
      "metadata": {
        "colab": {
          "base_uri": "https://localhost:8080/"
        },
        "id": "4mKmSRbzBymk",
        "outputId": "b50f48d6-78ec-47a9-d1d7-50a391c65d48"
      },
      "source": [
        "a = np.array([ -100]).astype('float32')\n",
        "np.exp(a)"
      ],
      "execution_count": 9,
      "outputs": [
        {
          "output_type": "execute_result",
          "data": {
            "text/plain": [
              "array([3.8e-44], dtype=float32)"
            ]
          },
          "metadata": {},
          "execution_count": 9
        }
      ]
    },
    {
      "cell_type": "code",
      "metadata": {
        "id": "LolcgnhKMxvH",
        "outputId": "64401332-c5ba-4d04-fea3-1d3033362f8f",
        "colab": {
          "base_uri": "https://localhost:8080/"
        }
      },
      "source": [
        "np.log(np.sum(np.exp(a)))"
      ],
      "execution_count": 10,
      "outputs": [
        {
          "output_type": "execute_result",
          "data": {
            "text/plain": [
              "-99.98309"
            ]
          },
          "metadata": {},
          "execution_count": 10
        }
      ]
    },
    {
      "cell_type": "markdown",
      "metadata": {
        "id": "V1WzwJUzBymu"
      },
      "source": [
        "Stable version"
      ]
    },
    {
      "cell_type": "code",
      "metadata": {
        "colab": {
          "base_uri": "https://localhost:8080/"
        },
        "id": "2pBJa4AeBymv",
        "outputId": "b6c9d73a-159d-4115-c5fd-72be3b6e9d26"
      },
      "source": [
        "a = np.array([0,100]).astype('float32')\n",
        "mx=np.max(a)\n",
        "safe_array=a-mx\n",
        "log_sum_exp= mx + np.log(np.sum(np.exp(safe_array)))\n",
        "log_sum_exp"
      ],
      "execution_count": 11,
      "outputs": [
        {
          "output_type": "execute_result",
          "data": {
            "text/plain": [
              "100.0"
            ]
          },
          "metadata": {},
          "execution_count": 11
        }
      ]
    },
    {
      "cell_type": "markdown",
      "metadata": {
        "id": "GSw4fRoOBym1"
      },
      "source": [
        "Built in versions"
      ]
    },
    {
      "cell_type": "code",
      "metadata": {
        "colab": {
          "base_uri": "https://localhost:8080/"
        },
        "id": "PnPNWdQPBym2",
        "outputId": "add6682b-00a7-4d7f-f5bd-a7cf5d37c539"
      },
      "source": [
        "np.logaddexp.reduce(a)"
      ],
      "execution_count": 12,
      "outputs": [
        {
          "output_type": "execute_result",
          "data": {
            "text/plain": [
              "100.0"
            ]
          },
          "metadata": {},
          "execution_count": 12
        }
      ]
    },
    {
      "cell_type": "code",
      "metadata": {
        "colab": {
          "base_uri": "https://localhost:8080/"
        },
        "id": "btzXJFocBym5",
        "outputId": "beca404a-f9c9-4046-cc92-56e9a8970f0a"
      },
      "source": [
        "from scipy.special import logsumexp\n",
        "logsumexp(a)"
      ],
      "execution_count": 13,
      "outputs": [
        {
          "output_type": "execute_result",
          "data": {
            "text/plain": [
              "100.0"
            ]
          },
          "metadata": {},
          "execution_count": 13
        }
      ]
    },
    {
      "cell_type": "code",
      "metadata": {
        "id": "9nyjwNnYOuOP",
        "outputId": "fdd86586-d4df-43b0-8f81-899403f29e7a",
        "colab": {
          "base_uri": "https://localhost:8080/"
        }
      },
      "source": [
        "tf.reduce_logsumexp(a)"
      ],
      "execution_count": 14,
      "outputs": [
        {
          "output_type": "execute_result",
          "data": {
            "text/plain": [
              "<tf.Tensor: shape=(), dtype=float32, numpy=100.0>"
            ]
          },
          "metadata": {},
          "execution_count": 14
        }
      ]
    }
  ]
}