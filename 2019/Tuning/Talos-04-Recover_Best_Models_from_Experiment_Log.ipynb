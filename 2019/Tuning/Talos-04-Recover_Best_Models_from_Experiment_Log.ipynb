{
  "nbformat": 4,
  "nbformat_minor": 0,
  "metadata": {
    "kernelspec": {
      "name": "python3",
      "display_name": "Python 3"
    },
    "language_info": {
      "codemirror_mode": {
        "name": "ipython",
        "version": 3
      },
      "file_extension": ".py",
      "mimetype": "text/x-python",
      "name": "python",
      "nbconvert_exporter": "python",
      "pygments_lexer": "ipython3",
      "version": "3.6.8"
    },
    "colab": {
      "name": "Talos-04-Recover_Best_Models_from_Experiment_Log.ipynb",
      "provenance": []
    },
    "accelerator": "GPU"
  },
  "cells": [
    {
      "cell_type": "markdown",
      "metadata": {
        "id": "M66z4_m4cCb-",
        "colab_type": "text"
      },
      "source": [
        "<img src=https://raw.githubusercontent.com/autonomio/hyperio/master/logo.png>"
      ]
    },
    {
      "cell_type": "markdown",
      "metadata": {
        "id": "k0e4EGjmcCcH",
        "colab_type": "text"
      },
      "source": [
        "## How to recover best model from experiment log?\n",
        "Due to system error or other reason where scan_object is no longer available, it's still possible to get best model/s using nothing but the experiment log. In the below notebook you will learn exactly how.\n",
        "\n"
      ]
    },
    {
      "cell_type": "code",
      "metadata": {
        "id": "_ndPMojAibhQ",
        "colab_type": "code",
        "colab": {}
      },
      "source": [
        "##!pip install talos"
      ],
      "execution_count": 0,
      "outputs": []
    },
    {
      "cell_type": "code",
      "metadata": {
        "id": "fkBIR_GdvZe3",
        "colab_type": "code",
        "outputId": "50c37107-ada0-449f-866e-f0533585c8b0",
        "colab": {
          "base_uri": "https://localhost:8080/",
          "height": 684
        }
      },
      "source": [
        "!pip install git+https://github.com/autonomio/talos"
      ],
      "execution_count": 17,
      "outputs": [
        {
          "output_type": "stream",
          "text": [
            "Collecting git+https://github.com/autonomio/talos\n",
            "  Cloning https://github.com/autonomio/talos to /tmp/pip-req-build-gsk4l970\n",
            "  Running command git clone -q https://github.com/autonomio/talos /tmp/pip-req-build-gsk4l970\n",
            "Requirement already satisfied (use --upgrade to upgrade): talos==0.6.4 from git+https://github.com/autonomio/talos in /usr/local/lib/python3.6/dist-packages\n",
            "Requirement already satisfied: wrangle in /usr/local/lib/python3.6/dist-packages (from talos==0.6.4) (0.6.7)\n",
            "Requirement already satisfied: numpy in /usr/local/lib/python3.6/dist-packages (from talos==0.6.4) (1.17.3)\n",
            "Requirement already satisfied: pandas in /usr/local/lib/python3.6/dist-packages (from talos==0.6.4) (0.25.2)\n",
            "Requirement already satisfied: keras in /usr/local/lib/python3.6/dist-packages (from talos==0.6.4) (2.2.5)\n",
            "Requirement already satisfied: astetik in /usr/local/lib/python3.6/dist-packages (from talos==0.6.4) (1.9.9)\n",
            "Requirement already satisfied: sklearn in /usr/local/lib/python3.6/dist-packages (from talos==0.6.4) (0.0)\n",
            "Requirement already satisfied: tqdm in /usr/local/lib/python3.6/dist-packages (from talos==0.6.4) (4.28.1)\n",
            "Requirement already satisfied: chances in /usr/local/lib/python3.6/dist-packages (from talos==0.6.4) (0.1.9)\n",
            "Requirement already satisfied: kerasplotlib in /usr/local/lib/python3.6/dist-packages (from talos==0.6.4) (0.1.4)\n",
            "Requirement already satisfied: requests in /usr/local/lib/python3.6/dist-packages (from talos==0.6.4) (2.21.0)\n",
            "Requirement already satisfied: scipy==1.2 in /usr/local/lib/python3.6/dist-packages (from wrangle->talos==0.6.4) (1.2.0)\n",
            "Requirement already satisfied: statsmodels in /usr/local/lib/python3.6/dist-packages (from wrangle->talos==0.6.4) (0.10.1)\n",
            "Requirement already satisfied: pytz>=2017.2 in /usr/local/lib/python3.6/dist-packages (from pandas->talos==0.6.4) (2018.9)\n",
            "Requirement already satisfied: python-dateutil>=2.6.1 in /usr/local/lib/python3.6/dist-packages (from pandas->talos==0.6.4) (2.6.1)\n",
            "Requirement already satisfied: keras-applications>=1.0.8 in /usr/local/lib/python3.6/dist-packages (from keras->talos==0.6.4) (1.0.8)\n",
            "Requirement already satisfied: keras-preprocessing>=1.1.0 in /usr/local/lib/python3.6/dist-packages (from keras->talos==0.6.4) (1.1.0)\n",
            "Requirement already satisfied: pyyaml in /usr/local/lib/python3.6/dist-packages (from keras->talos==0.6.4) (3.13)\n",
            "Requirement already satisfied: six>=1.9.0 in /usr/local/lib/python3.6/dist-packages (from keras->talos==0.6.4) (1.12.0)\n",
            "Requirement already satisfied: h5py in /usr/local/lib/python3.6/dist-packages (from keras->talos==0.6.4) (2.8.0)\n",
            "Requirement already satisfied: geonamescache in /usr/local/lib/python3.6/dist-packages (from astetik->talos==0.6.4) (1.1.0)\n",
            "Requirement already satisfied: scikit-learn in /usr/local/lib/python3.6/dist-packages (from sklearn->talos==0.6.4) (0.21.3)\n",
            "Requirement already satisfied: chardet<3.1.0,>=3.0.2 in /usr/local/lib/python3.6/dist-packages (from requests->talos==0.6.4) (3.0.4)\n",
            "Requirement already satisfied: urllib3<1.25,>=1.21.1 in /usr/local/lib/python3.6/dist-packages (from requests->talos==0.6.4) (1.24.3)\n",
            "Requirement already satisfied: idna<2.9,>=2.5 in /usr/local/lib/python3.6/dist-packages (from requests->talos==0.6.4) (2.8)\n",
            "Requirement already satisfied: certifi>=2017.4.17 in /usr/local/lib/python3.6/dist-packages (from requests->talos==0.6.4) (2019.9.11)\n",
            "Requirement already satisfied: patsy>=0.4.0 in /usr/local/lib/python3.6/dist-packages (from statsmodels->wrangle->talos==0.6.4) (0.5.1)\n",
            "Requirement already satisfied: joblib>=0.11 in /usr/local/lib/python3.6/dist-packages (from scikit-learn->sklearn->talos==0.6.4) (0.14.0)\n",
            "Building wheels for collected packages: talos\n",
            "  Building wheel for talos (setup.py) ... \u001b[?25l\u001b[?25hdone\n",
            "  Created wheel for talos: filename=talos-0.6.4-cp36-none-any.whl size=53460 sha256=9d5e6c36024b39f1bdca65a5482573b28f027a2e97d51f1983273ccf281ddcb4\n",
            "  Stored in directory: /tmp/pip-ephem-wheel-cache-xjytnr18/wheels/20/f1/9a/63a4168fd779c183fcc5a8ebe6aa34f1f9bc33eaa558e5461b\n",
            "Successfully built talos\n"
          ],
          "name": "stdout"
        }
      ]
    },
    {
      "cell_type": "code",
      "metadata": {
        "id": "aU82jEJYrom6",
        "colab_type": "code",
        "colab": {}
      },
      "source": [
        "import keras\n",
        "keras.__version__\n",
        "import os"
      ],
      "execution_count": 0,
      "outputs": []
    },
    {
      "cell_type": "code",
      "metadata": {
        "id": "UW_Zg7ZrcCcN",
        "colab_type": "code",
        "colab": {}
      },
      "source": [
        "import sys\n",
        "sys.path.insert(0, './talos/')\n",
        "\n",
        "import sys\n",
        "sys.path.insert(0, './wrangle/')\n",
        "\n",
        "import talos\n",
        "import wrangle\n",
        "from keras.models import Sequential\n",
        "from keras.layers import Dense\n",
        "from keras.callbacks import EarlyStopping"
      ],
      "execution_count": 0,
      "outputs": []
    },
    {
      "cell_type": "markdown",
      "metadata": {
        "id": "ezpQUqIzcCcg",
        "colab_type": "text"
      },
      "source": [
        "First we'll have to perform the `Scan()` experiment to produce the experiment log. Because the experiment log is stored on local machine, interrupted `Scan()` or other reason will not affect its availability. The experiment log is updated after each permutation; it contains an up-to-date record of the experiment."
      ]
    },
    {
      "cell_type": "code",
      "metadata": {
        "id": "w9jijNR-cCcj",
        "colab_type": "code",
        "colab": {}
      },
      "source": [
        "# load the data\n",
        "x, y = talos.templates.datasets.iris()\n",
        "x_train, y_train, x_val, y_val = wrangle.array_split(x, y, .3)\n",
        "\n",
        "# set the parameter space boundary\n",
        "p = {'activation':['relu', 'elu'],\n",
        "     'optimizer': ['Nadam', 'Adam'],\n",
        "     'losses': ['logcosh'],\n",
        "     'shapes': ['brick'],\n",
        "     'first_neuron': [16, 32, 64, 128],\n",
        "     'hidden_layers':[0, 1, 2, 3],\n",
        "     'dropout': [.2, .3, .4],\n",
        "     'batch_size': [20, 30, 40, 50],\n",
        "     'epochs': [10]}\n",
        "\n",
        "# define the input model\n",
        "def iris_model(x_train, y_train, x_val, y_val, params):\n",
        "    print(\"\\nParams:\",params)\n",
        "    model = Sequential()\n",
        "    model.add(Dense(params['first_neuron'], input_dim=4, activation=params['activation']))\n",
        "\n",
        "    talos.utils.hidden_layers(model, params, 3)\n",
        "\n",
        "    model.add(Dense(3, activation='softmax'))\n",
        "    model.compile(optimizer=params['optimizer'], loss=params['losses'], metrics=['acc'])\n",
        "    # simple early stopping\n",
        "    es = EarlyStopping(monitor='val_loss', mode='min', verbose=1)\n",
        "    #out = model.fit(x_train, y_train, callbacks=[talos.utils.ExperimentLogCallback('minimal_iris', params),es],\n",
        "    #                 batch_size=params['batch_size'],\n",
        "    #                 epochs=params['epochs'],\n",
        "    #                 validation_data=[x_val, y_val],\n",
        "    #                 verbose=0)\n",
        "    out = model.fit(x_train, y_train, callbacks=[es],\n",
        "                     batch_size=params['batch_size'],\n",
        "                     epochs=params['epochs'],\n",
        "                     validation_data=[x_val, y_val],\n",
        "                     verbose=0)\n",
        "\n",
        "    return out, model\n"
      ],
      "execution_count": 0,
      "outputs": []
    },
    {
      "cell_type": "code",
      "metadata": {
        "id": "cEsDMLvHqlAf",
        "colab_type": "code",
        "colab": {
          "base_uri": "https://localhost:8080/",
          "height": 863
        },
        "outputId": "95228ed0-02bd-4e1f-c065-30621d2f19c0"
      },
      "source": [
        "# start the experiment\n",
        "scan_object = talos.Scan(x=x_train,\n",
        "                         y=y_train,\n",
        "                         x_val=x_val,\n",
        "                         y_val=y_val,\n",
        "                         model=iris_model,\n",
        "                         experiment_name='reactivate',\n",
        "                         params=p,\n",
        "                         round_limit=10)"
      ],
      "execution_count": 26,
      "outputs": [
        {
          "output_type": "stream",
          "text": [
            "\n",
            "\n",
            "  0%|          | 0/10 [00:00<?, ?it/s]\u001b[A\u001b[A"
          ],
          "name": "stderr"
        },
        {
          "output_type": "stream",
          "text": [
            "\n",
            "Params: {'activation': 'relu', 'batch_size': 50, 'dropout': 0.3, 'epochs': 10, 'first_neuron': 64, 'hidden_layers': 1, 'losses': 'logcosh', 'optimizer': 'Adam', 'shapes': 'brick'}\n"
          ],
          "name": "stdout"
        },
        {
          "output_type": "stream",
          "text": [
            "\n",
            "\n",
            " 10%|█         | 1/10 [00:03<00:34,  3.82s/it]\u001b[A\u001b[A"
          ],
          "name": "stderr"
        },
        {
          "output_type": "stream",
          "text": [
            "\n",
            "Params: {'activation': 'relu', 'batch_size': 20, 'dropout': 0.4, 'epochs': 10, 'first_neuron': 128, 'hidden_layers': 0, 'losses': 'logcosh', 'optimizer': 'Nadam', 'shapes': 'brick'}\n"
          ],
          "name": "stdout"
        },
        {
          "output_type": "stream",
          "text": [
            "\n",
            "\n",
            " 20%|██        | 2/10 [00:04<00:24,  3.00s/it]\u001b[A\u001b[A"
          ],
          "name": "stderr"
        },
        {
          "output_type": "stream",
          "text": [
            "\n",
            "Params: {'activation': 'elu', 'batch_size': 50, 'dropout': 0.4, 'epochs': 10, 'first_neuron': 64, 'hidden_layers': 3, 'losses': 'logcosh', 'optimizer': 'Adam', 'shapes': 'brick'}\n"
          ],
          "name": "stdout"
        },
        {
          "output_type": "stream",
          "text": [
            "\n",
            "\n",
            " 30%|███       | 3/10 [00:06<00:18,  2.59s/it]\u001b[A\u001b[A"
          ],
          "name": "stderr"
        },
        {
          "output_type": "stream",
          "text": [
            "\n",
            "Params: {'activation': 'relu', 'batch_size': 50, 'dropout': 0.3, 'epochs': 10, 'first_neuron': 64, 'hidden_layers': 0, 'losses': 'logcosh', 'optimizer': 'Nadam', 'shapes': 'brick'}\n",
            "Epoch 00008: early stopping\n"
          ],
          "name": "stdout"
        },
        {
          "output_type": "stream",
          "text": [
            "\n",
            "\n",
            " 40%|████      | 4/10 [00:07<00:12,  2.10s/it]\u001b[A\u001b[A"
          ],
          "name": "stderr"
        },
        {
          "output_type": "stream",
          "text": [
            "\n",
            "Params: {'activation': 'relu', 'batch_size': 30, 'dropout': 0.2, 'epochs': 10, 'first_neuron': 32, 'hidden_layers': 2, 'losses': 'logcosh', 'optimizer': 'Adam', 'shapes': 'brick'}\n"
          ],
          "name": "stdout"
        },
        {
          "output_type": "stream",
          "text": [
            "\n",
            "\n",
            " 50%|█████     | 5/10 [00:09<00:09,  1.94s/it]\u001b[A\u001b[A"
          ],
          "name": "stderr"
        },
        {
          "output_type": "stream",
          "text": [
            "\n",
            "Params: {'activation': 'elu', 'batch_size': 40, 'dropout': 0.3, 'epochs': 10, 'first_neuron': 32, 'hidden_layers': 3, 'losses': 'logcosh', 'optimizer': 'Nadam', 'shapes': 'brick'}\n",
            "Epoch 00006: early stopping\n"
          ],
          "name": "stdout"
        },
        {
          "output_type": "stream",
          "text": [
            "\n",
            "\n",
            " 60%|██████    | 6/10 [00:10<00:07,  1.86s/it]\u001b[A\u001b[A"
          ],
          "name": "stderr"
        },
        {
          "output_type": "stream",
          "text": [
            "\n",
            "Params: {'activation': 'elu', 'batch_size': 40, 'dropout': 0.2, 'epochs': 10, 'first_neuron': 32, 'hidden_layers': 1, 'losses': 'logcosh', 'optimizer': 'Adam', 'shapes': 'brick'}\n"
          ],
          "name": "stdout"
        },
        {
          "output_type": "stream",
          "text": [
            "\n",
            "\n",
            " 70%|███████   | 7/10 [00:11<00:04,  1.66s/it]\u001b[A\u001b[A"
          ],
          "name": "stderr"
        },
        {
          "output_type": "stream",
          "text": [
            "\n",
            "Params: {'activation': 'relu', 'batch_size': 30, 'dropout': 0.4, 'epochs': 10, 'first_neuron': 32, 'hidden_layers': 3, 'losses': 'logcosh', 'optimizer': 'Nadam', 'shapes': 'brick'}\n"
          ],
          "name": "stdout"
        },
        {
          "output_type": "stream",
          "text": [
            "\n",
            "\n",
            " 80%|████████  | 8/10 [00:13<00:03,  1.72s/it]\u001b[A\u001b[A"
          ],
          "name": "stderr"
        },
        {
          "output_type": "stream",
          "text": [
            "\n",
            "Params: {'activation': 'elu', 'batch_size': 20, 'dropout': 0.2, 'epochs': 10, 'first_neuron': 128, 'hidden_layers': 3, 'losses': 'logcosh', 'optimizer': 'Adam', 'shapes': 'brick'}\n"
          ],
          "name": "stdout"
        },
        {
          "output_type": "stream",
          "text": [
            "\n",
            "\n",
            " 90%|█████████ | 9/10 [00:15<00:01,  1.78s/it]\u001b[A\u001b[A"
          ],
          "name": "stderr"
        },
        {
          "output_type": "stream",
          "text": [
            "\n",
            "Params: {'activation': 'relu', 'batch_size': 30, 'dropout': 0.2, 'epochs': 10, 'first_neuron': 32, 'hidden_layers': 3, 'losses': 'logcosh', 'optimizer': 'Adam', 'shapes': 'brick'}\n"
          ],
          "name": "stdout"
        },
        {
          "output_type": "stream",
          "text": [
            "\n",
            "\n",
            "100%|██████████| 10/10 [00:17<00:00,  1.77s/it]\u001b[A\u001b[A\n",
            "\n",
            "\u001b[A\u001b[A"
          ],
          "name": "stderr"
        }
      ]
    },
    {
      "cell_type": "markdown",
      "metadata": {
        "id": "3K9f8LjlcCcw",
        "colab_type": "text"
      },
      "source": [
        "Now we can assume the case where we no longer have access to the `scan_object`. In this `Scan(...experiment_name...)` was set to \"reactivate\" so we'll find a folder with that name in the present working directory. Next we have to find out what is the name of the experiment log."
      ]
    },
    {
      "cell_type": "code",
      "metadata": {
        "id": "96Emjpp_cCc0",
        "colab_type": "code",
        "colab": {
          "base_uri": "https://localhost:8080/",
          "height": 215
        },
        "outputId": "9b6e2825-3be3-4a86-cd05-5a9466f395c4"
      },
      "source": [
        "# get the name of the experiment log\n",
        "!ls -lhtr reactivate"
      ],
      "execution_count": 27,
      "outputs": [
        {
          "output_type": "stream",
          "text": [
            "total 12K\n",
            "-rw-r--r-- 1 root root    0 Oct 26 10:09 102619100917.csv\n",
            "-rw-r--r-- 1 root root    0 Oct 26 10:11 102619101134.csv\n",
            "-rw-r--r-- 1 root root    0 Oct 26 10:12 102619101222.csv\n",
            "-rw-r--r-- 1 root root    0 Oct 26 10:44 102619104409.csv\n",
            "-rw-r--r-- 1 root root    0 Oct 26 10:44 102619104429.csv\n",
            "-rw-r--r-- 1 root root 1.4K Oct 26 11:00 102619105948.csv\n",
            "-rw-r--r-- 1 root root 1.3K Oct 26 11:06 102619110642.csv\n",
            "-rw-r--r-- 1 root root    0 Oct 26 11:16 102619111611.csv\n",
            "-rw-r--r-- 1 root root    0 Oct 26 11:18 102619111848.csv\n",
            "-rw-r--r-- 1 root root 1.3K Oct 26 11:20 102619111951.csv\n"
          ],
          "name": "stdout"
        }
      ]
    },
    {
      "cell_type": "markdown",
      "metadata": {
        "id": "GZlztHC8cCc_",
        "colab_type": "text"
      },
      "source": [
        "In this case it will be the most recent one so let's go ahead and recover the best models."
      ]
    },
    {
      "cell_type": "code",
      "metadata": {
        "id": "oFx295HqcCdD",
        "colab_type": "code",
        "colab": {
          "base_uri": "https://localhost:8080/",
          "height": 253
        },
        "outputId": "22e29334-6980-423d-a900-b898dd716515"
      },
      "source": [
        "from talos.utils.recover_best_model import recover_best_model\n",
        "results, models = recover_best_model(x_train=x_train,\n",
        "                                     y_train=y_train,\n",
        "                                     x_val=x_val,\n",
        "                                     y_val=y_val,\n",
        "                                     experiment_log='reactivate/102619111951.csv',\n",
        "                                     input_model=iris_model,\n",
        "                                     n_models=5,\n",
        "                                     task='multi_label')"
      ],
      "execution_count": 32,
      "outputs": [
        {
          "output_type": "stream",
          "text": [
            "\n",
            "Params: {'round_epochs': 8, 'val_loss': 0.06707238405942917, 'loss': 0.06938264625413078, 'acc': 0.6571428640967324, 'activation': 'relu', 'batch_size': 50, 'dropout': 0.3, 'epochs': 10, 'first_neuron': 64, 'hidden_layers': 0, 'losses': 'logcosh', 'optimizer': 'Nadam', 'shapes': 'brick'}\n",
            "\n",
            "Params: {'round_epochs': 10, 'val_loss': 0.002698742396508654, 'loss': 0.026778477288427808, 'acc': 0.9047618962469556, 'activation': 'elu', 'batch_size': 20, 'dropout': 0.2, 'epochs': 10, 'first_neuron': 128, 'hidden_layers': 3, 'losses': 'logcosh', 'optimizer': 'Adam', 'shapes': 'brick'}\n",
            "Epoch 00009: early stopping\n",
            "\n",
            "Params: {'round_epochs': 10, 'val_loss': 0.08850399404764175, 'loss': 0.0969679281115532, 'acc': 0.5428571445601327, 'activation': 'relu', 'batch_size': 30, 'dropout': 0.2, 'epochs': 10, 'first_neuron': 32, 'hidden_layers': 3, 'losses': 'logcosh', 'optimizer': 'Adam', 'shapes': 'brick'}\n",
            "\n",
            "Params: {'round_epochs': 10, 'val_loss': 0.07756999135017395, 'loss': 0.1005504833800452, 'acc': 0.4476190507411957, 'activation': 'relu', 'batch_size': 50, 'dropout': 0.3, 'epochs': 10, 'first_neuron': 64, 'hidden_layers': 1, 'losses': 'logcosh', 'optimizer': 'Adam', 'shapes': 'brick'}\n",
            "\n",
            "Params: {'round_epochs': 10, 'val_loss': 0.05170438066124916, 'loss': 0.08000737996328444, 'acc': 0.6190476055656161, 'activation': 'elu', 'batch_size': 50, 'dropout': 0.4, 'epochs': 10, 'first_neuron': 64, 'hidden_layers': 3, 'losses': 'logcosh', 'optimizer': 'Adam', 'shapes': 'brick'}\n",
            "Epoch 00002: early stopping\n"
          ],
          "name": "stdout"
        }
      ]
    },
    {
      "cell_type": "markdown",
      "metadata": {
        "id": "1wbhkaj-cCdP",
        "colab_type": "text"
      },
      "source": [
        "Now we can access the cross-validation results:"
      ]
    },
    {
      "cell_type": "code",
      "metadata": {
        "id": "UYPYOfyncCdR",
        "colab_type": "code",
        "colab": {
          "base_uri": "https://localhost:8080/",
          "height": 226
        },
        "outputId": "36d4afe9-c79f-4929-bd94-a243b90fa35a"
      },
      "source": [
        "results"
      ],
      "execution_count": 33,
      "outputs": [
        {
          "output_type": "execute_result",
          "data": {
            "text/html": [
              "<div>\n",
              "<style scoped>\n",
              "    .dataframe tbody tr th:only-of-type {\n",
              "        vertical-align: middle;\n",
              "    }\n",
              "\n",
              "    .dataframe tbody tr th {\n",
              "        vertical-align: top;\n",
              "    }\n",
              "\n",
              "    .dataframe thead th {\n",
              "        text-align: right;\n",
              "    }\n",
              "</style>\n",
              "<table border=\"1\" class=\"dataframe\">\n",
              "  <thead>\n",
              "    <tr style=\"text-align: right;\">\n",
              "      <th></th>\n",
              "      <th>round_epochs</th>\n",
              "      <th>val_loss</th>\n",
              "      <th>val_acc</th>\n",
              "      <th>loss</th>\n",
              "      <th>acc</th>\n",
              "      <th>activation</th>\n",
              "      <th>batch_size</th>\n",
              "      <th>dropout</th>\n",
              "      <th>epochs</th>\n",
              "      <th>first_neuron</th>\n",
              "      <th>hidden_layers</th>\n",
              "      <th>losses</th>\n",
              "      <th>optimizer</th>\n",
              "      <th>shapes</th>\n",
              "      <th>crossval_mean_f1score</th>\n",
              "    </tr>\n",
              "  </thead>\n",
              "  <tbody>\n",
              "    <tr>\n",
              "      <th>3</th>\n",
              "      <td>8</td>\n",
              "      <td>0.067072</td>\n",
              "      <td>1.000000</td>\n",
              "      <td>0.069383</td>\n",
              "      <td>0.657143</td>\n",
              "      <td>relu</td>\n",
              "      <td>50</td>\n",
              "      <td>0.3</td>\n",
              "      <td>10</td>\n",
              "      <td>64</td>\n",
              "      <td>0</td>\n",
              "      <td>logcosh</td>\n",
              "      <td>Nadam</td>\n",
              "      <td>brick</td>\n",
              "      <td>0.570707</td>\n",
              "    </tr>\n",
              "    <tr>\n",
              "      <th>8</th>\n",
              "      <td>10</td>\n",
              "      <td>0.002699</td>\n",
              "      <td>1.000000</td>\n",
              "      <td>0.026778</td>\n",
              "      <td>0.904762</td>\n",
              "      <td>elu</td>\n",
              "      <td>20</td>\n",
              "      <td>0.2</td>\n",
              "      <td>10</td>\n",
              "      <td>128</td>\n",
              "      <td>3</td>\n",
              "      <td>logcosh</td>\n",
              "      <td>Adam</td>\n",
              "      <td>brick</td>\n",
              "      <td>0.872755</td>\n",
              "    </tr>\n",
              "    <tr>\n",
              "      <th>9</th>\n",
              "      <td>10</td>\n",
              "      <td>0.088504</td>\n",
              "      <td>0.711111</td>\n",
              "      <td>0.096968</td>\n",
              "      <td>0.542857</td>\n",
              "      <td>relu</td>\n",
              "      <td>30</td>\n",
              "      <td>0.2</td>\n",
              "      <td>10</td>\n",
              "      <td>32</td>\n",
              "      <td>3</td>\n",
              "      <td>logcosh</td>\n",
              "      <td>Adam</td>\n",
              "      <td>brick</td>\n",
              "      <td>0.519192</td>\n",
              "    </tr>\n",
              "    <tr>\n",
              "      <th>0</th>\n",
              "      <td>10</td>\n",
              "      <td>0.077570</td>\n",
              "      <td>0.688889</td>\n",
              "      <td>0.100550</td>\n",
              "      <td>0.447619</td>\n",
              "      <td>relu</td>\n",
              "      <td>50</td>\n",
              "      <td>0.3</td>\n",
              "      <td>10</td>\n",
              "      <td>64</td>\n",
              "      <td>1</td>\n",
              "      <td>logcosh</td>\n",
              "      <td>Adam</td>\n",
              "      <td>brick</td>\n",
              "      <td>0.698538</td>\n",
              "    </tr>\n",
              "    <tr>\n",
              "      <th>2</th>\n",
              "      <td>10</td>\n",
              "      <td>0.051704</td>\n",
              "      <td>0.688889</td>\n",
              "      <td>0.080007</td>\n",
              "      <td>0.619048</td>\n",
              "      <td>elu</td>\n",
              "      <td>50</td>\n",
              "      <td>0.4</td>\n",
              "      <td>10</td>\n",
              "      <td>64</td>\n",
              "      <td>3</td>\n",
              "      <td>logcosh</td>\n",
              "      <td>Adam</td>\n",
              "      <td>brick</td>\n",
              "      <td>0.157642</td>\n",
              "    </tr>\n",
              "  </tbody>\n",
              "</table>\n",
              "</div>"
            ],
            "text/plain": [
              "   round_epochs  val_loss   val_acc  ...  optimizer  shapes crossval_mean_f1score\n",
              "3             8  0.067072  1.000000  ...      Nadam   brick              0.570707\n",
              "8            10  0.002699  1.000000  ...       Adam   brick              0.872755\n",
              "9            10  0.088504  0.711111  ...       Adam   brick              0.519192\n",
              "0            10  0.077570  0.688889  ...       Adam   brick              0.698538\n",
              "2            10  0.051704  0.688889  ...       Adam   brick              0.157642\n",
              "\n",
              "[5 rows x 15 columns]"
            ]
          },
          "metadata": {
            "tags": []
          },
          "execution_count": 33
        }
      ]
    },
    {
      "cell_type": "markdown",
      "metadata": {
        "id": "y_qL8diJcCdj",
        "colab_type": "text"
      },
      "source": [
        "We can also access the models and make predictions with them:"
      ]
    },
    {
      "cell_type": "code",
      "metadata": {
        "id": "D2u96gA9cCdn",
        "colab_type": "code",
        "colab": {
          "base_uri": "https://localhost:8080/",
          "height": 826
        },
        "outputId": "3b388b6f-cf5c-494f-b059-2574c4246e2b"
      },
      "source": [
        "models[0].predict(x_val)"
      ],
      "execution_count": 30,
      "outputs": [
        {
          "output_type": "execute_result",
          "data": {
            "text/plain": [
              "array([[0.04286824, 0.43803665, 0.5190951 ],\n",
              "       [0.83532643, 0.12342866, 0.04124486],\n",
              "       [0.06288624, 0.4523648 , 0.48474896],\n",
              "       [0.0801563 , 0.46524096, 0.45460275],\n",
              "       [0.11095096, 0.49887037, 0.39017868],\n",
              "       [0.0645155 , 0.46935022, 0.46613425],\n",
              "       [0.17285007, 0.49693844, 0.3302115 ],\n",
              "       [0.7595359 , 0.17704529, 0.06341884],\n",
              "       [0.11147946, 0.5208024 , 0.36771816],\n",
              "       [0.12562305, 0.50102574, 0.3733512 ],\n",
              "       [0.05610342, 0.5033231 , 0.4405735 ],\n",
              "       [0.04560551, 0.4476945 , 0.5067    ],\n",
              "       [0.0415327 , 0.4665454 , 0.49192187],\n",
              "       [0.81658334, 0.13574529, 0.04767134],\n",
              "       [0.84850895, 0.11308668, 0.03840438],\n",
              "       [0.02503254, 0.44279793, 0.5321696 ],\n",
              "       [0.03638352, 0.4849997 , 0.47861683],\n",
              "       [0.14421396, 0.5347575 , 0.32102856],\n",
              "       [0.10008337, 0.52583647, 0.3740802 ],\n",
              "       [0.15797704, 0.5135887 , 0.32843426],\n",
              "       [0.06786589, 0.49733654, 0.43479759],\n",
              "       [0.03038298, 0.4539205 , 0.5156965 ],\n",
              "       [0.05484254, 0.46759036, 0.47756702],\n",
              "       [0.8172202 , 0.13377896, 0.04900082],\n",
              "       [0.12871975, 0.50107616, 0.37020406],\n",
              "       [0.07700349, 0.45531645, 0.46768013],\n",
              "       [0.76728094, 0.16936295, 0.06335606],\n",
              "       [0.13359562, 0.47793102, 0.38847333],\n",
              "       [0.06288624, 0.4523648 , 0.48474896],\n",
              "       [0.03297254, 0.47064102, 0.49638638],\n",
              "       [0.12040085, 0.48641354, 0.39318562],\n",
              "       [0.83132195, 0.12604912, 0.04262892],\n",
              "       [0.01466265, 0.4060945 , 0.5792429 ],\n",
              "       [0.88397837, 0.087758  , 0.02826362],\n",
              "       [0.79992694, 0.14539608, 0.05467694],\n",
              "       [0.17751804, 0.50451434, 0.31796765],\n",
              "       [0.8175008 , 0.13492431, 0.04757487],\n",
              "       [0.04455932, 0.4428957 , 0.512545  ],\n",
              "       [0.7937341 , 0.15346363, 0.05280231],\n",
              "       [0.07355097, 0.48828572, 0.43816334],\n",
              "       [0.74499744, 0.18410002, 0.07090245],\n",
              "       [0.8540586 , 0.11050015, 0.03544123],\n",
              "       [0.18488674, 0.48417825, 0.33093497],\n",
              "       [0.12879513, 0.5260974 , 0.34510738],\n",
              "       [0.15441339, 0.50679   , 0.3387966 ]], dtype=float32)"
            ]
          },
          "metadata": {
            "tags": []
          },
          "execution_count": 30
        }
      ]
    }
  ]
}