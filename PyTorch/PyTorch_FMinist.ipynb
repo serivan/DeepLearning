{
  "nbformat": 4,
  "nbformat_minor": 0,
  "metadata": {
    "colab": {
      "provenance": [],
      "gpuType": "T4"
    },
    "kernelspec": {
      "name": "python3",
      "display_name": "Python 3"
    },
    "language_info": {
      "name": "python"
    },
    "accelerator": "GPU"
  },
  "cells": [
    {
      "cell_type": "markdown",
      "source": [
        "# PyTorch Framework\n",
        "\n",
        "In this homework we will show the basic\n",
        "\n",
        "<br><br>\n",
        "*References*: <br>\n",
        "<a href=\"https://pytorch.org/docs/stable/\">PyTorch documentation</a> <br>\n"
      ],
      "metadata": {
        "id": "wrnqIPBufu1Y"
      }
    },
    {
      "cell_type": "markdown",
      "source": [
        "**Loading the dataset** <br>\n",
        "\n",
        "*References*: <br>\n",
        "<a href=\"https://pytorch.org/vision/stable/index.html\">Torchvision</a><br>\n",
        "<a href=\"https://github.com/zalandoresearch/fashion-mnist\">FashionMNIST</a><br>\n",
        "<a href=\"https://pytorch.org/docs/stable/data.html\">DataLoader</a>"
      ],
      "metadata": {
        "id": "nZ-OMgJEf3by"
      }
    },
    {
      "cell_type": "code",
      "execution_count": null,
      "metadata": {
        "colab": {
          "base_uri": "https://localhost:8080/"
        },
        "id": "QV_Xd29BfsJt",
        "outputId": "b9c576ff-9780-445e-b1ca-dc0bc3e130c9"
      },
      "outputs": [
        {
          "output_type": "execute_result",
          "data": {
            "text/plain": [
              "Dataset FashionMNIST\n",
              "    Number of datapoints: 60000\n",
              "    Root location: ./data\n",
              "    Split: Train\n",
              "    StandardTransform\n",
              "Transform: Compose(\n",
              "               ToTensor()\n",
              "           )"
            ]
          },
          "metadata": {},
          "execution_count": 1
        }
      ],
      "source": [
        "from torch.utils.data import DataLoader\n",
        "from torchvision.datasets import FashionMNIST\n",
        "import torchvision.transforms as transforms\n",
        "import torch\n",
        "\n",
        "train_set = FashionMNIST(\"./data\",\n",
        "                         download=True,\n",
        "                         train=True,\n",
        "                         transform=transforms.Compose([transforms.ToTensor()]))\n",
        "\n",
        "test_set = FashionMNIST(\"./data\",\n",
        "                        download=True,\n",
        "                        train=False,\n",
        "                        transform=transforms.Compose([transforms.ToTensor()]))\n",
        "\n",
        "\n",
        "BATCH_SIZE = 100\n",
        "\n",
        "train_loader = DataLoader(train_set, batch_size=BATCH_SIZE)\n",
        "test_loader = DataLoader(test_set, batch_size=BATCH_SIZE)\n",
        "\n",
        "train_set"
      ]
    },
    {
      "cell_type": "code",
      "source": [
        "import matplotlib.pyplot as plt\n",
        "\n",
        "def output_label(label):\n",
        "    output_mapping = {\n",
        "        0: \"T-shirt/Top\",\n",
        "        1: \"Trouser\",\n",
        "        2: \"Pullover\",\n",
        "        3: \"Dress\",\n",
        "        4: \"Coat\",\n",
        "        5: \"Sandal\",\n",
        "        6: \"Shirt\",\n",
        "        7: \"Sneaker\",\n",
        "        8: \"Bag\",\n",
        "        9: \"Ankle Boot\"\n",
        "    }\n",
        "    input = (label.item() if type(label) == torch.Tensor else label)\n",
        "    return output_mapping[input]\n",
        "\n",
        "\n",
        "a = next(iter(train_loader))\n",
        "print(\"Tensor size: (batch_size, n_channels, dim, dim)\")\n",
        "print(a[0].size())\n",
        "print()\n",
        "\n",
        "image, label = next(iter(train_set))\n",
        "\n",
        "plt.figure()\n",
        "plt.title(f\"Label: {output_label(label)}\")\n",
        "plt.imshow(image.squeeze(), cmap=\"gray\")\n",
        "plt.show()"
      ],
      "metadata": {
        "colab": {
          "base_uri": "https://localhost:8080/",
          "height": 504
        },
        "id": "Va6y59XHgZlR",
        "outputId": "9551903a-57d0-426d-f4ad-dae3e2376950"
      },
      "execution_count": null,
      "outputs": [
        {
          "output_type": "stream",
          "name": "stdout",
          "text": [
            "Tensor size: (batch_size, n_channels, dim, dim)\n",
            "torch.Size([100, 1, 28, 28])\n",
            "\n"
          ]
        },
        {
          "output_type": "display_data",
          "data": {
            "text/plain": [
              "<Figure size 640x480 with 1 Axes>"
            ],
            "image/png": "[encoded data removed]"
          },
          "metadata": {}
        }
      ]
    },
    {
      "cell_type": "code",
      "source": [
        "# Extrapolate the datasets dimensions.\n",
        "\n",
        "IMAGE_CHANNELS = image.size(0)\n",
        "IMAGE_DIM = image.size(1)\n",
        "NUM_LABELS = 10"
      ],
      "metadata": {
        "id": "WkWLbDc1F__d"
      },
      "execution_count": null,
      "outputs": []
    },
    {
      "cell_type": "markdown",
      "source": [
        "**Feed Forward Model**\n",
        "\n",
        "*References*:<br>\n",
        "<a href=\"https://pytorch.org/docs/stable/nn.html\">torch.nn</a><br>\n",
        "<a href=\"https://pytorch.org/docs/stable/generated/torch.Tensor.view.html\">torch.view()</a>"
      ],
      "metadata": {
        "id": "-qWY4Tf8hkSX"
      }
    },
    {
      "cell_type": "code",
      "source": [
        "import torch.nn as nn\n",
        "\n",
        "# Define custom Neural Network Module.\n",
        "# MANDATORY to define define the __init__ method (the Python custructor) and the forward() pass method.\n",
        "class FashionFF(nn.Module):\n",
        "\n",
        "    # Class constructor. Here we define the layers of our network.\n",
        "    def __init__(self, image_dim, image_channels, num_labels):\n",
        "        super(FashionFF, self).__init__()\n",
        "\n",
        "        # The input MUST be an array with size 784 (NOT a matrix 1x28x28)\n",
        "        self.linear1 = nn.Linear(image_channels*image_dim*image_dim, 16)\n",
        "        self.linear2 = nn.Linear(16, 40)\n",
        "        self.linear3 = nn.Linear(40, 80)\n",
        "        self.linear4 = nn.Linear(80, num_labels)\n",
        "        self.dropout = nn.Dropout(0.25)\n",
        "\n",
        "    # Forward pass. Here we define how the layers are concatenated.\n",
        "    # We can use all type of operation (complex pytorch functions like torch.cat or simple +,-,*,/ operations).\n",
        "    def forward(self, images):\n",
        "\n",
        "        # IMPORTANT: remember the size: (batch_size, num_channels, dim, dim)\n",
        "        # So we want to transform the 100 images 1x28x28 in 100 arrays with length 784.\n",
        "        # The view() function perform a reshape over the Tensor.\n",
        "        # With images.size(0), we tell the method to preserve the first dimension,\n",
        "        # and with -1 we tell the method to inferr the second dimension from the others remained in the input tensor (and so 1x28x28 = 784)\n",
        "        images = images.view(images.size(0), -1)\n",
        "\n",
        "        x = self.linear1(images)\n",
        "        x = self.linear2(self.dropout(x))\n",
        "        x = self.linear3(self.dropout(x))\n",
        "        x = self.linear4(self.dropout(x))\n",
        "\n",
        "        return x"
      ],
      "metadata": {
        "id": "IFNuKdqhhjTt"
      },
      "execution_count": null,
      "outputs": []
    },
    {
      "cell_type": "code",
      "source": [
        "class FashionCNN(nn.Module):\n",
        "\n",
        "    def __init__(self, images_channels, num_labels):\n",
        "        super(FashionCNN, self).__init__()\n",
        "\n",
        "        # In the Sequential container we define a series of chained layer executed in order (like the Sequential keras block).\n",
        "        # In this case we regroup all the operatorions for a Convolutional Block.\n",
        "        # This is completely optional. You can stack layers upon layers as in Feed-Forward networks.\n",
        "\n",
        "        self.layer1 = nn.Sequential(\n",
        "            nn.Conv2d(in_channels=images_channels, out_channels=32, kernel_size=3, padding=1),\n",
        "            nn.BatchNorm2d(32),\n",
        "            nn.ReLU(),\n",
        "            nn.MaxPool2d(kernel_size=2, stride=2)\n",
        "        )\n",
        "\n",
        "        self.layer2 = nn.Sequential(\n",
        "            nn.Conv2d(in_channels=32, out_channels=64, kernel_size=3),\n",
        "            nn.BatchNorm2d(64),\n",
        "            nn.ReLU(),\n",
        "            nn.MaxPool2d(2)\n",
        "        )\n",
        "\n",
        "        # The Sequential container is quick to code (no forward pass definition required) and the code is clearer to read, interpret and modify.\n",
        "        # But it has three major disadvantages:\n",
        "        # 1) You cannot edit the forward pass;\n",
        "        # 2) You cannot use useful function like \"view()\": you have to define a nn.Module that recreates the operation;\n",
        "        # 3) There is less control. For instance, you cannot debug inside the container (i.e. if you have incorrectly entered the size of a layer).\n",
        "\n",
        "        # As done for the FF network we flatten the matrix returned by the second Convolutional Block.\n",
        "        # How we derive 64x6x6 ?\n",
        "        # With the CNN theory of course, but a pratical way would be adding a print(out.shape) in our forward pass after the call to the second Sequential block.\n",
        "        self.fc1 = nn.Linear(in_features=64 * 6 * 6, out_features=600)\n",
        "\n",
        "        self.drop = nn.Dropout(0.25)\n",
        "        self.fc2 = nn.Linear(in_features=600, out_features=120)\n",
        "        self.fc3 = nn.Linear(in_features=120, out_features=num_labels)\n",
        "\n",
        "    def forward(self, x):\n",
        "        out = self.layer1(x)\n",
        "        out = self.layer2(out)\n",
        "        out = out.view(out.size(0), -1)\n",
        "        out = self.fc1(out)\n",
        "        out = self.drop(out)\n",
        "        out = self.fc2(out)\n",
        "        out = self.fc3(out)\n",
        "\n",
        "        return out"
      ],
      "metadata": {
        "id": "Tr-vay15iaGh"
      },
      "execution_count": null,
      "outputs": []
    },
    {
      "cell_type": "markdown",
      "source": [
        "**Define Training Function**\n",
        "\n",
        "*We define only a trining loop for both networks.* <br>\n",
        "*This can be useful: less code to write.*"
      ],
      "metadata": {
        "id": "dyO46cvtEAtg"
      }
    },
    {
      "cell_type": "code",
      "source": [
        "from sklearn.metrics import accuracy_score\n",
        "from torch.cuda.amp import autocast, GradScaler\n",
        "from tqdm import tqdm\n",
        "\n",
        "def train_model(model, num_epochs, train_loader, test_loader, criterion, optimizer, scaler, device):\n",
        "\n",
        "    # Looping through epochs.\n",
        "    for epoch in tqdm(range(num_epochs)):\n",
        "\n",
        "        # Set the model in \"train mode\" (i.e. dropout layer active)\n",
        "        model.train()\n",
        "\n",
        "        ep_loss = 0\n",
        "        for images, labels in train_loader:\n",
        "\n",
        "            # Initializing a gradient as 0 so there is no mixing of gradient among the batches\n",
        "            optimizer.zero_grad()\n",
        "\n",
        "            # To GPU (if available)\n",
        "            images, labels = images.to(device), labels.to(device)\n",
        "\n",
        "            # Forward pass\n",
        "            with autocast():\n",
        "                outputs = model(images)\n",
        "                loss = criterion(outputs, labels)\n",
        "\n",
        "            ep_loss += loss.item()\n",
        "\n",
        "            # Backpropagation\n",
        "            scaler.scale(loss).backward()\n",
        "\n",
        "            # Parameters update.\n",
        "            scaler.step(optimizer)\n",
        "            scaler.update()\n",
        "\n",
        "\n",
        "        # Testing the model\n",
        "\n",
        "        # Set the model in \"test mode\" (i.e. dropout layer deactivated)\n",
        "        model.eval()\n",
        "\n",
        "        test_labels = []\n",
        "        predictions = []\n",
        "\n",
        "        for images, labels in test_loader:\n",
        "            images = images.to(device)\n",
        "\n",
        "            # Disable gradient calculation to reduce memory consumption (we do not need gradient in prediction)\n",
        "            with torch.no_grad():\n",
        "                outputs = model(images)\n",
        "\n",
        "            predictions += outputs.argmax(dim=-1).cpu().numpy().tolist()\n",
        "            test_labels += labels.cpu().numpy().tolist()\n",
        "\n",
        "        # Log Metrics.\n",
        "        print(f\"\\tEpoch: {epoch+1}, Loss: {round(ep_loss/len(train_loader), 4)}, Accuracy: {round(accuracy_score(test_labels, predictions)*100, 2)}%\")\n",
        "\n",
        "    return model\n"
      ],
      "metadata": {
        "id": "d152GB43q1zx"
      },
      "execution_count": null,
      "outputs": []
    },
    {
      "cell_type": "markdown",
      "source": [
        "**Define Hyperparameters and Training Tools** <br><br>\n",
        "\n",
        "*Reference*: <br>\n",
        "<a href=\"https://pytorch.org/docs/stable/nn.html#loss-functions\">Loss Functions</a><br>\n",
        "<a href=\"https://pytorch.org/docs/stable/optim.html\">Optimizer</a><br>\n",
        "<a href=\"https://pytorch.org/docs/stable/amp.html#gradient-scaling\">Gradient Scaler</a>\n"
      ],
      "metadata": {
        "id": "Oou0hOcD4Szm"
      }
    },
    {
      "cell_type": "code",
      "source": [
        "from  torch.optim import AdamW\n",
        "\n",
        "# Define the torch device. REMEMBER to activate the GPU in the Runtime > Change type of Runtime settings.\n",
        "device = torch.device('cuda' if torch.cuda.is_available() else 'cpu')\n",
        "print(f\"Device: {device}\")\n",
        "\n",
        "model = FashionFF(IMAGE_DIM, IMAGE_CHANNELS, NUM_LABELS).to(device)\n",
        "\n",
        "criterion = nn.CrossEntropyLoss()\n",
        "\n",
        "learning_rate = 0.001\n",
        "optimizer = AdamW(model.parameters(), lr=learning_rate)\n",
        "scaler = GradScaler()\n",
        "\n",
        "num_epochs = 10\n",
        "\n",
        "# Lunch again train_model with tuned_ff to continue the training from the 11th epoch.\n",
        "tuned_ff = train_model(model, num_epochs, train_loader, test_loader, criterion, optimizer, scaler, device)"
      ],
      "metadata": {
        "colab": {
          "base_uri": "https://localhost:8080/"
        },
        "id": "GwQcotbwxPFu",
        "outputId": "c88eeb7c-2c45-430d-d0e1-d798141f4e82"
      },
      "execution_count": null,
      "outputs": [
        {
          "output_type": "stream",
          "name": "stdout",
          "text": [
            "Device: cuda\n"
          ]
        },
        {
          "output_type": "stream",
          "name": "stderr",
          "text": [
            " 10%|█         | 1/10 [00:18<02:44, 18.27s/it]"
          ]
        },
        {
          "output_type": "stream",
          "name": "stdout",
          "text": [
            "\tEpoch: 1, Loss: 0.8134, Accuracy: 80.55%\n"
          ]
        },
        {
          "output_type": "stream",
          "name": "stderr",
          "text": [
            "\r 20%|██        | 2/10 [00:27<01:41, 12.66s/it]"
          ]
        },
        {
          "output_type": "stream",
          "name": "stdout",
          "text": [
            "\tEpoch: 2, Loss: 0.6084, Accuracy: 81.69%\n"
          ]
        },
        {
          "output_type": "stream",
          "name": "stderr",
          "text": [
            "\r 30%|███       | 3/10 [00:35<01:15, 10.73s/it]"
          ]
        },
        {
          "output_type": "stream",
          "name": "stdout",
          "text": [
            "\tEpoch: 3, Loss: 0.5771, Accuracy: 82.59%\n"
          ]
        },
        {
          "output_type": "stream",
          "name": "stderr",
          "text": [
            "\r 40%|████      | 4/10 [00:43<00:58,  9.82s/it]"
          ]
        },
        {
          "output_type": "stream",
          "name": "stdout",
          "text": [
            "\tEpoch: 4, Loss: 0.5613, Accuracy: 82.86%\n"
          ]
        },
        {
          "output_type": "stream",
          "name": "stderr",
          "text": [
            "\r 50%|█████     | 5/10 [00:52<00:47,  9.41s/it]"
          ]
        },
        {
          "output_type": "stream",
          "name": "stdout",
          "text": [
            "\tEpoch: 5, Loss: 0.5436, Accuracy: 83.19%\n"
          ]
        },
        {
          "output_type": "stream",
          "name": "stderr",
          "text": [
            "\r 60%|██████    | 6/10 [01:01<00:36,  9.15s/it]"
          ]
        },
        {
          "output_type": "stream",
          "name": "stdout",
          "text": [
            "\tEpoch: 6, Loss: 0.5353, Accuracy: 83.16%\n"
          ]
        },
        {
          "output_type": "stream",
          "name": "stderr",
          "text": [
            "\r 70%|███████   | 7/10 [01:09<00:26,  8.77s/it]"
          ]
        },
        {
          "output_type": "stream",
          "name": "stdout",
          "text": [
            "\tEpoch: 7, Loss: 0.5289, Accuracy: 83.73%\n"
          ]
        },
        {
          "output_type": "stream",
          "name": "stderr",
          "text": [
            "\r 80%|████████  | 8/10 [01:17<00:17,  8.75s/it]"
          ]
        },
        {
          "output_type": "stream",
          "name": "stdout",
          "text": [
            "\tEpoch: 8, Loss: 0.5251, Accuracy: 83.4%\n"
          ]
        },
        {
          "output_type": "stream",
          "name": "stderr",
          "text": [
            "\r 90%|█████████ | 9/10 [01:26<00:08,  8.78s/it]"
          ]
        },
        {
          "output_type": "stream",
          "name": "stdout",
          "text": [
            "\tEpoch: 9, Loss: 0.5221, Accuracy: 83.65%\n"
          ]
        },
        {
          "output_type": "stream",
          "name": "stderr",
          "text": [
            "100%|██████████| 10/10 [01:34<00:00,  9.49s/it]"
          ]
        },
        {
          "output_type": "stream",
          "name": "stdout",
          "text": [
            "\tEpoch: 10, Loss: 0.516, Accuracy: 83.62%\n"
          ]
        },
        {
          "output_type": "stream",
          "name": "stderr",
          "text": [
            "\n"
          ]
        }
      ]
    },
    {
      "cell_type": "markdown",
      "source": [
        "*Reusing the same code and changing only the model to be trained...*"
      ],
      "metadata": {
        "id": "mZ38cnMe4OU1"
      }
    },
    {
      "cell_type": "code",
      "source": [
        "model = FashionCNN(IMAGE_CHANNELS, NUM_LABELS).to(device)\n",
        "\n",
        "# Recreate the optimizer (with the new params) and the scaler rate (that was updated in the first training)\n",
        "optimizer = AdamW(model.parameters(), lr=learning_rate)\n",
        "scaler = GradScaler()\n",
        "\n",
        "tuned_cnn = train_model(model, num_epochs, train_loader, test_loader, criterion, optimizer, scaler, device)"
      ],
      "metadata": {
        "colab": {
          "base_uri": "https://localhost:8080/"
        },
        "id": "no5r9kSK0ttc",
        "outputId": "7ef3b879-a553-44dc-82eb-73e53eb0a051"
      },
      "execution_count": null,
      "outputs": [
        {
          "output_type": "stream",
          "name": "stderr",
          "text": [
            " 10%|█         | 1/10 [00:11<01:43, 11.48s/it]"
          ]
        },
        {
          "output_type": "stream",
          "name": "stdout",
          "text": [
            "\tEpoch: 1, Loss: 0.4288, Accuracy: 86.07%\n"
          ]
        },
        {
          "output_type": "stream",
          "name": "stderr",
          "text": [
            "\r 20%|██        | 2/10 [00:22<01:29, 11.14s/it]"
          ]
        },
        {
          "output_type": "stream",
          "name": "stdout",
          "text": [
            "\tEpoch: 2, Loss: 0.2919, Accuracy: 87.65%\n"
          ]
        },
        {
          "output_type": "stream",
          "name": "stderr",
          "text": [
            "\r 30%|███       | 3/10 [00:32<01:14, 10.66s/it]"
          ]
        },
        {
          "output_type": "stream",
          "name": "stdout",
          "text": [
            "\tEpoch: 3, Loss: 0.2544, Accuracy: 88.25%\n"
          ]
        },
        {
          "output_type": "stream",
          "name": "stderr",
          "text": [
            "\r 40%|████      | 4/10 [00:42<01:03, 10.54s/it]"
          ]
        },
        {
          "output_type": "stream",
          "name": "stdout",
          "text": [
            "\tEpoch: 4, Loss: 0.2322, Accuracy: 88.4%\n"
          ]
        },
        {
          "output_type": "stream",
          "name": "stderr",
          "text": [
            "\r 50%|█████     | 5/10 [00:52<00:51, 10.36s/it]"
          ]
        },
        {
          "output_type": "stream",
          "name": "stdout",
          "text": [
            "\tEpoch: 5, Loss: 0.2124, Accuracy: 90.68%\n"
          ]
        },
        {
          "output_type": "stream",
          "name": "stderr",
          "text": [
            "\r 60%|██████    | 6/10 [01:03<00:41, 10.29s/it]"
          ]
        },
        {
          "output_type": "stream",
          "name": "stdout",
          "text": [
            "\tEpoch: 6, Loss: 0.1957, Accuracy: 90.04%\n"
          ]
        },
        {
          "output_type": "stream",
          "name": "stderr",
          "text": [
            "\r 70%|███████   | 7/10 [01:12<00:30, 10.03s/it]"
          ]
        },
        {
          "output_type": "stream",
          "name": "stdout",
          "text": [
            "\tEpoch: 7, Loss: 0.1802, Accuracy: 90.61%\n"
          ]
        },
        {
          "output_type": "stream",
          "name": "stderr",
          "text": [
            "\r 80%|████████  | 8/10 [01:22<00:20, 10.09s/it]"
          ]
        },
        {
          "output_type": "stream",
          "name": "stdout",
          "text": [
            "\tEpoch: 8, Loss: 0.1697, Accuracy: 90.39%\n"
          ]
        },
        {
          "output_type": "stream",
          "name": "stderr",
          "text": [
            "\r 90%|█████████ | 9/10 [01:32<00:10, 10.07s/it]"
          ]
        },
        {
          "output_type": "stream",
          "name": "stdout",
          "text": [
            "\tEpoch: 9, Loss: 0.1574, Accuracy: 89.91%\n"
          ]
        },
        {
          "output_type": "stream",
          "name": "stderr",
          "text": [
            "100%|██████████| 10/10 [01:43<00:00, 10.34s/it]"
          ]
        },
        {
          "output_type": "stream",
          "name": "stdout",
          "text": [
            "\tEpoch: 10, Loss: 0.1503, Accuracy: 90.01%\n"
          ]
        },
        {
          "output_type": "stream",
          "name": "stderr",
          "text": [
            "\n"
          ]
        }
      ]
    }
  ]
}